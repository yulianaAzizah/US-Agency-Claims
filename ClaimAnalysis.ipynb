{
 "cells": [
  {
   "cell_type": "markdown",
   "metadata": {},
   "source": [
    "# <center> **INTRODUCTION** <center/>\n",
    "----\n",
    "---"
   ]
  },
  {
   "cell_type": "markdown",
   "metadata": {},
   "source": [
    "## Latar Belakang\n",
    "_Transportation Security Administration_ (TSA), merupakan bagian dari sistem keamanan bandara di Amerika. TSA dirancang untuk menjaga keamanan bandara komersil dan bagasi di seluruh wilayah Amerika. TSA menetapkan standar tinggi soal keamanan. Seluruh penumpang akan diperiksa oleh agen TSA sebelum mereka melanjutkan perjalanan.\n",
    "\n",
    "Setelah pemeriksaan, apabila terjadi kerusakan dan atau kehilangan, penumpang dapat mengajukan claim untuk penggantian kerusakan dan kehilangan tersebut. Semenjak TSA terbentuk dan sistem mulai berjalah, dari tahun 2002 claim yang diajukan sangatlah tinggi dari tahun ke tahun hingga data yang akan di analisis saat ini yaitu tahun 2015. Claim yang diajukan pun berbagai macam, mulai dari kehilangan barang setelah pengecekan, kerusakan bagasi, dan berbagai macam permasalahan lainnya."
   ]
  },
  {
   "cell_type": "markdown",
   "metadata": {},
   "source": [
    "## Pernyataan Masalah\n",
    "\n",
    "Angka claim tinggi yang diajukan oleh penumpang ke pihak TSA menjadi _concern_ pihak TSA. TSA harus segera melakukan tindakan untuk memecahkan masalah tersebut. TSA dapat melakukan berbagai macam improvement untuk dapat menekan angka permasalahan claim tersebut. Tinggi nya claim yang diajukan sangat berdampak pada biaya yang harus dikeluarkan oleh TSA untuk melakukan ganti rugi. Dalam kondisi ini, TSA tidak mengetahui titik masalah terjadinya claim yang tinggi. Sedangkan improvement yang akan dilakukan harus tepat sasaran sehingga dapat berdampak signifikan.\n",
    "\n",
    "Pada project ini akan dilakukan analisis terhadap permasalahan tingginya angka klaim tersebut. Hasil dari analisis ini dapat digunakan sebagai dasar TSA untuk melakukan improvement dan dapat menurunkan angka klaim yang diajukan oleh penumpang."
   ]
  },
  {
   "cell_type": "markdown",
   "metadata": {},
   "source": [
    "# <center> **DATA UNDERSTANDING** <center/>\n",
    "---\n",
    "---"
   ]
  },
  {
   "cell_type": "markdown",
   "metadata": {},
   "source": [
    "Untuk menjawab permasalahan diatas, akan dilakukan analisis terhadap data claim yang terekam pada _database_ sistem yang digunakan oleh TSA. Database claim TSA data dapat didownload [di sini](https://www.kaggle.com/datasets/terminal-security-agency/tsa-claims-database/download)"
   ]
  },
  {
   "cell_type": "code",
   "execution_count": 1,
   "metadata": {},
   "outputs": [],
   "source": [
    "import pandas as pd\n",
    "import matplotlib.pyplot as plt\n",
    "import seaborn as sns\n",
    "from scipy.stats import normaltest, chi2_contingency, mannwhitneyu, ttest_ind, wilcoxon\n",
    "\n",
    "import warnings\n",
    "warnings.filterwarnings(\"ignore\")"
   ]
  },
  {
   "cell_type": "code",
   "execution_count": 2,
   "metadata": {},
   "outputs": [
    {
     "data": {
      "text/html": [
       "<div>\n",
       "<style scoped>\n",
       "    .dataframe tbody tr th:only-of-type {\n",
       "        vertical-align: middle;\n",
       "    }\n",
       "\n",
       "    .dataframe tbody tr th {\n",
       "        vertical-align: top;\n",
       "    }\n",
       "\n",
       "    .dataframe thead th {\n",
       "        text-align: right;\n",
       "    }\n",
       "</style>\n",
       "<table border=\"1\" class=\"dataframe\">\n",
       "  <thead>\n",
       "    <tr style=\"text-align: right;\">\n",
       "      <th></th>\n",
       "      <th>Claim Number</th>\n",
       "      <th>Date Received</th>\n",
       "      <th>Incident Date</th>\n",
       "      <th>Airport Code</th>\n",
       "      <th>Airport Name</th>\n",
       "      <th>Airline Name</th>\n",
       "      <th>Claim Type</th>\n",
       "      <th>Claim Site</th>\n",
       "      <th>Item</th>\n",
       "      <th>Claim Amount</th>\n",
       "      <th>Status</th>\n",
       "      <th>Close Amount</th>\n",
       "      <th>Disposition</th>\n",
       "    </tr>\n",
       "  </thead>\n",
       "  <tbody>\n",
       "    <tr>\n",
       "      <th>0</th>\n",
       "      <td>0909802M</td>\n",
       "      <td>4-Jan-02</td>\n",
       "      <td>12/12/2002 0:00</td>\n",
       "      <td>EWR</td>\n",
       "      <td>Newark International Airport</td>\n",
       "      <td>Continental Airlines</td>\n",
       "      <td>Property Damage</td>\n",
       "      <td>Checkpoint</td>\n",
       "      <td>Other</td>\n",
       "      <td>$350.00</td>\n",
       "      <td>Approved</td>\n",
       "      <td>$350.00</td>\n",
       "      <td>Approve in Full</td>\n",
       "    </tr>\n",
       "    <tr>\n",
       "      <th>1</th>\n",
       "      <td>0202417M</td>\n",
       "      <td>2-Feb-02</td>\n",
       "      <td>1/16/2004 0:00</td>\n",
       "      <td>SEA</td>\n",
       "      <td>Seattle-Tacoma International</td>\n",
       "      <td>NaN</td>\n",
       "      <td>Property Damage</td>\n",
       "      <td>Checked Baggage</td>\n",
       "      <td>Luggage (all types including footlockers)</td>\n",
       "      <td>$100.00</td>\n",
       "      <td>Settled</td>\n",
       "      <td>$50.00</td>\n",
       "      <td>Settle</td>\n",
       "    </tr>\n",
       "    <tr>\n",
       "      <th>2</th>\n",
       "      <td>0202445M</td>\n",
       "      <td>4-Feb-02</td>\n",
       "      <td>11/26/2003 0:00</td>\n",
       "      <td>STL</td>\n",
       "      <td>Lambert St. Louis International</td>\n",
       "      <td>American Airlines</td>\n",
       "      <td>Property Damage</td>\n",
       "      <td>Checked Baggage</td>\n",
       "      <td>Cell Phones</td>\n",
       "      <td>$278.88</td>\n",
       "      <td>Settled</td>\n",
       "      <td>$227.92</td>\n",
       "      <td>Settle</td>\n",
       "    </tr>\n",
       "    <tr>\n",
       "      <th>3</th>\n",
       "      <td>0909816M</td>\n",
       "      <td>7-Feb-02</td>\n",
       "      <td>1/6/2003 0:00</td>\n",
       "      <td>MIA</td>\n",
       "      <td>Miami International Airport</td>\n",
       "      <td>American Airlines</td>\n",
       "      <td>Property Damage</td>\n",
       "      <td>Checkpoint</td>\n",
       "      <td>Luggage (all types including footlockers)</td>\n",
       "      <td>$50.00</td>\n",
       "      <td>Approved</td>\n",
       "      <td>$50.00</td>\n",
       "      <td>Approve in Full</td>\n",
       "    </tr>\n",
       "    <tr>\n",
       "      <th>4</th>\n",
       "      <td>2005032379513</td>\n",
       "      <td>18-Feb-02</td>\n",
       "      <td>2/5/2005 0:00</td>\n",
       "      <td>MCO</td>\n",
       "      <td>Orlando International Airport</td>\n",
       "      <td>Delta (Song)</td>\n",
       "      <td>Property Damage</td>\n",
       "      <td>Checkpoint</td>\n",
       "      <td>Baby - Strollers; car seats; playpen; etc.</td>\n",
       "      <td>$84.79</td>\n",
       "      <td>Approved</td>\n",
       "      <td>$84.79</td>\n",
       "      <td>Approve in Full</td>\n",
       "    </tr>\n",
       "  </tbody>\n",
       "</table>\n",
       "</div>"
      ],
      "text/plain": [
       "    Claim Number Date Received    Incident Date Airport Code  \\\n",
       "0       0909802M      4-Jan-02  12/12/2002 0:00          EWR   \n",
       "1       0202417M      2-Feb-02   1/16/2004 0:00          SEA   \n",
       "2       0202445M      4-Feb-02  11/26/2003 0:00          STL   \n",
       "3       0909816M      7-Feb-02    1/6/2003 0:00          MIA   \n",
       "4  2005032379513     18-Feb-02    2/5/2005 0:00          MCO   \n",
       "\n",
       "                      Airport Name          Airline Name       Claim Type  \\\n",
       "0     Newark International Airport  Continental Airlines  Property Damage   \n",
       "1     Seattle-Tacoma International                   NaN  Property Damage   \n",
       "2  Lambert St. Louis International     American Airlines  Property Damage   \n",
       "3      Miami International Airport     American Airlines  Property Damage   \n",
       "4    Orlando International Airport          Delta (Song)  Property Damage   \n",
       "\n",
       "        Claim Site                                        Item Claim Amount  \\\n",
       "0       Checkpoint                                       Other     $350.00    \n",
       "1  Checked Baggage   Luggage (all types including footlockers)     $100.00    \n",
       "2  Checked Baggage                                 Cell Phones     $278.88    \n",
       "3       Checkpoint   Luggage (all types including footlockers)      $50.00    \n",
       "4       Checkpoint  Baby - Strollers; car seats; playpen; etc.      $84.79    \n",
       "\n",
       "     Status Close Amount      Disposition  \n",
       "0  Approved     $350.00   Approve in Full  \n",
       "1   Settled      $50.00            Settle  \n",
       "2   Settled     $227.92            Settle  \n",
       "3  Approved      $50.00   Approve in Full  \n",
       "4  Approved      $84.79   Approve in Full  "
      ]
     },
     "metadata": {},
     "output_type": "display_data"
    },
    {
     "data": {
      "text/html": [
       "<div>\n",
       "<style scoped>\n",
       "    .dataframe tbody tr th:only-of-type {\n",
       "        vertical-align: middle;\n",
       "    }\n",
       "\n",
       "    .dataframe tbody tr th {\n",
       "        vertical-align: top;\n",
       "    }\n",
       "\n",
       "    .dataframe thead th {\n",
       "        text-align: right;\n",
       "    }\n",
       "</style>\n",
       "<table border=\"1\" class=\"dataframe\">\n",
       "  <thead>\n",
       "    <tr style=\"text-align: right;\">\n",
       "      <th></th>\n",
       "      <th>Claim Number</th>\n",
       "      <th>Date Received</th>\n",
       "      <th>Incident Date</th>\n",
       "      <th>Airport Code</th>\n",
       "      <th>Airport Name</th>\n",
       "      <th>Airline Name</th>\n",
       "      <th>Claim Type</th>\n",
       "      <th>Claim Site</th>\n",
       "      <th>Item</th>\n",
       "      <th>Claim Amount</th>\n",
       "      <th>Status</th>\n",
       "      <th>Close Amount</th>\n",
       "      <th>Disposition</th>\n",
       "    </tr>\n",
       "  </thead>\n",
       "  <tbody>\n",
       "    <tr>\n",
       "      <th>204262</th>\n",
       "      <td>2015120427297</td>\n",
       "      <td>20-Nov-15</td>\n",
       "      <td>16-Oct-15</td>\n",
       "      <td>-</td>\n",
       "      <td>-</td>\n",
       "      <td>-</td>\n",
       "      <td>Property Damage</td>\n",
       "      <td>Checked Baggage</td>\n",
       "      <td>Baggage/Cases/Purses; Books; Magazines &amp; Other...</td>\n",
       "      <td>-</td>\n",
       "      <td>-</td>\n",
       "      <td>NaN</td>\n",
       "      <td>NaN</td>\n",
       "    </tr>\n",
       "    <tr>\n",
       "      <th>204263</th>\n",
       "      <td>2015123027969</td>\n",
       "      <td>17-Dec-15</td>\n",
       "      <td>2-Dec-15</td>\n",
       "      <td>-</td>\n",
       "      <td>-</td>\n",
       "      <td>-</td>\n",
       "      <td>Property Damage</td>\n",
       "      <td>Checked Baggage</td>\n",
       "      <td>Audio/Video; Home Decor</td>\n",
       "      <td>-</td>\n",
       "      <td>-</td>\n",
       "      <td>NaN</td>\n",
       "      <td>NaN</td>\n",
       "    </tr>\n",
       "    <tr>\n",
       "      <th>204264</th>\n",
       "      <td>2016010428072</td>\n",
       "      <td>22-Dec-15</td>\n",
       "      <td>20-Dec-15</td>\n",
       "      <td>-</td>\n",
       "      <td>-</td>\n",
       "      <td>-</td>\n",
       "      <td>Passenger Property Loss</td>\n",
       "      <td>Checked Baggage</td>\n",
       "      <td>Clothing</td>\n",
       "      <td>-</td>\n",
       "      <td>-</td>\n",
       "      <td>NaN</td>\n",
       "      <td>NaN</td>\n",
       "    </tr>\n",
       "    <tr>\n",
       "      <th>204265</th>\n",
       "      <td>2016011328300</td>\n",
       "      <td>30-Dec-15</td>\n",
       "      <td>28-Dec-15</td>\n",
       "      <td>-</td>\n",
       "      <td>-</td>\n",
       "      <td>-</td>\n",
       "      <td>Passenger Property Loss</td>\n",
       "      <td>Checked Baggage</td>\n",
       "      <td>Tools &amp; Home Improvement Supplies</td>\n",
       "      <td>-</td>\n",
       "      <td>-</td>\n",
       "      <td>NaN</td>\n",
       "      <td>NaN</td>\n",
       "    </tr>\n",
       "    <tr>\n",
       "      <th>204266</th>\n",
       "      <td>2015123128015</td>\n",
       "      <td>31-Dec-15</td>\n",
       "      <td>23-Nov-15</td>\n",
       "      <td>-</td>\n",
       "      <td>-</td>\n",
       "      <td>-</td>\n",
       "      <td>Passenger Property Loss</td>\n",
       "      <td>Checkpoint</td>\n",
       "      <td>Personal Accessories</td>\n",
       "      <td>-</td>\n",
       "      <td>-</td>\n",
       "      <td>NaN</td>\n",
       "      <td>NaN</td>\n",
       "    </tr>\n",
       "  </tbody>\n",
       "</table>\n",
       "</div>"
      ],
      "text/plain": [
       "         Claim Number Date Received Incident Date Airport Code Airport Name  \\\n",
       "204262  2015120427297     20-Nov-15     16-Oct-15            -            -   \n",
       "204263  2015123027969     17-Dec-15      2-Dec-15            -            -   \n",
       "204264  2016010428072     22-Dec-15     20-Dec-15            -            -   \n",
       "204265  2016011328300     30-Dec-15     28-Dec-15            -            -   \n",
       "204266  2015123128015     31-Dec-15     23-Nov-15            -            -   \n",
       "\n",
       "       Airline Name               Claim Type       Claim Site  \\\n",
       "204262            -          Property Damage  Checked Baggage   \n",
       "204263            -          Property Damage  Checked Baggage   \n",
       "204264            -  Passenger Property Loss  Checked Baggage   \n",
       "204265            -  Passenger Property Loss  Checked Baggage   \n",
       "204266            -  Passenger Property Loss       Checkpoint   \n",
       "\n",
       "                                                     Item Claim Amount Status  \\\n",
       "204262  Baggage/Cases/Purses; Books; Magazines & Other...            -      -   \n",
       "204263                            Audio/Video; Home Decor            -      -   \n",
       "204264                                           Clothing            -      -   \n",
       "204265                  Tools & Home Improvement Supplies            -      -   \n",
       "204266                               Personal Accessories            -      -   \n",
       "\n",
       "       Close Amount Disposition  \n",
       "204262          NaN         NaN  \n",
       "204263          NaN         NaN  \n",
       "204264          NaN         NaN  \n",
       "204265          NaN         NaN  \n",
       "204266          NaN         NaN  "
      ]
     },
     "metadata": {},
     "output_type": "display_data"
    }
   ],
   "source": [
    "df=pd.read_csv('tsa_claims.csv')\n",
    "display(df.head(),df.tail())"
   ]
  },
  {
   "cell_type": "code",
   "execution_count": 3,
   "metadata": {},
   "outputs": [
    {
     "name": "stdout",
     "output_type": "stream",
     "text": [
      "Jumlah Baris dan Kolom di Dataset df Adalah (204267, 13)\n",
      "<class 'pandas.core.frame.DataFrame'>\n",
      "RangeIndex: 204267 entries, 0 to 204266\n",
      "Data columns (total 13 columns):\n",
      " #   Column         Non-Null Count   Dtype \n",
      "---  ------         --------------   ----- \n",
      " 0   Claim Number   204267 non-null  object\n",
      " 1   Date Received  204004 non-null  object\n",
      " 2   Incident Date  202084 non-null  object\n",
      " 3   Airport Code   195743 non-null  object\n",
      " 4   Airport Name   195743 non-null  object\n",
      " 5   Airline Name   169893 non-null  object\n",
      " 6   Claim Type     196354 non-null  object\n",
      " 7   Claim Site     203527 non-null  object\n",
      " 8   Item           200301 non-null  object\n",
      " 9   Claim Amount   200224 non-null  object\n",
      " 10  Status         204262 non-null  object\n",
      " 11  Close Amount   135315 non-null  object\n",
      " 12  Disposition    131359 non-null  object\n",
      "dtypes: object(13)\n",
      "memory usage: 20.3+ MB\n"
     ]
    }
   ],
   "source": [
    "print(f'Jumlah Baris dan Kolom di Dataset df Adalah {df.shape}')\n",
    "df.info()"
   ]
  },
  {
   "cell_type": "code",
   "execution_count": 4,
   "metadata": {},
   "outputs": [
    {
     "data": {
      "text/html": [
       "<div>\n",
       "<style scoped>\n",
       "    .dataframe tbody tr th:only-of-type {\n",
       "        vertical-align: middle;\n",
       "    }\n",
       "\n",
       "    .dataframe tbody tr th {\n",
       "        vertical-align: top;\n",
       "    }\n",
       "\n",
       "    .dataframe thead th {\n",
       "        text-align: right;\n",
       "    }\n",
       "</style>\n",
       "<table border=\"1\" class=\"dataframe\">\n",
       "  <thead>\n",
       "    <tr style=\"text-align: right;\">\n",
       "      <th></th>\n",
       "      <th>Claim Number</th>\n",
       "      <th>Date Received</th>\n",
       "      <th>Incident Date</th>\n",
       "      <th>Airport Code</th>\n",
       "      <th>Airport Name</th>\n",
       "      <th>Airline Name</th>\n",
       "      <th>Claim Type</th>\n",
       "      <th>Claim Site</th>\n",
       "      <th>Item</th>\n",
       "      <th>Claim Amount</th>\n",
       "      <th>Status</th>\n",
       "      <th>Close Amount</th>\n",
       "      <th>Disposition</th>\n",
       "    </tr>\n",
       "  </thead>\n",
       "  <tbody>\n",
       "    <tr>\n",
       "      <th>count</th>\n",
       "      <td>204267</td>\n",
       "      <td>204004</td>\n",
       "      <td>202084</td>\n",
       "      <td>195743</td>\n",
       "      <td>195743</td>\n",
       "      <td>169893</td>\n",
       "      <td>196354</td>\n",
       "      <td>203527</td>\n",
       "      <td>200301</td>\n",
       "      <td>200224</td>\n",
       "      <td>204262</td>\n",
       "      <td>135315</td>\n",
       "      <td>131359</td>\n",
       "    </tr>\n",
       "    <tr>\n",
       "      <th>unique</th>\n",
       "      <td>204258</td>\n",
       "      <td>4007</td>\n",
       "      <td>26807</td>\n",
       "      <td>465</td>\n",
       "      <td>485</td>\n",
       "      <td>318</td>\n",
       "      <td>11</td>\n",
       "      <td>6</td>\n",
       "      <td>4704</td>\n",
       "      <td>36117</td>\n",
       "      <td>15</td>\n",
       "      <td>17162</td>\n",
       "      <td>3</td>\n",
       "    </tr>\n",
       "    <tr>\n",
       "      <th>top</th>\n",
       "      <td>2013121110011</td>\n",
       "      <td>5-Dec-03</td>\n",
       "      <td>12/27/2004 0:00</td>\n",
       "      <td>LAX</td>\n",
       "      <td>John F. Kennedy International</td>\n",
       "      <td>American Airlines</td>\n",
       "      <td>Passenger Property Loss</td>\n",
       "      <td>Checked Baggage</td>\n",
       "      <td>Other</td>\n",
       "      <td>$0.00</td>\n",
       "      <td>Denied</td>\n",
       "      <td>$0.00</td>\n",
       "      <td>Deny</td>\n",
       "    </tr>\n",
       "    <tr>\n",
       "      <th>freq</th>\n",
       "      <td>2</td>\n",
       "      <td>682</td>\n",
       "      <td>144</td>\n",
       "      <td>9596</td>\n",
       "      <td>9232</td>\n",
       "      <td>17553</td>\n",
       "      <td>117868</td>\n",
       "      <td>159753</td>\n",
       "      <td>36908</td>\n",
       "      <td>28445</td>\n",
       "      <td>68339</td>\n",
       "      <td>71546</td>\n",
       "      <td>68382</td>\n",
       "    </tr>\n",
       "  </tbody>\n",
       "</table>\n",
       "</div>"
      ],
      "text/plain": [
       "         Claim Number Date Received    Incident Date Airport Code  \\\n",
       "count          204267        204004           202084       195743   \n",
       "unique         204258          4007            26807          465   \n",
       "top     2013121110011      5-Dec-03  12/27/2004 0:00          LAX   \n",
       "freq                2           682              144         9596   \n",
       "\n",
       "                         Airport Name       Airline Name  \\\n",
       "count                          195743             169893   \n",
       "unique                            485                318   \n",
       "top     John F. Kennedy International  American Airlines   \n",
       "freq                             9232              17553   \n",
       "\n",
       "                     Claim Type       Claim Site    Item Claim Amount  Status  \\\n",
       "count                    196354           203527  200301       200224  204262   \n",
       "unique                       11                6    4704        36117      15   \n",
       "top     Passenger Property Loss  Checked Baggage   Other       $0.00   Denied   \n",
       "freq                     117868           159753   36908        28445   68339   \n",
       "\n",
       "       Close Amount Disposition  \n",
       "count        135315      131359  \n",
       "unique        17162           3  \n",
       "top          $0.00         Deny  \n",
       "freq          71546       68382  "
      ]
     },
     "execution_count": 4,
     "metadata": {},
     "output_type": "execute_result"
    }
   ],
   "source": [
    "df.describe()"
   ]
  },
  {
   "cell_type": "markdown",
   "metadata": {},
   "source": [
    "## Data Overview\n",
    "Hasil diatas menampilkan dataset claim TSA, dapat dilihat bahwa terdapat 13 kolom dan 204.267 baris. Berikut merupakan informasi umum sebagai gambaran dari dataset claim TSA  :\n",
    "\n",
    "**Deskripsi Kolom**\n",
    "\n",
    "| Kolom | Keterangan \n",
    "|---|---|\n",
    "| Claim Number  | Merupakan nomer registrasi / ID untuk tiap-tiap klaim\n",
    "| Date Received | Tanggal diterimanya laporan\n",
    "| Incident Date | Tanggal terjadinya insiden\n",
    "| Airport Code  | Kode untuk tiap airport\n",
    "| Airport Name\t| Nama airport\n",
    "| Airline Name  | Nama pesawat\n",
    "| Claim Type\t| Jenis klaim yang diajukan\n",
    "| Claim Site\t| Lokasi terjadinya insiden\n",
    "| Item\t        | Barang yang diklaim\n",
    "| Claim Amount\t| Jumlah nilai klaim yang diajukan\n",
    "| Status\t    | Status klaim\n",
    "| Close Amount\t| Jumlah nilai klaim yang dibayarkan\n",
    "| Disposition   | Status klaim terakhir\n",
    "\n",
    "\n",
    "Data statistik hanya dapat menampilkan informasi berupa count, uniqe total, top, dan frequensi. Hal ini karena semua informasi yang terdapat di database bertipe kategorikal. Jika kita lihat beberapa kolom harus kita ubah tipe datanya sehingga dapat memberikan informasi dan analisa statistik lainnya. Selain itu untuk masing-masing kolom terdapat cukup banyak data uniqe yang ditampilkan. Selanjutnya kita akan melakukan pengecekan terhadap data uniqe tersebut.\n",
    "\n",
    "Proses ini kita lakukan untuk melihat anomali apa saja yang terdapat di dalam dataset kita, sehingga kita dapat mengambil langkah yang tepat dalam melakukan *data cleaning*"
   ]
  },
  {
   "cell_type": "code",
   "execution_count": 5,
   "metadata": {},
   "outputs": [
    {
     "data": {
      "text/html": [
       "<div>\n",
       "<style scoped>\n",
       "    .dataframe tbody tr th:only-of-type {\n",
       "        vertical-align: middle;\n",
       "    }\n",
       "\n",
       "    .dataframe tbody tr th {\n",
       "        vertical-align: top;\n",
       "    }\n",
       "\n",
       "    .dataframe thead th {\n",
       "        text-align: right;\n",
       "    }\n",
       "</style>\n",
       "<table border=\"1\" class=\"dataframe\">\n",
       "  <thead>\n",
       "    <tr style=\"text-align: right;\">\n",
       "      <th></th>\n",
       "      <th>Column Name</th>\n",
       "      <th>Number of Unique</th>\n",
       "      <th>Unique Sample</th>\n",
       "    </tr>\n",
       "  </thead>\n",
       "  <tbody>\n",
       "    <tr>\n",
       "      <th>0</th>\n",
       "      <td>Claim Number</td>\n",
       "      <td>204258</td>\n",
       "      <td>[0909802M, 0202417M, 0202445M, 0909816M, 2005032379513, 2005032479636, 2007050124750, 12772, 14268, 2004102965797, 2005071188575, 2005070788431, 14460, 13334, 0616771L, 15242, 15324, 15361, 0616636L, 0714534M, 0616540L, 16410, 0616723L, 2004092763985, 16403, 0702564M, 16759, 0616777L, 15352, 14907, 17892, 17846, 17201, 2004050550501, 18170, 18202, 18193, 18222, 18171, 18274, 0616726L, 18315, 16961, 17666, 18141, 18301, 0909839M, 15542, 18065, 18109, 18098, 18101, 18394, 0616699L, 18438, 18620, 21003, 21021, 0616631L, 18221, 0616675L, 18804, 0616760L, 18917, 18919, 21134, 19009, 0616624L, 20887, 21013, 19029, 18966, 19133, 23663, 0616802L, 15769, 18181, 23623, 0702504M, 0714563M, 0616579L, 23284, 18386, 18908, 23278, 21111, 21254, 0714547M, 19239, 19039, 19078, 20938, 21052, 21053, 21054, 21253, 0616528L, 19229, 20937, 0616610L, ...]</td>\n",
       "    </tr>\n",
       "    <tr>\n",
       "      <th>1</th>\n",
       "      <td>Date Received</td>\n",
       "      <td>4007</td>\n",
       "      <td>[4-Jan-02, 2-Feb-02, 4-Feb-02, 7-Feb-02, 18-Feb-02, 30-Apr-02, 20-Jun-02, 25-Jun-02, 6-Jul-02, 7-Jul-02, 8-Jul-02, 12-Jul-02, 15-Jul-02, 18-Jul-02, 22-Jul-02, 24-Jul-02, 5-Aug-02, 8-Aug-02, 12-Aug-02, 19-Aug-02, 21-Aug-02, 9-Sep-02, 11-Sep-02, 16-Sep-02, 18-Sep-02, 19-Sep-02, 20-Sep-02, 23-Sep-02, 24-Sep-02, 25-Sep-02, 26-Sep-02, 27-Sep-02, 30-Sep-02, 2-Oct-02, 5-Oct-02, 7-Oct-02, 8-Oct-02, 9-Oct-02, 10-Oct-02, 11-Oct-02, 15-Oct-02, 17-Oct-02, 18-Oct-02, 19-Oct-02, 21-Oct-02, 22-Oct-02, 23-Oct-02, 25-Oct-02, 28-Oct-02, 29-Oct-02, 31-Oct-02, 1-Nov-02, 4-Nov-02, 5-Nov-02, 6-Nov-02, 7-Nov-02, 8-Nov-02, 9-Nov-02, 12-Nov-02, 13-Nov-02, 14-Nov-02, 15-Nov-02, 16-Nov-02, 18-Nov-02, 19-Nov-02, 20-Nov-02, 21-Nov-02, 22-Nov-02, 24-Nov-02, 25-Nov-02, 26-Nov-02, 27-Nov-02, 29-Nov-02, 2-Dec-02, 3-Dec-02, 4-Dec-02, 5-Dec-02, 6-Dec-02, 9-Dec-02, 10-Dec-02, 11-Dec-02, 12-Dec-02, 13-Dec-02, 16-Dec-02, 17-Dec-02, 18-Dec-02, 19-Dec-02, 20-Dec-02, 21-Dec-02, 23-Dec-02, 24-Dec-02, 26-Dec-02, 27-Dec-02, 30-Dec-02, 31-Dec-02, 2-Jan-03, 3-Jan-03, 5-Jan-03, 6-Jan-03, 7-Jan-03, ...]</td>\n",
       "    </tr>\n",
       "    <tr>\n",
       "      <th>2</th>\n",
       "      <td>Incident Date</td>\n",
       "      <td>26807</td>\n",
       "      <td>[12/12/2002 0:00, 1/16/2004 0:00, 11/26/2003 0:00, 1/6/2003 0:00, 2/5/2005 0:00, 2/17/2005 0:00, 4/26/2007 0:00, 5/9/2002 0:00, 6/16/2002 0:00, 5/4/2002 0:00, 6/23/2005 0:00, 6/17/2005 0:00, 6/12/2002 0:00, 6/4/2002 0:00, nan, 5/31/2002 0:00, 3/11/2002 0:00, 3/6/2002 0:00, 7/10/2002 0:00, 7/26/2002 0:00, 7/19/2002 0:00, 6/22/2002 0:00, 7/12/2002 0:00, 7/13/2002 0:00, 6/28/2002 0:00, 8/23/2002 0:00, 8/30/2002 0:00, 8/19/2002 0:00, 8/5/2002 0:00, 8/2/2002 0:00, 8/12/2002 0:00, 7/28/2002 0:00, 7/23/2002 0:00, 8/16/2002 0:00, 8/13/2002 0:00, 9/1/2002 0:00, 8/14/2002 0:00, 12/31/2002 0:00, 7/1/2002 0:00, 8/20/2002 0:00, 8/21/2002 0:00, 8/24/2002 0:00, 7/27/2002 0:00, 8/31/2002 0:00, 8/15/2002 0:00, 9/12/2002 0:00, 8/29/2002 0:00, 9/10/2002 0:00, 7/31/2002 0:00, 8/3/2002 0:00, 8/21/2003 0:00, 9/3/2002 0:00, 9/26/2002 0:00, 8/22/2002 0:00, 8/7/2002 0:00, 7/18/2002 0:00, 9/8/2002 0:00, 9/9/2002 0:00, 9/25/2002 0:00, 4/10/2002 0:00, 10/7/2002 0:00, 9/29/2002 0:00, 9/20/2002 0:00, 9/24/2002 0:00, 9/27/2002 0:00, 9/22/2002 0:00, 9/15/2002 0:00, 10/2/2002 0:00, 9/28/2002 0:00, 9/13/2002 0:00, 9/14/2002 0:00, 8/9/2002 0:00, 10/19/2002 0:00, 10/3/2002 0:00, 9/21/2002 0:00, 10/14/2002 0:00, 10/13/2002 0:00, 8/28/2002 0:00, 10/1/2002 0:00, 10/6/2002 0:00, 10/8/2002 0:00, 9/18/2002 0:00, 10/10/2002 0:00, 10/9/2002 0:00, 10/20/2002 0:00, 9/11/2002 0:00, 10/16/2002 0:00, 10/5/2002 0:00, 10/15/2002 0:00, 10/27/2002 0:00, 10/18/2002 0:00, 10/22/2002 0:00, 10/21/2002 0:00, 10/23/2002 0:00, 10/7/2004 0:00, 7/24/2002 0:00, 10/28/2002 0:00, 9/19/2002 0:00, 10/26/2002 0:00, 9/30/2002 0:00, ...]</td>\n",
       "    </tr>\n",
       "    <tr>\n",
       "      <th>3</th>\n",
       "      <td>Airport Code</td>\n",
       "      <td>465</td>\n",
       "      <td>[EWR, SEA, STL, MIA, MCO, CAK, PHL, BWI, PHX, ATL, ORD, CLT, nan, SDF, RDU, BOS, PVD, CMH, MDW, BDL, JFK, DCA, BHM, TPA, CLE, COS, HOU, TSA, SAT, SYR, MOB, LAX, LGA, PIT, OAK, BNA, SLC, PBI, SMF, DTW, ORF, DFW, PSP, OKC, SAN, TOL, MSP, DEN, LAS, IAH, CVG, SJC, FNT, RIC, ELP, MEM, ABE, RSW, RNO, HNL, IAD, ABQ, PDX, ROC, SNA, AUS, MKE, PWM, FLL, LGB, ITO, GPT, BUR, LEX, JAX, TUL, MSO, TUS, BUF, BTR, ONT, MSY, DAB, DSM, BGM, CHA, CHS, JNU, MHT, IND, GEG, OMA, ISP, TYS, HSV, FWA, MDT, CLL, ALB, BGR, ...]</td>\n",
       "    </tr>\n",
       "    <tr>\n",
       "      <th>4</th>\n",
       "      <td>Airport Name</td>\n",
       "      <td>485</td>\n",
       "      <td>[Newark International Airport, Seattle-Tacoma International, Lambert St. Louis International, Miami International Airport, Orlando International Airport, Akron-Canton Regional, Philadelphia International Airport, Baltimore/Washington Intl Thurgood Marshall, Phoenix Sky Harbor International, Hartsfield-Jackson Atlanta International Airport, Chicago O'Hare International Airport, Charlotte/Douglas International Airport, nan, Louisville International, Raleigh-Durham International, Boston (Logan) International Airport, TF Green Airport; Providence, Port Columbus International, Midway International Airport, Bradley International Airport, John F. Kennedy International, Ronald Reagan Washington National Airport, Birmingham International Airport, Tampa International, Cleveland Hopkins International, Colorado Springs Municipal, William P. Hobby, TSA - Non-Specified Airport, San Antonio International, Syracuse-Hancock International, Mobile Regional, Los Angeles International Airport, LaGuardia, Pittsburgh International Airport, Metropolitan Oakland International, Nashville International, Salt Lake City International Airport, Palm Beach International, Sacramento International Airport, Detroit Metropolitan Wayne County Airport, Norfolk International, Dallas-Fort Worth International Airport, Palm Springs International, Will Rogers World, San Diego International, Toledo Express, Minneapolis/ St.Paul International Airport, Denver International Airport, McCarran International, Houston - George Bush Intercontinental Airport, Cincinnati/Northern Kentucky International, Norman Y Mineta San Jose International, Bishop International; Flint, Richmond International, El Paso International Airport, Memphis International Airport, Lehigh Valley International Airport; Allentown, Southwest Florida International, Reno/Tahoe International, Honolulu International Airport, Washington Dulles International, Albuquerque International Sunport Airport, Portland International, Greater Rochester International, John Wayne, Austin-Bergstrom International Airport, General Mitchell International Airport, Portland International Jetport, Ft. Lauderdale-Hollywood International, Long Beach, Hilo International, Gulfport-Biloxi International, Bob Hope, Blue Grass ;Lexington, Jacksonville International, Tulsa International Airport, Missoula International, Tucson International, Buffalo Niagara International, Baton Rouge Metropolitan, Ontario International, New Orleans International, Daytona Beach International, Des Moines International, Greater Binghamton Airport, Chattanooga Metropolitan, Charleston International, Juneau International, Manchester Regional Airport, Indianapolis International, Spokane International, Eppley Airfield, Long Island McArthur; Islip, Mcghee Tyson ;Knoxville, Huntsville International Airport, Ft. Wayne Municipal- Baer Field, Harrisburg International, Easterwood/College Station; TX, Albany International, Bangor International Airport, ...]</td>\n",
       "    </tr>\n",
       "    <tr>\n",
       "      <th>5</th>\n",
       "      <td>Airline Name</td>\n",
       "      <td>318</td>\n",
       "      <td>[Continental Airlines, nan, American Airlines, Delta (Song), Air Tran Airlines(do not use), USAir, Southwest Airlines, AirTran Airlines, Northwest Airlines, Delta Air Lines, America West, UAL, Virgin Atlantic, Jet Blue, Alaska Airlines, Aloha Airlines, Tran Meridian Airlines, Spirit Airlines, Frontier Airlines, American West, Air Canada, British Airways, America Trans Air, Aero Mexico, Hawaiian Airlines, Lufthansa, Horizon Air, Lan Airlines, Midwest Express Airlines, Qantus Airways, Frontier Aviation Inc, Korean Airlines, Air Jamaica, KLM Royal Dutch Airlines, Alitalia, Air France, Aer Lingus, Austrian Airlines, Japan Airlines, Sun Country Airlines Inc, Comair Inc, ATA Aerocondor, Tower Air, Singapore Airlines, Mexicana, Swiss Air, Aero Flot, Air 2000 Ltd Great Britain, Skywest Airlines Inc USA, Allegiant Air, TWA, American Eagle, Southeast Airlines, Cape Air, Air New Zealand, Air Phillipines, USA 3000 (U5), Iceland Air, Scandinavian Airlines Systems, China Airlines, Midway Airlines, Continental Express Inc, OMNI Air Express- (OY), Malaysian Airline System, Sun Jet International Airlines Inc, Britannia Airways Ltd, Northwest International Airways Ltd, Turkish Airlines, Air Pacific, Indian Airlines, Pan American Airways Corp., Thai Airways, Pakistan International Airlines Cor, All Nippon Airways, Sunworld International Airlines Inc, Pace Airlines, Western Pacific Airlines Inc Westpac, Virgin Express, Commercial Airways, China Eastern Airlines, Reno Air, Aloha Islandair Inc, Kuwait Airways, Mountain West, US Express, Cayman Airlines, LOT Polish Airlines, Wiggins Airways, British Midland Airways Ltd, Skywest Airlines Australia, Saudi Arabian Airlines, Royal Wings Airlines, South African Airways, Aeroflot Russian International, Canadian Airlines, EL AL Israeli Airlines, Kuwait Airlines, Egypt Air, Czech Airlines, Avianca, ...]</td>\n",
       "    </tr>\n",
       "    <tr>\n",
       "      <th>6</th>\n",
       "      <td>Claim Type</td>\n",
       "      <td>11</td>\n",
       "      <td>[Property Damage, Passenger Property Loss, nan, Personal Injury, Motor Vehicle, Passenger Theft, Employee Loss (MPCECA), -, Wrongful Death, Bus Terminal, Complaint, Compliment]</td>\n",
       "    </tr>\n",
       "    <tr>\n",
       "      <th>7</th>\n",
       "      <td>Claim Site</td>\n",
       "      <td>6</td>\n",
       "      <td>[Checkpoint, Checked Baggage, Other, Motor Vehicle, nan, Bus Station, -]</td>\n",
       "    </tr>\n",
       "    <tr>\n",
       "      <th>8</th>\n",
       "      <td>Item</td>\n",
       "      <td>4704</td>\n",
       "      <td>[Other, Luggage (all types including footlockers), Cell Phones, Baby - Strollers; car seats; playpen; etc., Professional Equipment, Clothing - Shoes; belts; accessories; etc., Computer - Laptop, Jewelry - Fine, Eyeglasses - (including contact lenses), Photographic Film, Stereo Items &amp; Accessories, Currency, Cameras - Digital, nan, Cosmetics - Perfume; toilet articles; medicines; soaps; etc., Locks, PDA - Personal Data Assistants, Clothing - Shoes; belts; accessories; etc.; Locks, DVD/CD Players, Musical Instruments - Other - Over $250, Fish/Game, Clothing - Shoes; belts; accessories; etc.; Luggage (all types including footlockers); Luggage (all types including footlockers), Clothing - Shoes; belts; accessories; etc.; DVD/CD Players, Cameras - Digital; Clothing - Shoes; belts; accessories; etc.; Clothing - Shoes; belts; accessories; etc., Cameras - Digital; Jewelry - Fine, Medicines, Clothing - Shoes; belts; accessories; etc.; Cosmetics - Perfume; toilet articles; medicines; soaps; etc., Clothing - Shoes; belts; accessories; etc.; Other, Clothing - Shoes; belts; accessories; etc.; Luggage (all types including footlockers), Clothing - Shoes; belts; accessories; etc.; Clothing - Shoes; belts; accessories; etc.; Luggage (all types including footlockers), Currency; Jewelry - Fine, Jewelry - Fine; Other, Cameras - Digital; Cell Phones; Currency, Jewelry - Fine; Jewelry - Fine, Clothing - Shoes; belts; accessories; etc.; Jewelry - Fine, Jewelry - Fine; Locks, Cameras - Digital; Luggage (all types including footlockers), Clothing - Shoes; belts; accessories; etc.; Clothing - Shoes; belts; accessories; etc., Cosmetics - Perfume; toilet articles; medicines; soaps; etc.; Jewelry - Fine, Clothing - Shoes; belts; accessories; etc.; Cosmetics - Perfume; toilet articles; medicines; soaps; etc.; Jewelry - Fine, Cameras - Digital; Computer - Laptop, Cameras - Digital; Cell Phones; Eyeglasses - (including contact lenses); Stereo Items &amp; Accessories, Cosmetics - Perfume; toilet articles; medicines; soaps; etc.; Luggage (all types including footlockers), Cameras - Digital; Computer - Laptop; PDA - Personal Data Assistants, Cameras - Digital; Jewelry - Fine; Other; Watches - Expensive more than $100, Cameras - Digital; Computer - Laptop; Other; Other, Clothing - Shoes; belts; accessories; etc.; Jewelry - Fine; Other, DVD/CD Players; Jewelry - Fine, Clothing - Shoes; belts; accessories; etc.; Clothing - Shoes; belts; accessories; etc.; Cosmetics - Perfume; toilet articles; medicines; soaps; etc.; DVD/CD Players, Clothing - Shoes; belts; accessories; etc.; Cosmetics - Perfume; toilet articles; medicines; soaps; etc.; Luggage (all types including footlockers), Alcoholic beverages; Clothing - Shoes; belts; accessories; etc.; Luggage (all types including footlockers), Automobile Parts, Cameras - Digital; Cell Phones; DVD/CD Players; Jewelry - Fine, Cameras - Digital; Cameras - Digital; Cell Phones, Cell Phones; Other, Cameras - Digital; Stereo Items &amp; Accessories, Eyeglasses - (including contact lenses); Jewelry - Fine; Locks, Cameras - Digital; Clothing - Shoes; belts; accessories; etc., Eyeglasses - (including contact lenses); Jewelry - Fine, Cell Phones; Clothing - Shoes; belts; accessories; etc.; Luggage (all types including footlockers), Clothing - Shoes; belts; accessories; etc.; Currency, Cell Phones; Clothing - Shoes; belts; accessories; etc., DVD/CD Players; Medicines, Cosmetics - Perfume; toilet articles; medicines; soaps; etc.; Jewelry - Fine; Luggage (all types including footlockers), Clothing - Shoes; belts; accessories; etc.; Cosmetics - Perfume; toilet articles; medicines; soaps; etc.; Medicines, Cameras - Digital; Cell Phones; Photographic Film, Clothing - Shoes; belts; accessories; etc.; DVD/CD Players; Luggage (all types including footlockers), Computer - Laptop; PDA - Personal Data Assistants, Other; Other, Clothing - Shoes; belts; accessories; etc.; PDA - Personal Data Assistants, Clothing - Shoes; belts; accessories; etc.; Medicines; Medicines, Clothing - Shoes; belts; accessories; etc.; Computer - Laptop; Cosmetics - Perfume; toilet articles; medicines; soaps; etc.; Medicines, Cameras - Digital; Cameras - Digital; Clothing - Shoes; belts; accessories; etc.; Stereo Items &amp; Accessories, Luggage (all types including footlockers); Medicines, Clothing - Shoes; belts; accessories; etc.; Cosmetics - Perfume; toilet articles; medicines; soaps; etc.; Jewelry - Fine; Medicines, Computer - Laptop; Other, Cameras - Digital; Clothing - Shoes; belts; accessories; etc.; Locks, Luggage (all types including footlockers); Other, Cell Phones; PDA - Personal Data Assistants, Currency; Other, Clothing - Shoes; belts; accessories; etc.; Clothing - Shoes; belts; accessories; etc.; Jewelry - Fine; Other, Clothing - Shoes; belts; accessories; etc.; Cosmetics - Perfume; toilet articles; medicines; soaps; etc.; Other, Eyeglasses - (including contact lenses); Medicines, DVD/CD Players; Locks; Luggage (all types including footlockers); Luggage (all types including footlockers), Cameras - Digital; Clothing - Shoes; belts; accessories; etc.; Luggage (all types including footlockers); Photographic Film, Eyeglasses - (including contact lenses); Other, Cameras - Digital; DVD/CD Players; Other, Cameras - Digital; Cosmetics - Perfume; toilet articles; medicines; soaps; etc., Locks; Luggage (all types including footlockers); Other, Clothing - Shoes; belts; accessories; etc.; Eyeglasses - (including contact lenses), Clothing - Shoes; belts; accessories; etc.; Clothing - Shoes; belts; accessories; etc.; Jewelry - Fine, Clothing - Shoes; belts; accessories; etc.; DVD/CD Players; Jewelry - Fine; Other, Cameras - Digital; Clothing - Shoes; belts; accessories; etc.; Eyeglasses - (including contact lenses); Locks, Locks; Luggage (all types including footlockers), Medicines; Other, Watches - Expensive more than $100, Cosmetics - Perfume; toilet articles; medicines; soaps; etc.; Luggage (all types including footlockers); Other, Cosmetics - Perfume; toilet articles; medicines; soaps; etc.; Locks; Medicines, Clothing - Shoes; belts; accessories; etc.; Luggage (all types including footlockers); Other, Cell Phones; Other; Stereo Items &amp; Accessories, ...]</td>\n",
       "    </tr>\n",
       "    <tr>\n",
       "      <th>9</th>\n",
       "      <td>Claim Amount</td>\n",
       "      <td>36117</td>\n",
       "      <td>[$350.00 , $100.00 , $278.88 , $50.00 , $84.79 , $459.01 , $106.52 , $75.00 , $2;270.09 , $4;457.29 , $79.95 , $43.49 , $16.71 , $450.00 , nan, $200.00 , $110;000.00 , $68.00 , $600.00 , $160.00 , $380.00 , $354.93 , $21.44 , $40.00 , $275.00 , $30.00 , $1;832.22 , $250.00 , $1;200.00 , $678.00 , $428.21 , $176.59 , $1;000.00 , $45.00 , $175.00 , $1;500.00 , $213.00 , $249.00 , $85.00 , $750.00 , $150.00 , $300.00 , $299.98 , $250;000.00 , $50;000.00 , $26.00 , $20.00 , $65.00 , $199.00 , $379.90 , $128.05 , $27.45 , $5;000.00 , $520.00 , $3;250.04 , $2;000.00 , $700.00 , $185.00 , $75.30 , $342.36 , $70.03 , $3;080.69 , $210.00 , $109.99 , $58.17 , $60.00 , $499.00 , $95.00 , $382.99 , $289.00 , $25.00 , $225.00 , $400.00 , $169.00 , $337.83 , $10.00 , $2.50 , $120.00 , $260.00 , $1;801.99 , $24.95 , $263.00 , $208.16 , $165.00 , $1;777.00 , $492.00 , $598.00 , $7;500.00 , $97.00 , $180.00 , $500.00 , $112.00 , $420.00 , $249.99 , $80.00 , $764.97 , $117.94 , $71.00 , $129.00 , $73.83 , ...]</td>\n",
       "    </tr>\n",
       "    <tr>\n",
       "      <th>10</th>\n",
       "      <td>Status</td>\n",
       "      <td>15</td>\n",
       "      <td>[Approved, Settled, Canceled, Denied, Insufficient; one of the following items required: sum certain; statement of fact; signature; location of incident; and date., In litigation, Closed as a contractor claim, In review, Claim entered, nan, Claim has been assigned for further investigation, Pending response from claimant, Deny, -, Settle, Approve in Full]</td>\n",
       "    </tr>\n",
       "    <tr>\n",
       "      <th>11</th>\n",
       "      <td>Close Amount</td>\n",
       "      <td>17162</td>\n",
       "      <td>[$350.00 , $50.00 , $227.92 , $84.79 , $227.00 , $106.52 , $75.00 , nan, $79.95 , $43.49 , $17.00 , $0.00 , $337.40 , $149.08 , $301.69 , $21.00 , $275.00 , $30.00 , $40.00 , $678.00 , $207.99 , $171.99 , $801.90 , $53.38 , $74.55 , $225.00 , $210.00 , $26.00 , $20.00 , $65.00 , $364.07 , $457.80 , $3;250.00 , $100.00 , $700.00 , $144.00 , $237.00 , $70.00 , $3;080.69 , $58.00 , $60.00 , $499.00 , $95.00 , $382.99 , $231.00 , $600.00 , $25.00 , $293.84 , $234.70 , $1;000.00 , $10.00 , $291.67 , $150.00 , $82.90 , $120.00 , $270.00 , $263.00 , $208.00 , $202.50 , $250.00 , $165.00 , $1;777.00 , $492.00 , $35.00 , $112.00 , $420.00 , $200.00 , $162.00 , $80.00 , $726.74 , $71.00 , $450.00 , $197.00 , $74.00 , $280.00 , $52.50 , $1;470.69 , $167.00 , $244.00 , $204.00 , $27.50 , $78.80 , $1;760.00 , $500.00 , $2;342.00 , $37.00 , $49.00 , $229.00 , $775.16 , $742.25 , $435.00 , $45.00 , $15.00 , $223.00 , $569.50 , $116.06 , $782.65 , $75.91 , $332.50 , $31.00 , ...]</td>\n",
       "    </tr>\n",
       "    <tr>\n",
       "      <th>12</th>\n",
       "      <td>Disposition</td>\n",
       "      <td>3</td>\n",
       "      <td>[Approve in Full, Settle, nan, Deny]</td>\n",
       "    </tr>\n",
       "  </tbody>\n",
       "</table>\n",
       "</div>"
      ],
      "text/plain": [
       "      Column Name  Number of Unique  \\\n",
       "0   Claim Number   204258             \n",
       "1   Date Received  4007               \n",
       "2   Incident Date  26807              \n",
       "3   Airport Code   465                \n",
       "4   Airport Name   485                \n",
       "5   Airline Name   318                \n",
       "6   Claim Type     11                 \n",
       "7   Claim Site     6                  \n",
       "8   Item           4704               \n",
       "9   Claim Amount   36117              \n",
       "10  Status         15                 \n",
       "11  Close Amount   17162              \n",
       "12  Disposition    3                  \n",
       "\n",
       "                                                                                                                                                                                                                                                                                                                                                                                                                                                                                                                                                                                                                                                                                                                                                                                                                                                                                                                                                                                                                                                                                                                                                                                                                                                                                                                                                                                                                                                                                                                                                                                                                                                                                                                                                                                                                                                                                                                                                                                                                                                                                                                                                                                                                                                                                                                                                                                                                                                                                                                                                                                                                                                                                                                                                                                                                                                                                                                                                                                                                                                                                                                                                                                                                                                                                                                                                                                                                                                                                                                                                                                                                                                                                                                                                                                                                                                                                                                                                                                                                                                                                                                                                                                                                                                                                                                                                                                                                                                                                                                                                                                                                                                                                                                                                                                                                                                                                                                                                                                                                                                                                                                                                                                                                                                                                                                                                                                                                                                                                                                                                                                                                                                                                                                                                                                                                                                                                                                                                                                                                                                                                                                                                                                                                                                                                                                                                                                                                                                                 Unique Sample  \n",
       "0   [0909802M, 0202417M, 0202445M, 0909816M, 2005032379513, 2005032479636, 2007050124750, 12772, 14268, 2004102965797, 2005071188575, 2005070788431, 14460, 13334, 0616771L, 15242, 15324, 15361, 0616636L, 0714534M, 0616540L, 16410, 0616723L, 2004092763985, 16403, 0702564M, 16759, 0616777L, 15352, 14907, 17892, 17846, 17201, 2004050550501, 18170, 18202, 18193, 18222, 18171, 18274, 0616726L, 18315, 16961, 17666, 18141, 18301, 0909839M, 15542, 18065, 18109, 18098, 18101, 18394, 0616699L, 18438, 18620, 21003, 21021, 0616631L, 18221, 0616675L, 18804, 0616760L, 18917, 18919, 21134, 19009, 0616624L, 20887, 21013, 19029, 18966, 19133, 23663, 0616802L, 15769, 18181, 23623, 0702504M, 0714563M, 0616579L, 23284, 18386, 18908, 23278, 21111, 21254, 0714547M, 19239, 19039, 19078, 20938, 21052, 21053, 21054, 21253, 0616528L, 19229, 20937, 0616610L, ...]                                                                                                                                                                                                                                                                                                                                                                                                                                                                                                                                                                                                                                                                                                                                                                                                                                                                                                                                                                                                                                                                                                                                                                                                                                                                                                                                                                                                                                                                                                                                                                                                                                                                                                                                                                                                                                                                                                                                                                                                                                                                                                                                                                                                                                                                                                                                                                                                                                                                                                                                                                                                                                                                                                                                                                                                                                                                                                                                                                                                                                                                                                                                                                                                                                                                                                                                                                                                                                                                                                                                                                                                                                                                                                                                                                                                                                                                                                                                                                                                                                                                                                                                                                                                                                                                                                                                                                                                                                                                                                                                                                                                                                                                                                                                                                                                                                                                                                                                                                                                                                                                                                                                                                                                                                                                                                                                                                                                                                                                                                                                                                                                \n",
       "1   [4-Jan-02, 2-Feb-02, 4-Feb-02, 7-Feb-02, 18-Feb-02, 30-Apr-02, 20-Jun-02, 25-Jun-02, 6-Jul-02, 7-Jul-02, 8-Jul-02, 12-Jul-02, 15-Jul-02, 18-Jul-02, 22-Jul-02, 24-Jul-02, 5-Aug-02, 8-Aug-02, 12-Aug-02, 19-Aug-02, 21-Aug-02, 9-Sep-02, 11-Sep-02, 16-Sep-02, 18-Sep-02, 19-Sep-02, 20-Sep-02, 23-Sep-02, 24-Sep-02, 25-Sep-02, 26-Sep-02, 27-Sep-02, 30-Sep-02, 2-Oct-02, 5-Oct-02, 7-Oct-02, 8-Oct-02, 9-Oct-02, 10-Oct-02, 11-Oct-02, 15-Oct-02, 17-Oct-02, 18-Oct-02, 19-Oct-02, 21-Oct-02, 22-Oct-02, 23-Oct-02, 25-Oct-02, 28-Oct-02, 29-Oct-02, 31-Oct-02, 1-Nov-02, 4-Nov-02, 5-Nov-02, 6-Nov-02, 7-Nov-02, 8-Nov-02, 9-Nov-02, 12-Nov-02, 13-Nov-02, 14-Nov-02, 15-Nov-02, 16-Nov-02, 18-Nov-02, 19-Nov-02, 20-Nov-02, 21-Nov-02, 22-Nov-02, 24-Nov-02, 25-Nov-02, 26-Nov-02, 27-Nov-02, 29-Nov-02, 2-Dec-02, 3-Dec-02, 4-Dec-02, 5-Dec-02, 6-Dec-02, 9-Dec-02, 10-Dec-02, 11-Dec-02, 12-Dec-02, 13-Dec-02, 16-Dec-02, 17-Dec-02, 18-Dec-02, 19-Dec-02, 20-Dec-02, 21-Dec-02, 23-Dec-02, 24-Dec-02, 26-Dec-02, 27-Dec-02, 30-Dec-02, 31-Dec-02, 2-Jan-03, 3-Jan-03, 5-Jan-03, 6-Jan-03, 7-Jan-03, ...]                                                                                                                                                                                                                                                                                                                                                                                                                                                                                                                                                                                                                                                                                                                                                                                                                                                                                                                                                                                                                                                                                                                                                                                                                                                                                                                                                                                                                                                                                                                                                                                                                                                                                                                                                                                                                                                                                                                                                                                                                                                                                                                                                                                                                                                                                                                                                                                                                                                                                                                                                                                                                                                                                                                                                                                                                                                                                                                                                                                                                                                                                                                                                                                                                                                                                                                                                                                                                                                                                                                                                                                                                                                                                                                                                                                                                                                                                                                                                                                                                                                                                                                                                                                                                                                                                                                                                                                                                                                                                                                                                                                                                                                                                                                                                                                                                                                                                                                                                                                                                                                                                                                                                                                                                                                                                                                                                            \n",
       "2   [12/12/2002 0:00, 1/16/2004 0:00, 11/26/2003 0:00, 1/6/2003 0:00, 2/5/2005 0:00, 2/17/2005 0:00, 4/26/2007 0:00, 5/9/2002 0:00, 6/16/2002 0:00, 5/4/2002 0:00, 6/23/2005 0:00, 6/17/2005 0:00, 6/12/2002 0:00, 6/4/2002 0:00, nan, 5/31/2002 0:00, 3/11/2002 0:00, 3/6/2002 0:00, 7/10/2002 0:00, 7/26/2002 0:00, 7/19/2002 0:00, 6/22/2002 0:00, 7/12/2002 0:00, 7/13/2002 0:00, 6/28/2002 0:00, 8/23/2002 0:00, 8/30/2002 0:00, 8/19/2002 0:00, 8/5/2002 0:00, 8/2/2002 0:00, 8/12/2002 0:00, 7/28/2002 0:00, 7/23/2002 0:00, 8/16/2002 0:00, 8/13/2002 0:00, 9/1/2002 0:00, 8/14/2002 0:00, 12/31/2002 0:00, 7/1/2002 0:00, 8/20/2002 0:00, 8/21/2002 0:00, 8/24/2002 0:00, 7/27/2002 0:00, 8/31/2002 0:00, 8/15/2002 0:00, 9/12/2002 0:00, 8/29/2002 0:00, 9/10/2002 0:00, 7/31/2002 0:00, 8/3/2002 0:00, 8/21/2003 0:00, 9/3/2002 0:00, 9/26/2002 0:00, 8/22/2002 0:00, 8/7/2002 0:00, 7/18/2002 0:00, 9/8/2002 0:00, 9/9/2002 0:00, 9/25/2002 0:00, 4/10/2002 0:00, 10/7/2002 0:00, 9/29/2002 0:00, 9/20/2002 0:00, 9/24/2002 0:00, 9/27/2002 0:00, 9/22/2002 0:00, 9/15/2002 0:00, 10/2/2002 0:00, 9/28/2002 0:00, 9/13/2002 0:00, 9/14/2002 0:00, 8/9/2002 0:00, 10/19/2002 0:00, 10/3/2002 0:00, 9/21/2002 0:00, 10/14/2002 0:00, 10/13/2002 0:00, 8/28/2002 0:00, 10/1/2002 0:00, 10/6/2002 0:00, 10/8/2002 0:00, 9/18/2002 0:00, 10/10/2002 0:00, 10/9/2002 0:00, 10/20/2002 0:00, 9/11/2002 0:00, 10/16/2002 0:00, 10/5/2002 0:00, 10/15/2002 0:00, 10/27/2002 0:00, 10/18/2002 0:00, 10/22/2002 0:00, 10/21/2002 0:00, 10/23/2002 0:00, 10/7/2004 0:00, 7/24/2002 0:00, 10/28/2002 0:00, 9/19/2002 0:00, 10/26/2002 0:00, 9/30/2002 0:00, ...]                                                                                                                                                                                                                                                                                                                                                                                                                                                                                                                                                                                                                                                                                                                                                                                                                                                                                                                                                                                                                                                                                                                                                                                                                                                                                                                                                                                                                                                                                                                                                                                                                                                                                                                                                                                                                                                                                                                                                                                                                                                                                                                                                                                                                                                                                                                                                                                                                                                                                                                                                                                                                                                                                                                                                                                                                                                                                                                                                                                                                                                                                                                                                                                                                                                                                                                                                                                                                                                                                                                                                                                                                                                                                                                                                                                                                                                                                                                                                                                                                                                                                                                                                                                                                                                                                                                                                                                                                                                                                                                                                                                                                                                                                                                                                                                                                 \n",
       "3   [EWR, SEA, STL, MIA, MCO, CAK, PHL, BWI, PHX, ATL, ORD, CLT, nan, SDF, RDU, BOS, PVD, CMH, MDW, BDL, JFK, DCA, BHM, TPA, CLE, COS, HOU, TSA, SAT, SYR, MOB, LAX, LGA, PIT, OAK, BNA, SLC, PBI, SMF, DTW, ORF, DFW, PSP, OKC, SAN, TOL, MSP, DEN, LAS, IAH, CVG, SJC, FNT, RIC, ELP, MEM, ABE, RSW, RNO, HNL, IAD, ABQ, PDX, ROC, SNA, AUS, MKE, PWM, FLL, LGB, ITO, GPT, BUR, LEX, JAX, TUL, MSO, TUS, BUF, BTR, ONT, MSY, DAB, DSM, BGM, CHA, CHS, JNU, MHT, IND, GEG, OMA, ISP, TYS, HSV, FWA, MDT, CLL, ALB, BGR, ...]                                                                                                                                                                                                                                                                                                                                                                                                                                                                                                                                                                                                                                                                                                                                                                                                                                                                                                                                                                                                                                                                                                                                                                                                                                                                                                                                                                                                                                                                                                                                                                                                                                                                                                                                                                                                                                                                                                                                                                                                                                                                                                                                                                                                                                                                                                                                                                                                                                                                                                                                                                                                                                                                                                                                                                                                                                                                                                                                                                                                                                                                                                                                                                                                                                                                                                                                                                                                                                                                                                                                                                                                                                                                                                                                                                                                                                                                                                                                                                                                                                                                                                                                                                                                                                                                                                                                                                                                                                                                                                                                                                                                                                                                                                                                                                                                                                                                                                                                                                                                                                                                                                                                                                                                                                                                                                                                                                                                                                                                                                                                                                                                                                                                                                                                                                                                                                                                                                                                                   \n",
       "4   [Newark International Airport, Seattle-Tacoma International, Lambert St. Louis International, Miami International Airport, Orlando International Airport, Akron-Canton Regional, Philadelphia International Airport, Baltimore/Washington Intl Thurgood Marshall, Phoenix Sky Harbor International, Hartsfield-Jackson Atlanta International Airport, Chicago O'Hare International Airport, Charlotte/Douglas International Airport, nan, Louisville International, Raleigh-Durham International, Boston (Logan) International Airport, TF Green Airport; Providence, Port Columbus International, Midway International Airport, Bradley International Airport, John F. Kennedy International, Ronald Reagan Washington National Airport, Birmingham International Airport, Tampa International, Cleveland Hopkins International, Colorado Springs Municipal, William P. Hobby, TSA - Non-Specified Airport, San Antonio International, Syracuse-Hancock International, Mobile Regional, Los Angeles International Airport, LaGuardia, Pittsburgh International Airport, Metropolitan Oakland International, Nashville International, Salt Lake City International Airport, Palm Beach International, Sacramento International Airport, Detroit Metropolitan Wayne County Airport, Norfolk International, Dallas-Fort Worth International Airport, Palm Springs International, Will Rogers World, San Diego International, Toledo Express, Minneapolis/ St.Paul International Airport, Denver International Airport, McCarran International, Houston - George Bush Intercontinental Airport, Cincinnati/Northern Kentucky International, Norman Y Mineta San Jose International, Bishop International; Flint, Richmond International, El Paso International Airport, Memphis International Airport, Lehigh Valley International Airport; Allentown, Southwest Florida International, Reno/Tahoe International, Honolulu International Airport, Washington Dulles International, Albuquerque International Sunport Airport, Portland International, Greater Rochester International, John Wayne, Austin-Bergstrom International Airport, General Mitchell International Airport, Portland International Jetport, Ft. Lauderdale-Hollywood International, Long Beach, Hilo International, Gulfport-Biloxi International, Bob Hope, Blue Grass ;Lexington, Jacksonville International, Tulsa International Airport, Missoula International, Tucson International, Buffalo Niagara International, Baton Rouge Metropolitan, Ontario International, New Orleans International, Daytona Beach International, Des Moines International, Greater Binghamton Airport, Chattanooga Metropolitan, Charleston International, Juneau International, Manchester Regional Airport, Indianapolis International, Spokane International, Eppley Airfield, Long Island McArthur; Islip, Mcghee Tyson ;Knoxville, Huntsville International Airport, Ft. Wayne Municipal- Baer Field, Harrisburg International, Easterwood/College Station; TX, Albany International, Bangor International Airport, ...]                                                                                                                                                                                                                                                                                                                                                                                                                                                                                                                                                                                                                                                                                                                                                                                                                                                                                                                                                                                                                                                                                                                                                                                                                                                                                                                                                                                                                                                                                                                                                                                                                                                                                                                                                                                                                                                                                                                                                                                                                                                                                                                                                                                                                                                                                                                                                                                                                                                                                                                                                                                                                                                                                                                                                                                                                                                                                                                                                                                                                                                                                                                                                                                                                                                                                                                                                                                         \n",
       "5   [Continental Airlines, nan, American Airlines, Delta (Song), Air Tran Airlines(do not use), USAir, Southwest Airlines, AirTran Airlines, Northwest Airlines, Delta Air Lines, America West, UAL, Virgin Atlantic, Jet Blue, Alaska Airlines, Aloha Airlines, Tran Meridian Airlines, Spirit Airlines, Frontier Airlines, American West, Air Canada, British Airways, America Trans Air, Aero Mexico, Hawaiian Airlines, Lufthansa, Horizon Air, Lan Airlines, Midwest Express Airlines, Qantus Airways, Frontier Aviation Inc, Korean Airlines, Air Jamaica, KLM Royal Dutch Airlines, Alitalia, Air France, Aer Lingus, Austrian Airlines, Japan Airlines, Sun Country Airlines Inc, Comair Inc, ATA Aerocondor, Tower Air, Singapore Airlines, Mexicana, Swiss Air, Aero Flot, Air 2000 Ltd Great Britain, Skywest Airlines Inc USA, Allegiant Air, TWA, American Eagle, Southeast Airlines, Cape Air, Air New Zealand, Air Phillipines, USA 3000 (U5), Iceland Air, Scandinavian Airlines Systems, China Airlines, Midway Airlines, Continental Express Inc, OMNI Air Express- (OY), Malaysian Airline System, Sun Jet International Airlines Inc, Britannia Airways Ltd, Northwest International Airways Ltd, Turkish Airlines, Air Pacific, Indian Airlines, Pan American Airways Corp., Thai Airways, Pakistan International Airlines Cor, All Nippon Airways, Sunworld International Airlines Inc, Pace Airlines, Western Pacific Airlines Inc Westpac, Virgin Express, Commercial Airways, China Eastern Airlines, Reno Air, Aloha Islandair Inc, Kuwait Airways, Mountain West, US Express, Cayman Airlines, LOT Polish Airlines, Wiggins Airways, British Midland Airways Ltd, Skywest Airlines Australia, Saudi Arabian Airlines, Royal Wings Airlines, South African Airways, Aeroflot Russian International, Canadian Airlines, EL AL Israeli Airlines, Kuwait Airlines, Egypt Air, Czech Airlines, Avianca, ...]                                                                                                                                                                                                                                                                                                                                                                                                                                                                                                                                                                                                                                                                                                                                                                                                                                                                                                                                                                                                                                                                                                                                                                                                                                                                                                                                                                                                                                                                                                                                                                                                                                                                                                                                                                                                                                                                                                                                                                                                                                                                                                                                                                                                                                                                                                                                                                                                                                                                                                                                                                                                                                                                                                                                                                                                                                                                                                                                                                                                                                                                                                                                                                                                                                                                                                                                                                                                                                                                                                                                                                                                                                                                                                                                                                                                                                                                                                                                                                                                                                                                                                                                                                                                                                                                                                                                                                                                                                                                                                                                              \n",
       "6   [Property Damage, Passenger Property Loss, nan, Personal Injury, Motor Vehicle, Passenger Theft, Employee Loss (MPCECA), -, Wrongful Death, Bus Terminal, Complaint, Compliment]                                                                                                                                                                                                                                                                                                                                                                                                                                                                                                                                                                                                                                                                                                                                                                                                                                                                                                                                                                                                                                                                                                                                                                                                                                                                                                                                                                                                                                                                                                                                                                                                                                                                                                                                                                                                                                                                                                                                                                                                                                                                                                                                                                                                                                                                                                                                                                                                                                                                                                                                                                                                                                                                                                                                                                                                                                                                                                                                                                                                                                                                                                                                                                                                                                                                                                                                                                                                                                                                                                                                                                                                                                                                                                                                                                                                                                                                                                                                                                                                                                                                                                                                                                                                                                                                                                                                                                                                                                                                                                                                                                                                                                                                                                                                                                                                                                                                                                                                                                                                                                                                                                                                                                                                                                                                                                                                                                                                                                                                                                                                                                                                                                                                                                                                                                                                                                                                                                                                                                                                                                                                                                                                                                                                                                                                                            \n",
       "7   [Checkpoint, Checked Baggage, Other, Motor Vehicle, nan, Bus Station, -]                                                                                                                                                                                                                                                                                                                                                                                                                                                                                                                                                                                                                                                                                                                                                                                                                                                                                                                                                                                                                                                                                                                                                                                                                                                                                                                                                                                                                                                                                                                                                                                                                                                                                                                                                                                                                                                                                                                                                                                                                                                                                                                                                                                                                                                                                                                                                                                                                                                                                                                                                                                                                                                                                                                                                                                                                                                                                                                                                                                                                                                                                                                                                                                                                                                                                                                                                                                                                                                                                                                                                                                                                                                                                                                                                                                                                                                                                                                                                                                                                                                                                                                                                                                                                                                                                                                                                                                                                                                                                                                                                                                                                                                                                                                                                                                                                                                                                                                                                                                                                                                                                                                                                                                                                                                                                                                                                                                                                                                                                                                                                                                                                                                                                                                                                                                                                                                                                                                                                                                                                                                                                                                                                                                                                                                                                                                                                                                                    \n",
       "8   [Other, Luggage (all types including footlockers), Cell Phones, Baby - Strollers; car seats; playpen; etc., Professional Equipment, Clothing - Shoes; belts; accessories; etc., Computer - Laptop, Jewelry - Fine, Eyeglasses - (including contact lenses), Photographic Film, Stereo Items & Accessories, Currency, Cameras - Digital, nan, Cosmetics - Perfume; toilet articles; medicines; soaps; etc., Locks, PDA - Personal Data Assistants, Clothing - Shoes; belts; accessories; etc.; Locks, DVD/CD Players, Musical Instruments - Other - Over $250, Fish/Game, Clothing - Shoes; belts; accessories; etc.; Luggage (all types including footlockers); Luggage (all types including footlockers), Clothing - Shoes; belts; accessories; etc.; DVD/CD Players, Cameras - Digital; Clothing - Shoes; belts; accessories; etc.; Clothing - Shoes; belts; accessories; etc., Cameras - Digital; Jewelry - Fine, Medicines, Clothing - Shoes; belts; accessories; etc.; Cosmetics - Perfume; toilet articles; medicines; soaps; etc., Clothing - Shoes; belts; accessories; etc.; Other, Clothing - Shoes; belts; accessories; etc.; Luggage (all types including footlockers), Clothing - Shoes; belts; accessories; etc.; Clothing - Shoes; belts; accessories; etc.; Luggage (all types including footlockers), Currency; Jewelry - Fine, Jewelry - Fine; Other, Cameras - Digital; Cell Phones; Currency, Jewelry - Fine; Jewelry - Fine, Clothing - Shoes; belts; accessories; etc.; Jewelry - Fine, Jewelry - Fine; Locks, Cameras - Digital; Luggage (all types including footlockers), Clothing - Shoes; belts; accessories; etc.; Clothing - Shoes; belts; accessories; etc., Cosmetics - Perfume; toilet articles; medicines; soaps; etc.; Jewelry - Fine, Clothing - Shoes; belts; accessories; etc.; Cosmetics - Perfume; toilet articles; medicines; soaps; etc.; Jewelry - Fine, Cameras - Digital; Computer - Laptop, Cameras - Digital; Cell Phones; Eyeglasses - (including contact lenses); Stereo Items & Accessories, Cosmetics - Perfume; toilet articles; medicines; soaps; etc.; Luggage (all types including footlockers), Cameras - Digital; Computer - Laptop; PDA - Personal Data Assistants, Cameras - Digital; Jewelry - Fine; Other; Watches - Expensive more than $100, Cameras - Digital; Computer - Laptop; Other; Other, Clothing - Shoes; belts; accessories; etc.; Jewelry - Fine; Other, DVD/CD Players; Jewelry - Fine, Clothing - Shoes; belts; accessories; etc.; Clothing - Shoes; belts; accessories; etc.; Cosmetics - Perfume; toilet articles; medicines; soaps; etc.; DVD/CD Players, Clothing - Shoes; belts; accessories; etc.; Cosmetics - Perfume; toilet articles; medicines; soaps; etc.; Luggage (all types including footlockers), Alcoholic beverages; Clothing - Shoes; belts; accessories; etc.; Luggage (all types including footlockers), Automobile Parts, Cameras - Digital; Cell Phones; DVD/CD Players; Jewelry - Fine, Cameras - Digital; Cameras - Digital; Cell Phones, Cell Phones; Other, Cameras - Digital; Stereo Items & Accessories, Eyeglasses - (including contact lenses); Jewelry - Fine; Locks, Cameras - Digital; Clothing - Shoes; belts; accessories; etc., Eyeglasses - (including contact lenses); Jewelry - Fine, Cell Phones; Clothing - Shoes; belts; accessories; etc.; Luggage (all types including footlockers), Clothing - Shoes; belts; accessories; etc.; Currency, Cell Phones; Clothing - Shoes; belts; accessories; etc., DVD/CD Players; Medicines, Cosmetics - Perfume; toilet articles; medicines; soaps; etc.; Jewelry - Fine; Luggage (all types including footlockers), Clothing - Shoes; belts; accessories; etc.; Cosmetics - Perfume; toilet articles; medicines; soaps; etc.; Medicines, Cameras - Digital; Cell Phones; Photographic Film, Clothing - Shoes; belts; accessories; etc.; DVD/CD Players; Luggage (all types including footlockers), Computer - Laptop; PDA - Personal Data Assistants, Other; Other, Clothing - Shoes; belts; accessories; etc.; PDA - Personal Data Assistants, Clothing - Shoes; belts; accessories; etc.; Medicines; Medicines, Clothing - Shoes; belts; accessories; etc.; Computer - Laptop; Cosmetics - Perfume; toilet articles; medicines; soaps; etc.; Medicines, Cameras - Digital; Cameras - Digital; Clothing - Shoes; belts; accessories; etc.; Stereo Items & Accessories, Luggage (all types including footlockers); Medicines, Clothing - Shoes; belts; accessories; etc.; Cosmetics - Perfume; toilet articles; medicines; soaps; etc.; Jewelry - Fine; Medicines, Computer - Laptop; Other, Cameras - Digital; Clothing - Shoes; belts; accessories; etc.; Locks, Luggage (all types including footlockers); Other, Cell Phones; PDA - Personal Data Assistants, Currency; Other, Clothing - Shoes; belts; accessories; etc.; Clothing - Shoes; belts; accessories; etc.; Jewelry - Fine; Other, Clothing - Shoes; belts; accessories; etc.; Cosmetics - Perfume; toilet articles; medicines; soaps; etc.; Other, Eyeglasses - (including contact lenses); Medicines, DVD/CD Players; Locks; Luggage (all types including footlockers); Luggage (all types including footlockers), Cameras - Digital; Clothing - Shoes; belts; accessories; etc.; Luggage (all types including footlockers); Photographic Film, Eyeglasses - (including contact lenses); Other, Cameras - Digital; DVD/CD Players; Other, Cameras - Digital; Cosmetics - Perfume; toilet articles; medicines; soaps; etc., Locks; Luggage (all types including footlockers); Other, Clothing - Shoes; belts; accessories; etc.; Eyeglasses - (including contact lenses), Clothing - Shoes; belts; accessories; etc.; Clothing - Shoes; belts; accessories; etc.; Jewelry - Fine, Clothing - Shoes; belts; accessories; etc.; DVD/CD Players; Jewelry - Fine; Other, Cameras - Digital; Clothing - Shoes; belts; accessories; etc.; Eyeglasses - (including contact lenses); Locks, Locks; Luggage (all types including footlockers), Medicines; Other, Watches - Expensive more than $100, Cosmetics - Perfume; toilet articles; medicines; soaps; etc.; Luggage (all types including footlockers); Other, Cosmetics - Perfume; toilet articles; medicines; soaps; etc.; Locks; Medicines, Clothing - Shoes; belts; accessories; etc.; Luggage (all types including footlockers); Other, Cell Phones; Other; Stereo Items & Accessories, ...]  \n",
       "9   [$350.00 , $100.00 , $278.88 , $50.00 , $84.79 , $459.01 , $106.52 , $75.00 , $2;270.09 , $4;457.29 , $79.95 , $43.49 , $16.71 , $450.00 , nan, $200.00 , $110;000.00 , $68.00 , $600.00 , $160.00 , $380.00 , $354.93 , $21.44 , $40.00 , $275.00 , $30.00 , $1;832.22 , $250.00 , $1;200.00 , $678.00 , $428.21 , $176.59 , $1;000.00 , $45.00 , $175.00 , $1;500.00 , $213.00 , $249.00 , $85.00 , $750.00 , $150.00 , $300.00 , $299.98 , $250;000.00 , $50;000.00 , $26.00 , $20.00 , $65.00 , $199.00 , $379.90 , $128.05 , $27.45 , $5;000.00 , $520.00 , $3;250.04 , $2;000.00 , $700.00 , $185.00 , $75.30 , $342.36 , $70.03 , $3;080.69 , $210.00 , $109.99 , $58.17 , $60.00 , $499.00 , $95.00 , $382.99 , $289.00 , $25.00 , $225.00 , $400.00 , $169.00 , $337.83 , $10.00 , $2.50 , $120.00 , $260.00 , $1;801.99 , $24.95 , $263.00 , $208.16 , $165.00 , $1;777.00 , $492.00 , $598.00 , $7;500.00 , $97.00 , $180.00 , $500.00 , $112.00 , $420.00 , $249.99 , $80.00 , $764.97 , $117.94 , $71.00 , $129.00 , $73.83 , ...]                                                                                                                                                                                                                                                                                                                                                                                                                                                                                                                                                                                                                                                                                                                                                                                                                                                                                                                                                                                                                                                                                                                                                                                                                                                                                                                                                                                                                                                                                                                                                                                                                                                                                                                                                                                                                                                                                                                                                                                                                                                                                                                                                                                                                                                                                                                                                                                                                                                                                                                                                                                                                                                                                                                                                                                                                                                                                                                                                                                                                                                                                                                                                                                                                                                                                                                                                                                                                                                                                                                                                                                                                                                                                                                                                                                                                                                                                                                                                                                                                                                                                                                                                                                                                                                                                                                                                                                                                                                                                                                                                                                                                                                                                                                                                                                                                                                                                                                                                                                                                                                                                                                                                                                                                                                                                                                                                                                                                             \n",
       "10  [Approved, Settled, Canceled, Denied, Insufficient; one of the following items required: sum certain; statement of fact; signature; location of incident; and date., In litigation, Closed as a contractor claim, In review, Claim entered, nan, Claim has been assigned for further investigation, Pending response from claimant, Deny, -, Settle, Approve in Full]                                                                                                                                                                                                                                                                                                                                                                                                                                                                                                                                                                                                                                                                                                                                                                                                                                                                                                                                                                                                                                                                                                                                                                                                                                                                                                                                                                                                                                                                                                                                                                                                                                                                                                                                                                                                                                                                                                                                                                                                                                                                                                                                                                                                                                                                                                                                                                                                                                                                                                                                                                                                                                                                                                                                                                                                                                                                                                                                                                                                                                                                                                                                                                                                                                                                                                                                                                                                                                                                                                                                                                                                                                                                                                                                                                                                                                                                                                                                                                                                                                                                                                                                                                                                                                                                                                                                                                                                                                                                                                                                                                                                                                                                                                                                                                                                                                                                                                                                                                                                                                                                                                                                                                                                                                                                                                                                                                                                                                                                                                                                                                                                                                                                                                                                                                                                                                                                                                                                                                                                                                                                                                       \n",
       "11  [$350.00 , $50.00 , $227.92 , $84.79 , $227.00 , $106.52 , $75.00 , nan, $79.95 , $43.49 , $17.00 , $0.00 , $337.40 , $149.08 , $301.69 , $21.00 , $275.00 , $30.00 , $40.00 , $678.00 , $207.99 , $171.99 , $801.90 , $53.38 , $74.55 , $225.00 , $210.00 , $26.00 , $20.00 , $65.00 , $364.07 , $457.80 , $3;250.00 , $100.00 , $700.00 , $144.00 , $237.00 , $70.00 , $3;080.69 , $58.00 , $60.00 , $499.00 , $95.00 , $382.99 , $231.00 , $600.00 , $25.00 , $293.84 , $234.70 , $1;000.00 , $10.00 , $291.67 , $150.00 , $82.90 , $120.00 , $270.00 , $263.00 , $208.00 , $202.50 , $250.00 , $165.00 , $1;777.00 , $492.00 , $35.00 , $112.00 , $420.00 , $200.00 , $162.00 , $80.00 , $726.74 , $71.00 , $450.00 , $197.00 , $74.00 , $280.00 , $52.50 , $1;470.69 , $167.00 , $244.00 , $204.00 , $27.50 , $78.80 , $1;760.00 , $500.00 , $2;342.00 , $37.00 , $49.00 , $229.00 , $775.16 , $742.25 , $435.00 , $45.00 , $15.00 , $223.00 , $569.50 , $116.06 , $782.65 , $75.91 , $332.50 , $31.00 , ...]                                                                                                                                                                                                                                                                                                                                                                                                                                                                                                                                                                                                                                                                                                                                                                                                                                                                                                                                                                                                                                                                                                                                                                                                                                                                                                                                                                                                                                                                                                                                                                                                                                                                                                                                                                                                                                                                                                                                                                                                                                                                                                                                                                                                                                                                                                                                                                                                                                                                                                                                                                                                                                                                                                                                                                                                                                                                                                                                                                                                                                                                                                                                                                                                                                                                                                                                                                                                                                                                                                                                                                                                                                                                                                                                                                                                                                                                                                                                                                                                                                                                                                                                                                                                                                                                                                                                                                                                                                                                                                                                                                                                                                                                                                                                                                                                                                                                                                                                                                                                                                                                                                                                                                                                                                                                                                                                                                                                                                                          \n",
       "12  [Approve in Full, Settle, nan, Deny]                                                                                                                                                                                                                                                                                                                                                                                                                                                                                                                                                                                                                                                                                                                                                                                                                                                                                                                                                                                                                                                                                                                                                                                                                                                                                                                                                                                                                                                                                                                                                                                                                                                                                                                                                                                                                                                                                                                                                                                                                                                                                                                                                                                                                                                                                                                                                                                                                                                                                                                                                                                                                                                                                                                                                                                                                                                                                                                                                                                                                                                                                                                                                                                                                                                                                                                                                                                                                                                                                                                                                                                                                                                                                                                                                                                                                                                                                                                                                                                                                                                                                                                                                                                                                                                                                                                                                                                                                                                                                                                                                                                                                                                                                                                                                                                                                                                                                                                                                                                                                                                                                                                                                                                                                                                                                                                                                                                                                                                                                                                                                                                                                                                                                                                                                                                                                                                                                                                                                                                                                                                                                                                                                                                                                                                                                                                                                                                                                                        "
      ]
     },
     "execution_count": 5,
     "metadata": {},
     "output_type": "execute_result"
    }
   ],
   "source": [
    "pd.set_option('display.max_colwidth', -1)\n",
    "\n",
    "listItem = []\n",
    "for col in df.columns :\n",
    "    listItem.append( [col, df[col].nunique(), df[col].unique()])\n",
    "\n",
    "tabel1Desc = pd.DataFrame(columns=['Column Name', 'Number of Unique', 'Unique Sample'],\n",
    "                     data=listItem)\n",
    "tabel1Desc"
   ]
  },
  {
   "cell_type": "markdown",
   "metadata": {},
   "source": [
    "*__Kesimpulan Data Overview:__*\n",
    "- Kolom **Claim Number** berisi kode unik untuk masing masing klaim yang sebenarnya tidak diperlukan dalam analisis. Sehingga kolom ini dapat diabaikan dalam analisis.\n",
    "- Kolom **Date Received** dan **Incident Date** seharusnya ber-_type_ datetime.\n",
    "- Kolom **Item** terdapat unique value yang sama (contoh: Cameras - Digital), tetapi dicantumkan lebih dari satu kali. Hal ini dikarenakan terdapat _white space_ pada nilai tersebut dan akan dihapus pada saat proses data cleaning.\n",
    "- Kolom **Claim Amount** dan **Close Amount** terdapat special character seperti '$' , ';' , '-' (contoh: $2 ; 270.09). Sehingga, akan dilakukan penyamaan format dan type data yang seharusnya yaitu berupa numerik.\n",
    "- Kolom **Status** terdapat informasi yang sama akan tetapi hanya penulisannya saja yang berbeda (contoh: 'Approved' dengan 'Approve in Full', 'Denied' dengan 'Deny', dll). Akan dilakukan pengkategorian dengan informasi yang sama.\n",
    "- Semua kolom pada data kecuali claim number memiliki missing values (nan), sehingga akan dilakukan penanganan untuk mengatasi missing value tersebut."
   ]
  },
  {
   "cell_type": "markdown",
   "metadata": {},
   "source": [
    "## Missing Values Overview"
   ]
  },
  {
   "cell_type": "code",
   "execution_count": 6,
   "metadata": {},
   "outputs": [
    {
     "data": {
      "text/plain": [
       "Claim Number     0.000000 \n",
       "Date Received    0.128753 \n",
       "Incident Date    1.068699 \n",
       "Airport Code     4.172970 \n",
       "Airport Name     4.172970 \n",
       "Airline Name     16.827975\n",
       "Claim Type       3.873851 \n",
       "Claim Site       0.362271 \n",
       "Item             1.941576 \n",
       "Claim Amount     1.979272 \n",
       "Status           0.002448 \n",
       "Close Amount     33.755820\n",
       "Disposition      35.692501\n",
       "dtype: float64"
      ]
     },
     "execution_count": 6,
     "metadata": {},
     "output_type": "execute_result"
    }
   ],
   "source": [
    "# persentase missing value di tiap kolom\n",
    "df.isna().sum()/df.shape[0]*100"
   ]
  },
  {
   "cell_type": "code",
   "execution_count": 7,
   "metadata": {},
   "outputs": [
    {
     "data": {
      "text/plain": [
       "<AxesSubplot:>"
      ]
     },
     "execution_count": 7,
     "metadata": {},
     "output_type": "execute_result"
    },
    {
     "data": {
      "image/png": "[encoded data removed]",
      "text/plain": [
       "<Figure size 720x720 with 2 Axes>"
      ]
     },
     "metadata": {
      "needs_background": "light"
     },
     "output_type": "display_data"
    }
   ],
   "source": [
    "# Sebaran missing value di dalam data\n",
    "plt.figure(figsize=(10,10))\n",
    "sns.heatmap(df[['Date Received','Incident Date','Airport Code','Airport Name','Claim Type','Claim Site','Item','Claim Amount','Status','Close Amount','Disposition']].isna())"
   ]
  },
  {
   "cell_type": "markdown",
   "metadata": {},
   "source": [
    "*__Kesimpulan Missing Values Overview:__*\n",
    "\n",
    "- Kolom **Disposition** memiliki missing value tertinggi, mencapai **35.69%**. Dari informasi di atas dapat diketahui bahwa kolom Disposition berkaitan dengan kolom Status.\n",
    "- Kolom **Close Amount** memiliki missing value tertinggi kedua, mencapai **33.75%**. Dari informasi di atas dapat diketahui bahwa kolom Close Amount berkaitan dengan kolom Claim Amount.\n",
    "- Dapat dilihat di atas, persebaran missing value pada kolom Disposition berkaitan dengan kolom Close Amount. Rata-rata missing value yang terdapat pada kolom Disposition juga terdapat pada kolom Close Amount\n",
    "- Missing value di beberapa kolom diantaranya Airline Name, Close Amount, dan Disposition mencapai lebih dari 10%\n",
    "\n",
    "Sebelum melakukan proses analisis data, perlu dilakukan penanganan terhadap missing value pada masing-masing kolom. Dikarenakan persentase missing value yang tinggi pada beberapa kolom, data tidak dapat langsung dihapus karena dapat mempengaruhi hasil analisis statistik. Oleh karena itu, dapat dilakukan dengan mengisi missing value. Pengisian missing value dapat dilakukan dengan cara melihat hubungan antar kolom atau dapat dilakukan dengan mengisi missing value dengan median, mean, modus, maupun rasio tergantung pada kondisi masing-masing kolom."
   ]
  },
  {
   "cell_type": "markdown",
   "metadata": {},
   "source": [
    "# <center> **DATA CLEANING** <center/>\n",
    "---\n",
    "---"
   ]
  },
  {
   "cell_type": "markdown",
   "metadata": {},
   "source": [
    "## Data Filtering\n",
    "\n",
    "Berdasarkan informasi, seharusnya database merekam claim pada tahun 2002 hingga 2015. Apabila terdapat data di luar range tersebut, maka akan dilakukan penghapusan."
   ]
  },
  {
   "cell_type": "code",
   "execution_count": 8,
   "metadata": {},
   "outputs": [],
   "source": [
    "df['Date Received'] = pd.to_datetime(df['Date Received'])"
   ]
  },
  {
   "cell_type": "code",
   "execution_count": 9,
   "metadata": {},
   "outputs": [
    {
     "data": {
      "text/html": [
       "<div>\n",
       "<style scoped>\n",
       "    .dataframe tbody tr th:only-of-type {\n",
       "        vertical-align: middle;\n",
       "    }\n",
       "\n",
       "    .dataframe tbody tr th {\n",
       "        vertical-align: top;\n",
       "    }\n",
       "\n",
       "    .dataframe thead th {\n",
       "        text-align: right;\n",
       "    }\n",
       "</style>\n",
       "<table border=\"1\" class=\"dataframe\">\n",
       "  <thead>\n",
       "    <tr style=\"text-align: right;\">\n",
       "      <th></th>\n",
       "      <th>Claim Number</th>\n",
       "      <th>Date Received</th>\n",
       "      <th>Incident Date</th>\n",
       "      <th>Airport Code</th>\n",
       "      <th>Airport Name</th>\n",
       "      <th>Airline Name</th>\n",
       "      <th>Claim Type</th>\n",
       "      <th>Claim Site</th>\n",
       "      <th>Item</th>\n",
       "      <th>Claim Amount</th>\n",
       "      <th>Status</th>\n",
       "      <th>Close Amount</th>\n",
       "      <th>Disposition</th>\n",
       "    </tr>\n",
       "  </thead>\n",
       "  <tbody>\n",
       "    <tr>\n",
       "      <th>96936</th>\n",
       "      <td>2006051105953</td>\n",
       "      <td>2020-05-08</td>\n",
       "      <td>4/4/2006 0:00</td>\n",
       "      <td>JFK</td>\n",
       "      <td>John F. Kennedy International</td>\n",
       "      <td>NaN</td>\n",
       "      <td>Property Damage</td>\n",
       "      <td>Checked Baggage</td>\n",
       "      <td>Clocks - Inexpensive ($75.00 or less); Clothing - Shoes; belts; accessories; etc.; Lighting Supplies (globe domes; electric candlesticks; candelabra; etc.); Luggage (all types including footlockers)</td>\n",
       "      <td>$637.76</td>\n",
       "      <td>Settled</td>\n",
       "      <td>$179.08</td>\n",
       "      <td>Settle</td>\n",
       "    </tr>\n",
       "    <tr>\n",
       "      <th>96937</th>\n",
       "      <td>2005051985068</td>\n",
       "      <td>2025-05-17</td>\n",
       "      <td>4/18/2005 0:00</td>\n",
       "      <td>MCO</td>\n",
       "      <td>Orlando International Airport</td>\n",
       "      <td>AirTran Airlines</td>\n",
       "      <td>Property Damage</td>\n",
       "      <td>Checked Baggage</td>\n",
       "      <td>Musical Instruments - Other - Over $250</td>\n",
       "      <td>$100.00</td>\n",
       "      <td>Approved</td>\n",
       "      <td>$100.00</td>\n",
       "      <td>Approve in Full</td>\n",
       "    </tr>\n",
       "    <tr>\n",
       "      <th>96938</th>\n",
       "      <td>2005060785897</td>\n",
       "      <td>2025-05-31</td>\n",
       "      <td>5/6/2005 0:00</td>\n",
       "      <td>OAK</td>\n",
       "      <td>Metropolitan Oakland International</td>\n",
       "      <td>Southwest Airlines</td>\n",
       "      <td>Property Damage</td>\n",
       "      <td>Checked Baggage</td>\n",
       "      <td>Luggage (all types including footlockers)</td>\n",
       "      <td>$65.00</td>\n",
       "      <td>Denied</td>\n",
       "      <td>$0.00</td>\n",
       "      <td>Deny</td>\n",
       "    </tr>\n",
       "    <tr>\n",
       "      <th>96939</th>\n",
       "      <td>2005090792253</td>\n",
       "      <td>2025-05-31</td>\n",
       "      <td>7/26/2005 0:00</td>\n",
       "      <td>LAX</td>\n",
       "      <td>Los Angeles International Airport</td>\n",
       "      <td>NaN</td>\n",
       "      <td>Property Damage</td>\n",
       "      <td>Checked Baggage</td>\n",
       "      <td>Locks</td>\n",
       "      <td>$250.00</td>\n",
       "      <td>Denied</td>\n",
       "      <td>$0.00</td>\n",
       "      <td>Deny</td>\n",
       "    </tr>\n",
       "    <tr>\n",
       "      <th>96940</th>\n",
       "      <td>2005081290465</td>\n",
       "      <td>2025-08-02</td>\n",
       "      <td>7/20/2005 0:00</td>\n",
       "      <td>SAN</td>\n",
       "      <td>San Diego International</td>\n",
       "      <td>Jet Blue</td>\n",
       "      <td>Passenger Property Loss</td>\n",
       "      <td>Checked Baggage</td>\n",
       "      <td>Photographic Film</td>\n",
       "      <td>$32.14</td>\n",
       "      <td>Canceled</td>\n",
       "      <td>$0.00</td>\n",
       "      <td>NaN</td>\n",
       "    </tr>\n",
       "    <tr>\n",
       "      <th>96941</th>\n",
       "      <td>2005081190381</td>\n",
       "      <td>2025-08-02</td>\n",
       "      <td>7/2/2005 0:00</td>\n",
       "      <td>ORD</td>\n",
       "      <td>Chicago O'Hare International Airport</td>\n",
       "      <td>LOT Polish Airlines</td>\n",
       "      <td>Passenger Property Loss</td>\n",
       "      <td>Checked Baggage</td>\n",
       "      <td>Cameras - Digital</td>\n",
       "      <td>$599.00</td>\n",
       "      <td>Denied</td>\n",
       "      <td>$0.00</td>\n",
       "      <td>Deny</td>\n",
       "    </tr>\n",
       "    <tr>\n",
       "      <th>96942</th>\n",
       "      <td>0212087M</td>\n",
       "      <td>2040-02-12</td>\n",
       "      <td>12/20/2003 0:00</td>\n",
       "      <td>ATL</td>\n",
       "      <td>Hartsfield-Jackson Atlanta International Airport</td>\n",
       "      <td>NaN</td>\n",
       "      <td>Property Damage</td>\n",
       "      <td>Checked Baggage</td>\n",
       "      <td>Other</td>\n",
       "      <td>$8.48</td>\n",
       "      <td>Approved</td>\n",
       "      <td>$8.48</td>\n",
       "      <td>Approve in Full</td>\n",
       "    </tr>\n",
       "    <tr>\n",
       "      <th>96943</th>\n",
       "      <td>2004120368430</td>\n",
       "      <td>2044-10-18</td>\n",
       "      <td>10/3/2004 0:00</td>\n",
       "      <td>DTW</td>\n",
       "      <td>Detroit Metropolitan Wayne County Airport</td>\n",
       "      <td>Northwest Airlines</td>\n",
       "      <td>Passenger Property Loss</td>\n",
       "      <td>Checked Baggage</td>\n",
       "      <td>Jewelry - Fine</td>\n",
       "      <td>$800.00</td>\n",
       "      <td>Denied</td>\n",
       "      <td>NaN</td>\n",
       "      <td>Deny</td>\n",
       "    </tr>\n",
       "    <tr>\n",
       "      <th>96944</th>\n",
       "      <td>2005051985108</td>\n",
       "      <td>2055-05-17</td>\n",
       "      <td>4/30/2005 0:00</td>\n",
       "      <td>MSP</td>\n",
       "      <td>Minneapolis/ St.Paul International Airport</td>\n",
       "      <td>Northwest Airlines</td>\n",
       "      <td>Property Damage</td>\n",
       "      <td>Checked Baggage</td>\n",
       "      <td>Other</td>\n",
       "      <td>$96.58</td>\n",
       "      <td>Denied</td>\n",
       "      <td>$0.00</td>\n",
       "      <td>Deny</td>\n",
       "    </tr>\n",
       "  </tbody>\n",
       "</table>\n",
       "</div>"
      ],
      "text/plain": [
       "        Claim Number Date Received    Incident Date Airport Code  \\\n",
       "96936  2006051105953 2020-05-08     4/4/2006 0:00    JFK           \n",
       "96937  2005051985068 2025-05-17     4/18/2005 0:00   MCO           \n",
       "96938  2005060785897 2025-05-31     5/6/2005 0:00    OAK           \n",
       "96939  2005090792253 2025-05-31     7/26/2005 0:00   LAX           \n",
       "96940  2005081290465 2025-08-02     7/20/2005 0:00   SAN           \n",
       "96941  2005081190381 2025-08-02     7/2/2005 0:00    ORD           \n",
       "96942  0212087M      2040-02-12     12/20/2003 0:00  ATL           \n",
       "96943  2004120368430 2044-10-18     10/3/2004 0:00   DTW           \n",
       "96944  2005051985108 2055-05-17     4/30/2005 0:00   MSP           \n",
       "\n",
       "                                           Airport Name         Airline Name  \\\n",
       "96936  John F. Kennedy International                     NaN                   \n",
       "96937  Orlando International Airport                     AirTran Airlines      \n",
       "96938  Metropolitan Oakland International                Southwest Airlines    \n",
       "96939  Los Angeles International Airport                 NaN                   \n",
       "96940  San Diego International                           Jet Blue              \n",
       "96941  Chicago O'Hare International Airport              LOT Polish Airlines   \n",
       "96942  Hartsfield-Jackson Atlanta International Airport  NaN                   \n",
       "96943  Detroit Metropolitan Wayne County Airport         Northwest Airlines    \n",
       "96944  Minneapolis/ St.Paul International Airport        Northwest Airlines    \n",
       "\n",
       "                    Claim Type       Claim Site  \\\n",
       "96936  Property Damage          Checked Baggage   \n",
       "96937  Property Damage          Checked Baggage   \n",
       "96938  Property Damage          Checked Baggage   \n",
       "96939  Property Damage          Checked Baggage   \n",
       "96940  Passenger Property Loss  Checked Baggage   \n",
       "96941  Passenger Property Loss  Checked Baggage   \n",
       "96942  Property Damage          Checked Baggage   \n",
       "96943  Passenger Property Loss  Checked Baggage   \n",
       "96944  Property Damage          Checked Baggage   \n",
       "\n",
       "                                                                                                                                                                                                         Item  \\\n",
       "96936  Clocks - Inexpensive ($75.00 or less); Clothing - Shoes; belts; accessories; etc.; Lighting Supplies (globe domes; electric candlesticks; candelabra; etc.); Luggage (all types including footlockers)   \n",
       "96937  Musical Instruments - Other - Over $250                                                                                                                                                                  \n",
       "96938  Luggage (all types including footlockers)                                                                                                                                                                \n",
       "96939  Locks                                                                                                                                                                                                    \n",
       "96940  Photographic Film                                                                                                                                                                                        \n",
       "96941  Cameras - Digital                                                                                                                                                                                        \n",
       "96942  Other                                                                                                                                                                                                    \n",
       "96943  Jewelry - Fine                                                                                                                                                                                           \n",
       "96944  Other                                                                                                                                                                                                    \n",
       "\n",
       "      Claim Amount    Status Close Amount      Disposition  \n",
       "96936  $637.76      Settled   $179.08      Settle           \n",
       "96937  $100.00      Approved  $100.00      Approve in Full  \n",
       "96938  $65.00       Denied    $0.00        Deny             \n",
       "96939  $250.00      Denied    $0.00        Deny             \n",
       "96940  $32.14       Canceled  $0.00        NaN              \n",
       "96941  $599.00      Denied    $0.00        Deny             \n",
       "96942  $8.48        Approved  $8.48        Approve in Full  \n",
       "96943  $800.00      Denied    NaN          Deny             \n",
       "96944  $96.58       Denied    $0.00        Deny             "
      ]
     },
     "execution_count": 9,
     "metadata": {},
     "output_type": "execute_result"
    }
   ],
   "source": [
    "df.loc[df['Date Received'] > '31/12/2015']"
   ]
  },
  {
   "cell_type": "code",
   "execution_count": 10,
   "metadata": {},
   "outputs": [],
   "source": [
    "df.drop(df[df['Date Received'] > '31/12/2015'].index, inplace=True)\n",
    "df.drop(df[df['Date Received'] < '01/01/2002'].index, inplace=True)"
   ]
  },
  {
   "cell_type": "code",
   "execution_count": 11,
   "metadata": {},
   "outputs": [
    {
     "name": "stdout",
     "output_type": "stream",
     "text": [
      "<class 'pandas.core.frame.DataFrame'>\n",
      "Int64Index: 204252 entries, 0 to 204266\n",
      "Data columns (total 13 columns):\n",
      " #   Column         Non-Null Count   Dtype         \n",
      "---  ------         --------------   -----         \n",
      " 0   Claim Number   204252 non-null  object        \n",
      " 1   Date Received  203989 non-null  datetime64[ns]\n",
      " 2   Incident Date  202069 non-null  object        \n",
      " 3   Airport Code   195728 non-null  object        \n",
      " 4   Airport Name   195728 non-null  object        \n",
      " 5   Airline Name   169881 non-null  object        \n",
      " 6   Claim Type     196339 non-null  object        \n",
      " 7   Claim Site     203512 non-null  object        \n",
      " 8   Item           200286 non-null  object        \n",
      " 9   Claim Amount   200209 non-null  object        \n",
      " 10  Status         204247 non-null  object        \n",
      " 11  Close Amount   135301 non-null  object        \n",
      " 12  Disposition    131345 non-null  object        \n",
      "dtypes: datetime64[ns](1), object(12)\n",
      "memory usage: 21.8+ MB\n"
     ]
    }
   ],
   "source": [
    "df.info()"
   ]
  },
  {
   "cell_type": "code",
   "execution_count": 12,
   "metadata": {},
   "outputs": [
    {
     "data": {
      "text/plain": [
       "Claim Number     0.000000 \n",
       "Date Received    0.128763 \n",
       "Incident Date    1.068778 \n",
       "Airport Code     4.173276 \n",
       "Airport Name     4.173276 \n",
       "Airline Name     16.827742\n",
       "Claim Type       3.874136 \n",
       "Claim Site       0.362298 \n",
       "Item             1.941719 \n",
       "Claim Amount     1.979418 \n",
       "Status           0.002448 \n",
       "Close Amount     33.757809\n",
       "Disposition      35.694632\n",
       "dtype: float64"
      ]
     },
     "execution_count": 12,
     "metadata": {},
     "output_type": "execute_result"
    }
   ],
   "source": [
    "# persentase missing value di tiap kolom\n",
    "df.isna().sum()/df.shape[0]*100"
   ]
  },
  {
   "cell_type": "markdown",
   "metadata": {},
   "source": [
    "## Penanganan Missing Value"
   ]
  },
  {
   "cell_type": "markdown",
   "metadata": {},
   "source": [
    "### Penanganan Missing Value pada Kolom Disposition dan Status\n",
    "Untuk _handle missing value_, maka dapat dilakukan dari data yang memiliki _missing value_ dengan persentasi tertinggi, yaitu kolom Disposition.\n",
    "\n",
    "- Dapat diketahui bahwa data pada kolom Disposition merupakan representasi dari data pada kolom Status. Maka jika pada kolom Disposition terdapat missing value, maka missing valua tersebut dapat diisi dengan nilai pada kolom status.\n",
    "- Pada kolom status, banyak terdapat kategori. Kemudian kategori tersebut, dapat kita ringkas menjadi 3 kategori, yaitu:\n",
    "1. Denied   \n",
    "2. Approved\n",
    "3. Settled\n",
    "- Selain 3 kategori tersebut, maka data tidak akan digunakan dan akan dihapus.\n",
    "- Kolom Disposition juga mengikuti kategori diatas."
   ]
  },
  {
   "cell_type": "code",
   "execution_count": 13,
   "metadata": {},
   "outputs": [
    {
     "data": {
      "text/plain": [
       "Denied                                                                                                                           68331\n",
       "Approved                                                                                                                         34997\n",
       "Deny                                                                                                                             28237\n",
       "Settled                                                                                                                          27954\n",
       "-                                                                                                                                12752\n",
       "Approve in Full                                                                                                                  12364\n",
       "Canceled                                                                                                                         7017 \n",
       "Settle                                                                                                                           5766 \n",
       "Insufficient; one of the following items required: sum certain; statement of fact; signature; location of incident; and date.    5381 \n",
       "Closed as a contractor claim                                                                                                     1315 \n",
       "In litigation                                                                                                                    108  \n",
       "Claim entered                                                                                                                    14   \n",
       "In review                                                                                                                        9    \n",
       "Claim has been assigned for further investigation                                                                                1    \n",
       "Pending response from claimant                                                                                                   1    \n",
       "Name: Status, dtype: int64"
      ]
     },
     "metadata": {},
     "output_type": "display_data"
    }
   ],
   "source": [
    "display(df['Status'].value_counts())"
   ]
  },
  {
   "cell_type": "code",
   "execution_count": 14,
   "metadata": {},
   "outputs": [
    {
     "name": "stdout",
     "output_type": "stream",
     "text": [
      "Denied      96568\n",
      "Approved    47361\n",
      "Settled     33720\n",
      "Name: Status, dtype: int64\n",
      "177649\n"
     ]
    }
   ],
   "source": [
    "valid_targets = ['Denied','Approved','Deny','Settled','Approve in Full','Settle']\n",
    "\n",
    "df = df[df.Status.isin(valid_targets)]\n",
    "df.Status.replace('Approve in Full','Approved',inplace=True)\n",
    "df.Status.replace('Deny','Denied',inplace=True)\n",
    "df.Status.replace('Settle','Settled',inplace=True)\n",
    "\n",
    "print(df.Status.value_counts())\n",
    "print(len(df))"
   ]
  },
  {
   "cell_type": "code",
   "execution_count": 15,
   "metadata": {},
   "outputs": [],
   "source": [
    "df.loc[(df['Disposition'].isna()),['Disposition']]= df['Status']"
   ]
  },
  {
   "cell_type": "code",
   "execution_count": 16,
   "metadata": {},
   "outputs": [
    {
     "data": {
      "text/plain": [
       "Close Amount    47776\n",
       "Disposition     0    \n",
       "dtype: int64"
      ]
     },
     "execution_count": 16,
     "metadata": {},
     "output_type": "execute_result"
    }
   ],
   "source": [
    "df[['Close Amount', 'Disposition']].isna().sum()"
   ]
  },
  {
   "cell_type": "code",
   "execution_count": 17,
   "metadata": {},
   "outputs": [
    {
     "data": {
      "text/plain": [
       "Deny               68289\n",
       "Approve in Full    34997\n",
       "Denied             28279\n",
       "Settle             27954\n",
       "Approved           12364\n",
       "Settled            5766 \n",
       "Name: Disposition, dtype: int64"
      ]
     },
     "execution_count": 17,
     "metadata": {},
     "output_type": "execute_result"
    }
   ],
   "source": [
    "df['Disposition'].value_counts()"
   ]
  },
  {
   "cell_type": "code",
   "execution_count": 18,
   "metadata": {},
   "outputs": [],
   "source": [
    "df.Disposition.replace('Approve in Full','Approved',inplace=True)\n",
    "df.Disposition.replace('Deny','Denied',inplace=True)\n",
    "df.Disposition.replace('Settle','Settled',inplace=True)"
   ]
  },
  {
   "cell_type": "code",
   "execution_count": 19,
   "metadata": {},
   "outputs": [
    {
     "data": {
      "text/plain": [
       "Denied      96568\n",
       "Approved    47361\n",
       "Settled     33720\n",
       "Name: Disposition, dtype: int64"
      ]
     },
     "execution_count": 19,
     "metadata": {},
     "output_type": "execute_result"
    }
   ],
   "source": [
    "df['Disposition'].value_counts()"
   ]
  },
  {
   "cell_type": "code",
   "execution_count": 20,
   "metadata": {},
   "outputs": [
    {
     "data": {
      "text/plain": [
       "Disposition    0\n",
       "Status         0\n",
       "dtype: int64"
      ]
     },
     "execution_count": 20,
     "metadata": {},
     "output_type": "execute_result"
    }
   ],
   "source": [
    "df[['Disposition', 'Status']].isna().sum()"
   ]
  },
  {
   "cell_type": "markdown",
   "metadata": {},
   "source": [
    "### Penanganan Missing Value pada Kolom Claim Amount\n",
    "- Data missing value akan diisi dengan nilai 0, dianggap bahwa claim hanya diajukan tanpa permintaan ganti rugi.\n",
    "- Menghapus seluruh special character pada kolom.\n",
    "- Mengubah type data menjadi type data numeric."
   ]
  },
  {
   "cell_type": "code",
   "execution_count": 21,
   "metadata": {},
   "outputs": [],
   "source": [
    "# Delete special character\n",
    "df['Claim Amount'] = df['Claim Amount'].str.replace(';','').str.replace('$','').str.replace('-','0')\n",
    "df['Claim Amount'] = pd.to_numeric(df['Claim Amount'], errors='coerce')"
   ]
  },
  {
   "cell_type": "code",
   "execution_count": 22,
   "metadata": {},
   "outputs": [
    {
     "data": {
      "text/html": [
       "<div>\n",
       "<style scoped>\n",
       "    .dataframe tbody tr th:only-of-type {\n",
       "        vertical-align: middle;\n",
       "    }\n",
       "\n",
       "    .dataframe tbody tr th {\n",
       "        vertical-align: top;\n",
       "    }\n",
       "\n",
       "    .dataframe thead th {\n",
       "        text-align: right;\n",
       "    }\n",
       "</style>\n",
       "<table border=\"1\" class=\"dataframe\">\n",
       "  <thead>\n",
       "    <tr style=\"text-align: right;\">\n",
       "      <th></th>\n",
       "      <th>Claim Number</th>\n",
       "      <th>Date Received</th>\n",
       "      <th>Incident Date</th>\n",
       "      <th>Airport Code</th>\n",
       "      <th>Airport Name</th>\n",
       "      <th>Airline Name</th>\n",
       "      <th>Claim Type</th>\n",
       "      <th>Claim Site</th>\n",
       "      <th>Item</th>\n",
       "      <th>Claim Amount</th>\n",
       "      <th>Status</th>\n",
       "      <th>Close Amount</th>\n",
       "      <th>Disposition</th>\n",
       "    </tr>\n",
       "  </thead>\n",
       "  <tbody>\n",
       "    <tr>\n",
       "      <th>2603</th>\n",
       "      <td>0702509M</td>\n",
       "      <td>2003-02-13</td>\n",
       "      <td>12/31/2002 0:00</td>\n",
       "      <td>MCO</td>\n",
       "      <td>Orlando International Airport</td>\n",
       "      <td>UAL</td>\n",
       "      <td>Property Damage</td>\n",
       "      <td>Checked Baggage</td>\n",
       "      <td>Locks</td>\n",
       "      <td>0.0</td>\n",
       "      <td>Denied</td>\n",
       "      <td>$0.00</td>\n",
       "      <td>Denied</td>\n",
       "    </tr>\n",
       "    <tr>\n",
       "      <th>10289</th>\n",
       "      <td>0708149M</td>\n",
       "      <td>2003-07-08</td>\n",
       "      <td>6/13/2003 0:00</td>\n",
       "      <td>OAK</td>\n",
       "      <td>Metropolitan Oakland International</td>\n",
       "      <td>UAL</td>\n",
       "      <td>Passenger Property Loss</td>\n",
       "      <td>Checked Baggage</td>\n",
       "      <td>Jewelry - Fine</td>\n",
       "      <td>0.0</td>\n",
       "      <td>Denied</td>\n",
       "      <td>$0.00</td>\n",
       "      <td>Denied</td>\n",
       "    </tr>\n",
       "    <tr>\n",
       "      <th>10933</th>\n",
       "      <td>0715177M</td>\n",
       "      <td>2003-07-15</td>\n",
       "      <td>7/1/2003 0:00</td>\n",
       "      <td>SEA</td>\n",
       "      <td>Seattle-Tacoma International</td>\n",
       "      <td>NaN</td>\n",
       "      <td>Passenger Property Loss</td>\n",
       "      <td>Checkpoint</td>\n",
       "      <td>Other</td>\n",
       "      <td>0.0</td>\n",
       "      <td>Denied</td>\n",
       "      <td>$0.00</td>\n",
       "      <td>Denied</td>\n",
       "    </tr>\n",
       "    <tr>\n",
       "      <th>16885</th>\n",
       "      <td>0929001M</td>\n",
       "      <td>2003-09-29</td>\n",
       "      <td>8/30/2003 0:00</td>\n",
       "      <td>SAN</td>\n",
       "      <td>San Diego International</td>\n",
       "      <td>UAL</td>\n",
       "      <td>Passenger Property Loss</td>\n",
       "      <td>Checked Baggage</td>\n",
       "      <td>Other</td>\n",
       "      <td>0.0</td>\n",
       "      <td>Denied</td>\n",
       "      <td>$0.00</td>\n",
       "      <td>Denied</td>\n",
       "    </tr>\n",
       "    <tr>\n",
       "      <th>17088</th>\n",
       "      <td>1002092M</td>\n",
       "      <td>2003-10-02</td>\n",
       "      <td>9/24/2003 0:00</td>\n",
       "      <td>MCO</td>\n",
       "      <td>Orlando International Airport</td>\n",
       "      <td>NaN</td>\n",
       "      <td>NaN</td>\n",
       "      <td>Checkpoint</td>\n",
       "      <td>Cell Phones</td>\n",
       "      <td>0.0</td>\n",
       "      <td>Denied</td>\n",
       "      <td>$0.00</td>\n",
       "      <td>Denied</td>\n",
       "    </tr>\n",
       "    <tr>\n",
       "      <th>...</th>\n",
       "      <td>...</td>\n",
       "      <td>...</td>\n",
       "      <td>...</td>\n",
       "      <td>...</td>\n",
       "      <td>...</td>\n",
       "      <td>...</td>\n",
       "      <td>...</td>\n",
       "      <td>...</td>\n",
       "      <td>...</td>\n",
       "      <td>...</td>\n",
       "      <td>...</td>\n",
       "      <td>...</td>\n",
       "      <td>...</td>\n",
       "    </tr>\n",
       "    <tr>\n",
       "      <th>204161</th>\n",
       "      <td>2015072023983</td>\n",
       "      <td>2015-07-13</td>\n",
       "      <td>6-Jul-15</td>\n",
       "      <td>YNG</td>\n",
       "      <td>Youngstown-Warren Regional</td>\n",
       "      <td>Allegiant Air</td>\n",
       "      <td>Passenger Property Loss</td>\n",
       "      <td>Checked Baggage</td>\n",
       "      <td>Baggage/Cases/Purses</td>\n",
       "      <td>0.0</td>\n",
       "      <td>Denied</td>\n",
       "      <td>NaN</td>\n",
       "      <td>Denied</td>\n",
       "    </tr>\n",
       "    <tr>\n",
       "      <th>204165</th>\n",
       "      <td>2015042722126</td>\n",
       "      <td>2015-04-27</td>\n",
       "      <td>22-Apr-15</td>\n",
       "      <td>YUM</td>\n",
       "      <td>Yuma International Airport</td>\n",
       "      <td>USAir</td>\n",
       "      <td>Passenger Property Loss</td>\n",
       "      <td>Checked Baggage</td>\n",
       "      <td>Computer &amp; Accessories</td>\n",
       "      <td>0.0</td>\n",
       "      <td>Denied</td>\n",
       "      <td>NaN</td>\n",
       "      <td>Denied</td>\n",
       "    </tr>\n",
       "    <tr>\n",
       "      <th>204169</th>\n",
       "      <td>2015102126149</td>\n",
       "      <td>2015-10-01</td>\n",
       "      <td>30-Sep-15</td>\n",
       "      <td>YUM</td>\n",
       "      <td>Yuma International Airport</td>\n",
       "      <td>American Airlines</td>\n",
       "      <td>Passenger Property Loss</td>\n",
       "      <td>Checkpoint</td>\n",
       "      <td>Currency</td>\n",
       "      <td>0.0</td>\n",
       "      <td>Denied</td>\n",
       "      <td>NaN</td>\n",
       "      <td>Denied</td>\n",
       "    </tr>\n",
       "    <tr>\n",
       "      <th>204181</th>\n",
       "      <td>2015050822378</td>\n",
       "      <td>2015-05-05</td>\n",
       "      <td>9-Apr-15</td>\n",
       "      <td>ZZX</td>\n",
       "      <td>Non TSA Airport (motor vehicle)</td>\n",
       "      <td>-</td>\n",
       "      <td>Motor Vehicle</td>\n",
       "      <td>Motor Vehicle</td>\n",
       "      <td>Other</td>\n",
       "      <td>0.0</td>\n",
       "      <td>Denied</td>\n",
       "      <td>NaN</td>\n",
       "      <td>Denied</td>\n",
       "    </tr>\n",
       "    <tr>\n",
       "      <th>204185</th>\n",
       "      <td>2015052722774</td>\n",
       "      <td>2015-05-27</td>\n",
       "      <td>29-Apr-15</td>\n",
       "      <td>ZZX</td>\n",
       "      <td>Non TSA Airport (motor vehicle)</td>\n",
       "      <td>-</td>\n",
       "      <td>Motor Vehicle</td>\n",
       "      <td>Motor Vehicle</td>\n",
       "      <td>-</td>\n",
       "      <td>0.0</td>\n",
       "      <td>Denied</td>\n",
       "      <td>NaN</td>\n",
       "      <td>Denied</td>\n",
       "    </tr>\n",
       "  </tbody>\n",
       "</table>\n",
       "<p>28290 rows × 13 columns</p>\n",
       "</div>"
      ],
      "text/plain": [
       "         Claim Number Date Received    Incident Date Airport Code  \\\n",
       "2603    0702509M      2003-02-13     12/31/2002 0:00  MCO           \n",
       "10289   0708149M      2003-07-08     6/13/2003 0:00   OAK           \n",
       "10933   0715177M      2003-07-15     7/1/2003 0:00    SEA           \n",
       "16885   0929001M      2003-09-29     8/30/2003 0:00   SAN           \n",
       "17088   1002092M      2003-10-02     9/24/2003 0:00   MCO           \n",
       "...          ...             ...                ...   ...           \n",
       "204161  2015072023983 2015-07-13     6-Jul-15         YNG           \n",
       "204165  2015042722126 2015-04-27     22-Apr-15        YUM           \n",
       "204169  2015102126149 2015-10-01     30-Sep-15        YUM           \n",
       "204181  2015050822378 2015-05-05     9-Apr-15         ZZX           \n",
       "204185  2015052722774 2015-05-27     29-Apr-15        ZZX           \n",
       "\n",
       "                              Airport Name       Airline Name  \\\n",
       "2603    Orlando International Airport       UAL                 \n",
       "10289   Metropolitan Oakland International  UAL                 \n",
       "10933   Seattle-Tacoma International        NaN                 \n",
       "16885   San Diego International             UAL                 \n",
       "17088   Orlando International Airport       NaN                 \n",
       "...                               ...       ...                 \n",
       "204161  Youngstown-Warren Regional          Allegiant Air       \n",
       "204165  Yuma International Airport          USAir               \n",
       "204169  Yuma International Airport          American Airlines   \n",
       "204181  Non TSA Airport (motor vehicle)     -                   \n",
       "204185  Non TSA Airport (motor vehicle)     -                   \n",
       "\n",
       "                     Claim Type       Claim Site                    Item  \\\n",
       "2603    Property Damage          Checked Baggage  Locks                    \n",
       "10289   Passenger Property Loss  Checked Baggage  Jewelry - Fine           \n",
       "10933   Passenger Property Loss  Checkpoint       Other                    \n",
       "16885   Passenger Property Loss  Checked Baggage  Other                    \n",
       "17088   NaN                      Checkpoint       Cell Phones              \n",
       "...     ...                             ...               ...              \n",
       "204161  Passenger Property Loss  Checked Baggage  Baggage/Cases/Purses     \n",
       "204165  Passenger Property Loss  Checked Baggage  Computer & Accessories   \n",
       "204169  Passenger Property Loss  Checkpoint       Currency                 \n",
       "204181  Motor Vehicle            Motor Vehicle    Other                    \n",
       "204185  Motor Vehicle            Motor Vehicle    -                        \n",
       "\n",
       "        Claim Amount  Status Close Amount Disposition  \n",
       "2603    0.0           Denied  $0.00        Denied      \n",
       "10289   0.0           Denied  $0.00        Denied      \n",
       "10933   0.0           Denied  $0.00        Denied      \n",
       "16885   0.0           Denied  $0.00        Denied      \n",
       "17088   0.0           Denied  $0.00        Denied      \n",
       "...     ...              ...     ...          ...      \n",
       "204161  0.0           Denied  NaN          Denied      \n",
       "204165  0.0           Denied  NaN          Denied      \n",
       "204169  0.0           Denied  NaN          Denied      \n",
       "204181  0.0           Denied  NaN          Denied      \n",
       "204185  0.0           Denied  NaN          Denied      \n",
       "\n",
       "[28290 rows x 13 columns]"
      ]
     },
     "execution_count": 22,
     "metadata": {},
     "output_type": "execute_result"
    }
   ],
   "source": [
    "df.loc[df['Claim Amount']==0.00]"
   ]
  },
  {
   "cell_type": "code",
   "execution_count": 23,
   "metadata": {},
   "outputs": [],
   "source": [
    "df['Claim Amount'].fillna(0, inplace=True)"
   ]
  },
  {
   "cell_type": "code",
   "execution_count": 24,
   "metadata": {},
   "outputs": [
    {
     "data": {
      "text/plain": [
       "0"
      ]
     },
     "execution_count": 24,
     "metadata": {},
     "output_type": "execute_result"
    }
   ],
   "source": [
    "df['Claim Amount'].isna().sum()"
   ]
  },
  {
   "cell_type": "markdown",
   "metadata": {},
   "source": [
    "### Penanganan Missing Value pada Kolom Close Amount\n",
    "- Menghapus seluruh special character pada kolom.\n",
    "- Mengubah type data menjadi type data numeric.\n",
    "- Penanganan missing value pada kolom close amount berdasarkan kolom Disposition dan Claim Amount:\n",
    "1. Jika kolom Disposition berisi kategori denied, maka missing value akan diisi dengan 0. Hal ini karena claim yang diajukan ditolak\n",
    "2. Jika kolom Disposition berisi kategori approved, maka missing value akan diisi dengan nilai yang sama pada kolom Claim Amount. Hal ini karena nilai claim yang diajukan akan sepenuhnya diberikan.\n",
    "3. Jika kolom Disposition berisi kategori settled, maka missing value akan diisi dengan melihat rasio antara Close Amount dan Claim Amount yang terisi penuh pada kedua kolom tesebut karena keduanya saling berhubungan.\n"
   ]
  },
  {
   "cell_type": "code",
   "execution_count": 25,
   "metadata": {},
   "outputs": [],
   "source": [
    "df['Close Amount'] = df['Close Amount'].str.replace(';','').str.replace('$','').str.replace('-','0')\n",
    "df['Close Amount'] = pd.to_numeric(df['Close Amount'])"
   ]
  },
  {
   "cell_type": "code",
   "execution_count": 26,
   "metadata": {},
   "outputs": [],
   "source": [
    "df.loc[df['Disposition']=='Denied','Close Amount']=0"
   ]
  },
  {
   "cell_type": "code",
   "execution_count": 27,
   "metadata": {},
   "outputs": [
    {
     "data": {
      "text/plain": [
       "Approved    12497\n",
       "Settled     5766 \n",
       "Name: Disposition, dtype: int64"
      ]
     },
     "execution_count": 27,
     "metadata": {},
     "output_type": "execute_result"
    }
   ],
   "source": [
    "# Mengecek missing value\n",
    "df[df['Close Amount'].isna()]['Disposition'].value_counts()"
   ]
  },
  {
   "cell_type": "code",
   "execution_count": 28,
   "metadata": {},
   "outputs": [],
   "source": [
    "df.loc[(df['Close Amount'].isna())&(df['Disposition']=='Approved'),'Close Amount']=df['Claim Amount']"
   ]
  },
  {
   "cell_type": "code",
   "execution_count": 29,
   "metadata": {},
   "outputs": [
    {
     "data": {
      "text/plain": [
       "Settled    5766\n",
       "Name: Disposition, dtype: int64"
      ]
     },
     "execution_count": 29,
     "metadata": {},
     "output_type": "execute_result"
    }
   ],
   "source": [
    "# Mengecek missing value\n",
    "df[df['Close Amount'].isna()]['Disposition'].value_counts()"
   ]
  },
  {
   "cell_type": "code",
   "execution_count": 30,
   "metadata": {},
   "outputs": [
    {
     "data": {
      "text/plain": [
       "0.500000    9210\n",
       "0.250000    385 \n",
       "0.333333    287 \n",
       "inf         221 \n",
       "0.900000    210 \n",
       "           ...  \n",
       "0.790608    1   \n",
       "0.280822    1   \n",
       "0.386907    1   \n",
       "0.352601    1   \n",
       "0.672704    1   \n",
       "Length: 13173, dtype: int64"
      ]
     },
     "execution_count": 30,
     "metadata": {},
     "output_type": "execute_result"
    }
   ],
   "source": [
    "# Mengecek Rasio dari close amount dan claim amount\n",
    "diff = df['Close Amount'].loc[df.Disposition=='Settled']/df['Claim Amount']\n",
    "diff.value_counts()"
   ]
  },
  {
   "cell_type": "markdown",
   "metadata": {},
   "source": [
    "Dari median rasio bisa kita lihat bahwa nilai Close Amount pada kategori settled yang dibayarkan sebesar 50% dari nilai claim yang diajukan."
   ]
  },
  {
   "cell_type": "code",
   "execution_count": 31,
   "metadata": {},
   "outputs": [],
   "source": [
    "df['Close Amount'].fillna(df['Claim Amount']*0.5, inplace=True)"
   ]
  },
  {
   "cell_type": "code",
   "execution_count": 32,
   "metadata": {},
   "outputs": [
    {
     "data": {
      "text/html": [
       "<div>\n",
       "<style scoped>\n",
       "    .dataframe tbody tr th:only-of-type {\n",
       "        vertical-align: middle;\n",
       "    }\n",
       "\n",
       "    .dataframe tbody tr th {\n",
       "        vertical-align: top;\n",
       "    }\n",
       "\n",
       "    .dataframe thead th {\n",
       "        text-align: right;\n",
       "    }\n",
       "</style>\n",
       "<table border=\"1\" class=\"dataframe\">\n",
       "  <thead>\n",
       "    <tr style=\"text-align: right;\">\n",
       "      <th></th>\n",
       "      <th>Claim Number</th>\n",
       "      <th>Date Received</th>\n",
       "      <th>Incident Date</th>\n",
       "      <th>Airport Code</th>\n",
       "      <th>Airport Name</th>\n",
       "      <th>Airline Name</th>\n",
       "      <th>Claim Type</th>\n",
       "      <th>Claim Site</th>\n",
       "      <th>Item</th>\n",
       "      <th>Claim Amount</th>\n",
       "      <th>Status</th>\n",
       "      <th>Close Amount</th>\n",
       "      <th>Disposition</th>\n",
       "    </tr>\n",
       "  </thead>\n",
       "  <tbody>\n",
       "    <tr>\n",
       "      <th>1</th>\n",
       "      <td>0202417M</td>\n",
       "      <td>2002-02-02</td>\n",
       "      <td>1/16/2004 0:00</td>\n",
       "      <td>SEA</td>\n",
       "      <td>Seattle-Tacoma International</td>\n",
       "      <td>NaN</td>\n",
       "      <td>Property Damage</td>\n",
       "      <td>Checked Baggage</td>\n",
       "      <td>Luggage (all types including footlockers)</td>\n",
       "      <td>100.00</td>\n",
       "      <td>Settled</td>\n",
       "      <td>50.000</td>\n",
       "      <td>Settled</td>\n",
       "    </tr>\n",
       "    <tr>\n",
       "      <th>2</th>\n",
       "      <td>0202445M</td>\n",
       "      <td>2002-02-04</td>\n",
       "      <td>11/26/2003 0:00</td>\n",
       "      <td>STL</td>\n",
       "      <td>Lambert St. Louis International</td>\n",
       "      <td>American Airlines</td>\n",
       "      <td>Property Damage</td>\n",
       "      <td>Checked Baggage</td>\n",
       "      <td>Cell Phones</td>\n",
       "      <td>278.88</td>\n",
       "      <td>Settled</td>\n",
       "      <td>227.920</td>\n",
       "      <td>Settled</td>\n",
       "    </tr>\n",
       "    <tr>\n",
       "      <th>5</th>\n",
       "      <td>2005032479636</td>\n",
       "      <td>2002-02-18</td>\n",
       "      <td>2/17/2005 0:00</td>\n",
       "      <td>CAK</td>\n",
       "      <td>Akron-Canton Regional</td>\n",
       "      <td>Air Tran Airlines(do not use)</td>\n",
       "      <td>Passenger Property Loss</td>\n",
       "      <td>Checked Baggage</td>\n",
       "      <td>Other</td>\n",
       "      <td>459.01</td>\n",
       "      <td>Settled</td>\n",
       "      <td>227.000</td>\n",
       "      <td>Settled</td>\n",
       "    </tr>\n",
       "    <tr>\n",
       "      <th>21</th>\n",
       "      <td>16410</td>\n",
       "      <td>2002-07-24</td>\n",
       "      <td>7/10/2002 0:00</td>\n",
       "      <td>SDF</td>\n",
       "      <td>Louisville International</td>\n",
       "      <td>Delta Air Lines</td>\n",
       "      <td>Passenger Property Loss</td>\n",
       "      <td>Checkpoint</td>\n",
       "      <td>Luggage (all types including footlockers)</td>\n",
       "      <td>600.00</td>\n",
       "      <td>Settled</td>\n",
       "      <td>337.400</td>\n",
       "      <td>Settled</td>\n",
       "    </tr>\n",
       "    <tr>\n",
       "      <th>23</th>\n",
       "      <td>2004092763985</td>\n",
       "      <td>2002-08-08</td>\n",
       "      <td>7/26/2002 0:00</td>\n",
       "      <td>NaN</td>\n",
       "      <td>NaN</td>\n",
       "      <td>NaN</td>\n",
       "      <td>NaN</td>\n",
       "      <td>Other</td>\n",
       "      <td>Other</td>\n",
       "      <td>160.00</td>\n",
       "      <td>Settled</td>\n",
       "      <td>149.080</td>\n",
       "      <td>Settled</td>\n",
       "    </tr>\n",
       "    <tr>\n",
       "      <th>...</th>\n",
       "      <td>...</td>\n",
       "      <td>...</td>\n",
       "      <td>...</td>\n",
       "      <td>...</td>\n",
       "      <td>...</td>\n",
       "      <td>...</td>\n",
       "      <td>...</td>\n",
       "      <td>...</td>\n",
       "      <td>...</td>\n",
       "      <td>...</td>\n",
       "      <td>...</td>\n",
       "      <td>...</td>\n",
       "      <td>...</td>\n",
       "    </tr>\n",
       "    <tr>\n",
       "      <th>204158</th>\n",
       "      <td>2015032721574</td>\n",
       "      <td>2015-03-27</td>\n",
       "      <td>12-Mar-15</td>\n",
       "      <td>YKM</td>\n",
       "      <td>Yakima Air Terminal-Mcallister</td>\n",
       "      <td>American Airlines</td>\n",
       "      <td>Property Damage</td>\n",
       "      <td>Checked Baggage</td>\n",
       "      <td>Baggage/Cases/Purses</td>\n",
       "      <td>189.99</td>\n",
       "      <td>Settled</td>\n",
       "      <td>94.995</td>\n",
       "      <td>Settled</td>\n",
       "    </tr>\n",
       "    <tr>\n",
       "      <th>204162</th>\n",
       "      <td>2015080424556</td>\n",
       "      <td>2015-07-30</td>\n",
       "      <td>20-Jul-15</td>\n",
       "      <td>YNG</td>\n",
       "      <td>Youngstown-Warren Regional</td>\n",
       "      <td>Allegiant Air</td>\n",
       "      <td>Passenger Property Loss</td>\n",
       "      <td>Checked Baggage</td>\n",
       "      <td>Baggage/Cases/Purses; Travel Accessories</td>\n",
       "      <td>3.00</td>\n",
       "      <td>Settled</td>\n",
       "      <td>1.500</td>\n",
       "      <td>Settled</td>\n",
       "    </tr>\n",
       "    <tr>\n",
       "      <th>204173</th>\n",
       "      <td>2014121619219</td>\n",
       "      <td>2015-03-17</td>\n",
       "      <td>3-Dec-14</td>\n",
       "      <td>ZZX</td>\n",
       "      <td>Non TSA Airport (motor vehicle)</td>\n",
       "      <td>-</td>\n",
       "      <td>Personal Injury</td>\n",
       "      <td>Motor Vehicle</td>\n",
       "      <td>-</td>\n",
       "      <td>4531.16</td>\n",
       "      <td>Settled</td>\n",
       "      <td>2265.580</td>\n",
       "      <td>Settled</td>\n",
       "    </tr>\n",
       "    <tr>\n",
       "      <th>204176</th>\n",
       "      <td>2015032721575</td>\n",
       "      <td>2015-03-27</td>\n",
       "      <td>9-Sep-14</td>\n",
       "      <td>ZZX</td>\n",
       "      <td>Non TSA Airport (motor vehicle)</td>\n",
       "      <td>-</td>\n",
       "      <td>Motor Vehicle</td>\n",
       "      <td>Motor Vehicle</td>\n",
       "      <td>-</td>\n",
       "      <td>2206.35</td>\n",
       "      <td>Settled</td>\n",
       "      <td>1103.175</td>\n",
       "      <td>Settled</td>\n",
       "    </tr>\n",
       "    <tr>\n",
       "      <th>204206</th>\n",
       "      <td>2015120827419</td>\n",
       "      <td>2015-12-08</td>\n",
       "      <td>3-Dec-14</td>\n",
       "      <td>ZZX</td>\n",
       "      <td>Non TSA Airport (motor vehicle)</td>\n",
       "      <td>-</td>\n",
       "      <td>Motor Vehicle</td>\n",
       "      <td>Motor Vehicle</td>\n",
       "      <td>-</td>\n",
       "      <td>3668.84</td>\n",
       "      <td>Settled</td>\n",
       "      <td>1834.420</td>\n",
       "      <td>Settled</td>\n",
       "    </tr>\n",
       "  </tbody>\n",
       "</table>\n",
       "<p>33720 rows × 13 columns</p>\n",
       "</div>"
      ],
      "text/plain": [
       "         Claim Number Date Received    Incident Date Airport Code  \\\n",
       "1       0202417M      2002-02-02     1/16/2004 0:00   SEA           \n",
       "2       0202445M      2002-02-04     11/26/2003 0:00  STL           \n",
       "5       2005032479636 2002-02-18     2/17/2005 0:00   CAK           \n",
       "21      16410         2002-07-24     7/10/2002 0:00   SDF           \n",
       "23      2004092763985 2002-08-08     7/26/2002 0:00   NaN           \n",
       "...               ...        ...                ...   ...           \n",
       "204158  2015032721574 2015-03-27     12-Mar-15        YKM           \n",
       "204162  2015080424556 2015-07-30     20-Jul-15        YNG           \n",
       "204173  2014121619219 2015-03-17     3-Dec-14         ZZX           \n",
       "204176  2015032721575 2015-03-27     9-Sep-14         ZZX           \n",
       "204206  2015120827419 2015-12-08     3-Dec-14         ZZX           \n",
       "\n",
       "                           Airport Name                   Airline Name  \\\n",
       "1       Seattle-Tacoma International     NaN                             \n",
       "2       Lambert St. Louis International  American Airlines               \n",
       "5       Akron-Canton Regional            Air Tran Airlines(do not use)   \n",
       "21      Louisville International         Delta Air Lines                 \n",
       "23      NaN                              NaN                             \n",
       "...     ...                              ...                             \n",
       "204158  Yakima Air Terminal-Mcallister   American Airlines               \n",
       "204162  Youngstown-Warren Regional       Allegiant Air                   \n",
       "204173  Non TSA Airport (motor vehicle)  -                               \n",
       "204176  Non TSA Airport (motor vehicle)  -                               \n",
       "204206  Non TSA Airport (motor vehicle)  -                               \n",
       "\n",
       "                     Claim Type       Claim Site  \\\n",
       "1       Property Damage          Checked Baggage   \n",
       "2       Property Damage          Checked Baggage   \n",
       "5       Passenger Property Loss  Checked Baggage   \n",
       "21      Passenger Property Loss  Checkpoint        \n",
       "23      NaN                      Other             \n",
       "...     ...                        ...             \n",
       "204158  Property Damage          Checked Baggage   \n",
       "204162  Passenger Property Loss  Checked Baggage   \n",
       "204173  Personal Injury          Motor Vehicle     \n",
       "204176  Motor Vehicle            Motor Vehicle     \n",
       "204206  Motor Vehicle            Motor Vehicle     \n",
       "\n",
       "                                             Item  Claim Amount   Status  \\\n",
       "1       Luggage (all types including footlockers)  100.00        Settled   \n",
       "2       Cell Phones                                278.88        Settled   \n",
       "5       Other                                      459.01        Settled   \n",
       "21      Luggage (all types including footlockers)  600.00        Settled   \n",
       "23      Other                                      160.00        Settled   \n",
       "...       ...                                         ...            ...   \n",
       "204158  Baggage/Cases/Purses                       189.99        Settled   \n",
       "204162  Baggage/Cases/Purses; Travel Accessories   3.00          Settled   \n",
       "204173  -                                          4531.16       Settled   \n",
       "204176  -                                          2206.35       Settled   \n",
       "204206  -                                          3668.84       Settled   \n",
       "\n",
       "        Close Amount Disposition  \n",
       "1       50.000        Settled     \n",
       "2       227.920       Settled     \n",
       "5       227.000       Settled     \n",
       "21      337.400       Settled     \n",
       "23      149.080       Settled     \n",
       "...         ...           ...     \n",
       "204158  94.995        Settled     \n",
       "204162  1.500         Settled     \n",
       "204173  2265.580      Settled     \n",
       "204176  1103.175      Settled     \n",
       "204206  1834.420      Settled     \n",
       "\n",
       "[33720 rows x 13 columns]"
      ]
     },
     "execution_count": 32,
     "metadata": {},
     "output_type": "execute_result"
    }
   ],
   "source": [
    "df.loc[df['Disposition']=='Settled']"
   ]
  },
  {
   "cell_type": "code",
   "execution_count": 33,
   "metadata": {},
   "outputs": [
    {
     "data": {
      "text/plain": [
       "Claim Number     0.000000 \n",
       "Date Received    0.066986 \n",
       "Incident Date    0.432876 \n",
       "Airport Code     2.350703 \n",
       "Airport Name     2.350703 \n",
       "Airline Name     15.925786\n",
       "Claim Type       3.311586 \n",
       "Claim Site       0.153674 \n",
       "Item             1.618360 \n",
       "Claim Amount     0.000000 \n",
       "Status           0.000000 \n",
       "Close Amount     0.000000 \n",
       "Disposition      0.000000 \n",
       "dtype: float64"
      ]
     },
     "execution_count": 33,
     "metadata": {},
     "output_type": "execute_result"
    }
   ],
   "source": [
    "# persentase missing value di tiap kolom\n",
    "df.isna().sum()/df.shape[0]*100"
   ]
  },
  {
   "cell_type": "code",
   "execution_count": 34,
   "metadata": {},
   "outputs": [
    {
     "name": "stdout",
     "output_type": "stream",
     "text": [
      "<class 'pandas.core.frame.DataFrame'>\n",
      "Int64Index: 177649 entries, 0 to 204206\n",
      "Data columns (total 13 columns):\n",
      " #   Column         Non-Null Count   Dtype         \n",
      "---  ------         --------------   -----         \n",
      " 0   Claim Number   177649 non-null  object        \n",
      " 1   Date Received  177530 non-null  datetime64[ns]\n",
      " 2   Incident Date  176880 non-null  object        \n",
      " 3   Airport Code   173473 non-null  object        \n",
      " 4   Airport Name   173473 non-null  object        \n",
      " 5   Airline Name   149357 non-null  object        \n",
      " 6   Claim Type     171766 non-null  object        \n",
      " 7   Claim Site     177376 non-null  object        \n",
      " 8   Item           174774 non-null  object        \n",
      " 9   Claim Amount   177649 non-null  float64       \n",
      " 10  Status         177649 non-null  object        \n",
      " 11  Close Amount   177649 non-null  float64       \n",
      " 12  Disposition    177649 non-null  object        \n",
      "dtypes: datetime64[ns](1), float64(2), object(10)\n",
      "memory usage: 23.0+ MB\n"
     ]
    }
   ],
   "source": [
    "df.info()"
   ]
  },
  {
   "cell_type": "markdown",
   "metadata": {},
   "source": [
    "### Penanganan Missing Value pada Kolom Categorical\n",
    "\n",
    "Pada kolom Airport Code, Airport Name, Airline Name, Claim Type, Claim Site dan Item, akan dilakukan penanganan sebagai berikut:\n",
    "- Value '-' akan diganti menjadi 'Not Define' untuk memudahkan analisis.\n",
    "- Value yang memilki white space pada kolom tersebut akan dihapus.\n",
    "- Karena jumlah missing value pada kolom tersebut persentasenya cukup tinggi, maka Missing value pada kolom tersebut akan diisi dengan kategori Not Define. Hal ini karena data pada kolom lain dapat berguna untuk analisis.\n",
    "\n",
    "Referensi dapat dilihat [di sini](https://pianalytix.com/how-do-you-handle-missing-values-categorical-data-and-feature-scaling-in-machine-learning/#:~:text=When%20missing%20values%20is%20from,replaced%20with%20a%20new%20category)"
   ]
  },
  {
   "cell_type": "code",
   "execution_count": 35,
   "metadata": {},
   "outputs": [],
   "source": [
    "df['Airport Code'].replace('-','Not Define', inplace=True)\n",
    "df['Airport Code']=df['Airport Code'].str.strip()\n",
    "df['Airport Name'].replace('-','Not Define', inplace=True)\n",
    "df['Airport Name']=df['Airport Name'].str.strip()\n",
    "df['Airline Name'].replace('-','Not Define', inplace=True)\n",
    "df['Airline Name']=df['Airline Name'].str.strip()\n",
    "df['Claim Type'].replace('-','Not Define', inplace=True)\n",
    "df['Claim Type']=df['Claim Type'].str.strip()\n",
    "df['Claim Site'].replace('-','Not Define', inplace=True)\n",
    "df['Claim Site']=df['Claim Site'].str.strip()\n",
    "df['Item'].replace('-','Not Define', inplace=True)\n",
    "df['Item']=df['Item'].str.strip()"
   ]
  },
  {
   "cell_type": "code",
   "execution_count": 36,
   "metadata": {},
   "outputs": [
    {
     "data": {
      "text/html": [
       "<div>\n",
       "<style scoped>\n",
       "    .dataframe tbody tr th:only-of-type {\n",
       "        vertical-align: middle;\n",
       "    }\n",
       "\n",
       "    .dataframe tbody tr th {\n",
       "        vertical-align: top;\n",
       "    }\n",
       "\n",
       "    .dataframe thead th {\n",
       "        text-align: right;\n",
       "    }\n",
       "</style>\n",
       "<table border=\"1\" class=\"dataframe\">\n",
       "  <thead>\n",
       "    <tr style=\"text-align: right;\">\n",
       "      <th></th>\n",
       "      <th>Claim Number</th>\n",
       "      <th>Date Received</th>\n",
       "      <th>Incident Date</th>\n",
       "      <th>Airport Code</th>\n",
       "      <th>Airport Name</th>\n",
       "      <th>Airline Name</th>\n",
       "      <th>Claim Type</th>\n",
       "      <th>Claim Site</th>\n",
       "      <th>Item</th>\n",
       "      <th>Claim Amount</th>\n",
       "      <th>Status</th>\n",
       "      <th>Close Amount</th>\n",
       "      <th>Disposition</th>\n",
       "    </tr>\n",
       "  </thead>\n",
       "  <tbody>\n",
       "    <tr>\n",
       "      <th>0</th>\n",
       "      <td>0909802M</td>\n",
       "      <td>2002-01-04</td>\n",
       "      <td>12/12/2002 0:00</td>\n",
       "      <td>EWR</td>\n",
       "      <td>Newark International Airport</td>\n",
       "      <td>Continental Airlines</td>\n",
       "      <td>Property Damage</td>\n",
       "      <td>Checkpoint</td>\n",
       "      <td>Other</td>\n",
       "      <td>350.00</td>\n",
       "      <td>Approved</td>\n",
       "      <td>350.00</td>\n",
       "      <td>Approved</td>\n",
       "    </tr>\n",
       "    <tr>\n",
       "      <th>1</th>\n",
       "      <td>0202417M</td>\n",
       "      <td>2002-02-02</td>\n",
       "      <td>1/16/2004 0:00</td>\n",
       "      <td>SEA</td>\n",
       "      <td>Seattle-Tacoma International</td>\n",
       "      <td>Not Define</td>\n",
       "      <td>Property Damage</td>\n",
       "      <td>Checked Baggage</td>\n",
       "      <td>Luggage (all types including footlockers)</td>\n",
       "      <td>100.00</td>\n",
       "      <td>Settled</td>\n",
       "      <td>50.00</td>\n",
       "      <td>Settled</td>\n",
       "    </tr>\n",
       "    <tr>\n",
       "      <th>2</th>\n",
       "      <td>0202445M</td>\n",
       "      <td>2002-02-04</td>\n",
       "      <td>11/26/2003 0:00</td>\n",
       "      <td>STL</td>\n",
       "      <td>Lambert St. Louis International</td>\n",
       "      <td>American Airlines</td>\n",
       "      <td>Property Damage</td>\n",
       "      <td>Checked Baggage</td>\n",
       "      <td>Cell Phones</td>\n",
       "      <td>278.88</td>\n",
       "      <td>Settled</td>\n",
       "      <td>227.92</td>\n",
       "      <td>Settled</td>\n",
       "    </tr>\n",
       "    <tr>\n",
       "      <th>3</th>\n",
       "      <td>0909816M</td>\n",
       "      <td>2002-02-07</td>\n",
       "      <td>1/6/2003 0:00</td>\n",
       "      <td>MIA</td>\n",
       "      <td>Miami International Airport</td>\n",
       "      <td>American Airlines</td>\n",
       "      <td>Property Damage</td>\n",
       "      <td>Checkpoint</td>\n",
       "      <td>Luggage (all types including footlockers)</td>\n",
       "      <td>50.00</td>\n",
       "      <td>Approved</td>\n",
       "      <td>50.00</td>\n",
       "      <td>Approved</td>\n",
       "    </tr>\n",
       "    <tr>\n",
       "      <th>4</th>\n",
       "      <td>2005032379513</td>\n",
       "      <td>2002-02-18</td>\n",
       "      <td>2/5/2005 0:00</td>\n",
       "      <td>MCO</td>\n",
       "      <td>Orlando International Airport</td>\n",
       "      <td>Delta (Song)</td>\n",
       "      <td>Property Damage</td>\n",
       "      <td>Checkpoint</td>\n",
       "      <td>Baby - Strollers; car seats; playpen; etc.</td>\n",
       "      <td>84.79</td>\n",
       "      <td>Approved</td>\n",
       "      <td>84.79</td>\n",
       "      <td>Approved</td>\n",
       "    </tr>\n",
       "    <tr>\n",
       "      <th>...</th>\n",
       "      <td>...</td>\n",
       "      <td>...</td>\n",
       "      <td>...</td>\n",
       "      <td>...</td>\n",
       "      <td>...</td>\n",
       "      <td>...</td>\n",
       "      <td>...</td>\n",
       "      <td>...</td>\n",
       "      <td>...</td>\n",
       "      <td>...</td>\n",
       "      <td>...</td>\n",
       "      <td>...</td>\n",
       "      <td>...</td>\n",
       "    </tr>\n",
       "    <tr>\n",
       "      <th>204189</th>\n",
       "      <td>2015070223650</td>\n",
       "      <td>2015-06-29</td>\n",
       "      <td>8-May-15</td>\n",
       "      <td>ZZX</td>\n",
       "      <td>Non TSA Airport (motor vehicle)</td>\n",
       "      <td>Not Define</td>\n",
       "      <td>Employee Loss (MPCECA)</td>\n",
       "      <td>Motor Vehicle</td>\n",
       "      <td>Not Define</td>\n",
       "      <td>250.00</td>\n",
       "      <td>Approved</td>\n",
       "      <td>250.00</td>\n",
       "      <td>Approved</td>\n",
       "    </tr>\n",
       "    <tr>\n",
       "      <th>204202</th>\n",
       "      <td>2015092425588</td>\n",
       "      <td>2015-09-10</td>\n",
       "      <td>31-Aug-15</td>\n",
       "      <td>ZZX</td>\n",
       "      <td>Non TSA Airport (motor vehicle)</td>\n",
       "      <td>Not Define</td>\n",
       "      <td>Motor Vehicle</td>\n",
       "      <td>Other</td>\n",
       "      <td>Not Define</td>\n",
       "      <td>656.56</td>\n",
       "      <td>Approved</td>\n",
       "      <td>656.56</td>\n",
       "      <td>Approved</td>\n",
       "    </tr>\n",
       "    <tr>\n",
       "      <th>204203</th>\n",
       "      <td>2015102026116</td>\n",
       "      <td>2015-09-29</td>\n",
       "      <td>22-Sep-15</td>\n",
       "      <td>ZZX</td>\n",
       "      <td>Non TSA Airport (motor vehicle)</td>\n",
       "      <td>Not Define</td>\n",
       "      <td>Motor Vehicle</td>\n",
       "      <td>Motor Vehicle</td>\n",
       "      <td>Not Define</td>\n",
       "      <td>1520.85</td>\n",
       "      <td>Approved</td>\n",
       "      <td>1520.85</td>\n",
       "      <td>Approved</td>\n",
       "    </tr>\n",
       "    <tr>\n",
       "      <th>204204</th>\n",
       "      <td>2015101326019</td>\n",
       "      <td>2015-10-13</td>\n",
       "      <td>16-Jul-15</td>\n",
       "      <td>ZZX</td>\n",
       "      <td>Non TSA Airport (motor vehicle)</td>\n",
       "      <td>Not Define</td>\n",
       "      <td>Motor Vehicle</td>\n",
       "      <td>Motor Vehicle</td>\n",
       "      <td>Not Define</td>\n",
       "      <td>643.32</td>\n",
       "      <td>Approved</td>\n",
       "      <td>643.32</td>\n",
       "      <td>Approved</td>\n",
       "    </tr>\n",
       "    <tr>\n",
       "      <th>204206</th>\n",
       "      <td>2015120827419</td>\n",
       "      <td>2015-12-08</td>\n",
       "      <td>3-Dec-14</td>\n",
       "      <td>ZZX</td>\n",
       "      <td>Non TSA Airport (motor vehicle)</td>\n",
       "      <td>Not Define</td>\n",
       "      <td>Motor Vehicle</td>\n",
       "      <td>Motor Vehicle</td>\n",
       "      <td>Not Define</td>\n",
       "      <td>3668.84</td>\n",
       "      <td>Settled</td>\n",
       "      <td>1834.42</td>\n",
       "      <td>Settled</td>\n",
       "    </tr>\n",
       "  </tbody>\n",
       "</table>\n",
       "<p>177649 rows × 13 columns</p>\n",
       "</div>"
      ],
      "text/plain": [
       "         Claim Number Date Received    Incident Date Airport Code  \\\n",
       "0       0909802M      2002-01-04     12/12/2002 0:00  EWR           \n",
       "1       0202417M      2002-02-02     1/16/2004 0:00   SEA           \n",
       "2       0202445M      2002-02-04     11/26/2003 0:00  STL           \n",
       "3       0909816M      2002-02-07     1/6/2003 0:00    MIA           \n",
       "4       2005032379513 2002-02-18     2/5/2005 0:00    MCO           \n",
       "...               ...        ...               ...    ...           \n",
       "204189  2015070223650 2015-06-29     8-May-15         ZZX           \n",
       "204202  2015092425588 2015-09-10     31-Aug-15        ZZX           \n",
       "204203  2015102026116 2015-09-29     22-Sep-15        ZZX           \n",
       "204204  2015101326019 2015-10-13     16-Jul-15        ZZX           \n",
       "204206  2015120827419 2015-12-08     3-Dec-14         ZZX           \n",
       "\n",
       "                           Airport Name          Airline Name  \\\n",
       "0       Newark International Airport     Continental Airlines   \n",
       "1       Seattle-Tacoma International     Not Define             \n",
       "2       Lambert St. Louis International  American Airlines      \n",
       "3       Miami International Airport      American Airlines      \n",
       "4       Orlando International Airport    Delta (Song)           \n",
       "...                               ...             ...           \n",
       "204189  Non TSA Airport (motor vehicle)  Not Define             \n",
       "204202  Non TSA Airport (motor vehicle)  Not Define             \n",
       "204203  Non TSA Airport (motor vehicle)  Not Define             \n",
       "204204  Non TSA Airport (motor vehicle)  Not Define             \n",
       "204206  Non TSA Airport (motor vehicle)  Not Define             \n",
       "\n",
       "                    Claim Type       Claim Site  \\\n",
       "0       Property Damage         Checkpoint        \n",
       "1       Property Damage         Checked Baggage   \n",
       "2       Property Damage         Checked Baggage   \n",
       "3       Property Damage         Checkpoint        \n",
       "4       Property Damage         Checkpoint        \n",
       "...                 ...                ...        \n",
       "204189  Employee Loss (MPCECA)  Motor Vehicle     \n",
       "204202  Motor Vehicle           Other             \n",
       "204203  Motor Vehicle           Motor Vehicle     \n",
       "204204  Motor Vehicle           Motor Vehicle     \n",
       "204206  Motor Vehicle           Motor Vehicle     \n",
       "\n",
       "                                              Item  Claim Amount    Status  \\\n",
       "0       Other                                       350.00        Approved   \n",
       "1       Luggage (all types including footlockers)   100.00        Settled    \n",
       "2       Cell Phones                                 278.88        Settled    \n",
       "3       Luggage (all types including footlockers)   50.00         Approved   \n",
       "4       Baby - Strollers; car seats; playpen; etc.  84.79         Approved   \n",
       "...                                            ...    ...              ...   \n",
       "204189  Not Define                                  250.00        Approved   \n",
       "204202  Not Define                                  656.56        Approved   \n",
       "204203  Not Define                                  1520.85       Approved   \n",
       "204204  Not Define                                  643.32        Approved   \n",
       "204206  Not Define                                  3668.84       Settled    \n",
       "\n",
       "        Close Amount Disposition  \n",
       "0       350.00        Approved    \n",
       "1       50.00         Settled     \n",
       "2       227.92        Settled     \n",
       "3       50.00         Approved    \n",
       "4       84.79         Approved    \n",
       "...       ...              ...    \n",
       "204189  250.00        Approved    \n",
       "204202  656.56        Approved    \n",
       "204203  1520.85       Approved    \n",
       "204204  643.32        Approved    \n",
       "204206  1834.42       Settled     \n",
       "\n",
       "[177649 rows x 13 columns]"
      ]
     },
     "execution_count": 36,
     "metadata": {},
     "output_type": "execute_result"
    }
   ],
   "source": [
    "fill_columns = ['Airline Name','Airport Name','Airport Code','Claim Type','Claim Site','Item']\n",
    "df[fill_columns] = df[fill_columns].fillna('Not Define')\n",
    "df"
   ]
  },
  {
   "cell_type": "code",
   "execution_count": 37,
   "metadata": {},
   "outputs": [
    {
     "data": {
      "text/plain": [
       "Claim Number     0.000000\n",
       "Date Received    0.066986\n",
       "Incident Date    0.432876\n",
       "Airport Code     0.000000\n",
       "Airport Name     0.000000\n",
       "Airline Name     0.000000\n",
       "Claim Type       0.000000\n",
       "Claim Site       0.000000\n",
       "Item             0.000000\n",
       "Claim Amount     0.000000\n",
       "Status           0.000000\n",
       "Close Amount     0.000000\n",
       "Disposition      0.000000\n",
       "dtype: float64"
      ]
     },
     "execution_count": 37,
     "metadata": {},
     "output_type": "execute_result"
    }
   ],
   "source": [
    "df.isna().sum()/df.shape[0]*100"
   ]
  },
  {
   "cell_type": "markdown",
   "metadata": {},
   "source": [
    "### Penanganan Missing Value pada Kolom Incident Date & Date Received\n",
    "\n",
    "- Incident Data akan diambil dari range 2002-2015.\n",
    "- Mengubah menjadi tipe data datetime.\n",
    "- Penyamaan format pada Kolom Incident Date (ex : 29-Mar-13 dan 12/26/2004).\n",
    "- Pada Data Overview, dapat diketahui selalu ada selisih antara Date Received dengan Incident Data. Laporan kejadian (Date Received) akan diterima beberapa hari setelah kejadian terjadi (Incident Date). Sehingga, missing value akan diisi dengan median dari hasil pengurangan Date Received dengan Incident Date. Missing value tidak langusng dihapus karena tidak semua missing value ada pada kedua kolom tersebut, sehingga kedua kolom yang nilainya tidak lengkap dapat dicari dan diisi."
   ]
  },
  {
   "cell_type": "code",
   "execution_count": 38,
   "metadata": {},
   "outputs": [
    {
     "data": {
      "text/plain": [
       "Date Received    119\n",
       "Incident Date    769\n",
       "dtype: int64"
      ]
     },
     "execution_count": 38,
     "metadata": {},
     "output_type": "execute_result"
    }
   ],
   "source": [
    "# jumlah missing value di kolom 'Date Received' dan 'Incident Date'\n",
    "df[['Date Received', 'Incident Date']].isna().sum()"
   ]
  },
  {
   "cell_type": "code",
   "execution_count": 39,
   "metadata": {},
   "outputs": [
    {
     "data": {
      "text/plain": [
       "12/26/2004 0:00     131\n",
       "12/27/2004 0:00     126\n",
       "12/29/2003 0:00     126\n",
       "12/22/2004 0:00     123\n",
       "1/4/2004 0:00       121\n",
       "                   ... \n",
       "12/5/2010 10:30     1  \n",
       "10/31/2010 22:30    1  \n",
       "11/16/2010 5:00     1  \n",
       "11/30/2010 7:40     1  \n",
       "29-Mar-13           1  \n",
       "Name: Incident Date, Length: 23437, dtype: int64"
      ]
     },
     "execution_count": 39,
     "metadata": {},
     "output_type": "execute_result"
    }
   ],
   "source": [
    "df['Incident Date'].value_counts()"
   ]
  },
  {
   "cell_type": "code",
   "execution_count": 40,
   "metadata": {},
   "outputs": [],
   "source": [
    "df['Incident Date'] = pd.to_datetime(df['Incident Date'],errors='coerce')"
   ]
  },
  {
   "cell_type": "code",
   "execution_count": 41,
   "metadata": {},
   "outputs": [
    {
     "name": "stdout",
     "output_type": "stream",
     "text": [
      "<class 'pandas.core.frame.DataFrame'>\n",
      "Int64Index: 177649 entries, 0 to 204206\n",
      "Data columns (total 13 columns):\n",
      " #   Column         Non-Null Count   Dtype         \n",
      "---  ------         --------------   -----         \n",
      " 0   Claim Number   177649 non-null  object        \n",
      " 1   Date Received  177530 non-null  datetime64[ns]\n",
      " 2   Incident Date  176736 non-null  datetime64[ns]\n",
      " 3   Airport Code   177649 non-null  object        \n",
      " 4   Airport Name   177649 non-null  object        \n",
      " 5   Airline Name   177649 non-null  object        \n",
      " 6   Claim Type     177649 non-null  object        \n",
      " 7   Claim Site     177649 non-null  object        \n",
      " 8   Item           177649 non-null  object        \n",
      " 9   Claim Amount   177649 non-null  float64       \n",
      " 10  Status         177649 non-null  object        \n",
      " 11  Close Amount   177649 non-null  float64       \n",
      " 12  Disposition    177649 non-null  object        \n",
      "dtypes: datetime64[ns](2), float64(2), object(9)\n",
      "memory usage: 23.0+ MB\n"
     ]
    }
   ],
   "source": [
    "df.info()"
   ]
  },
  {
   "cell_type": "code",
   "execution_count": 42,
   "metadata": {},
   "outputs": [
    {
     "data": {
      "text/plain": [
       "2004-12-26 00:00:00    131\n",
       "2003-12-29 00:00:00    126\n",
       "2004-12-27 00:00:00    126\n",
       "2004-12-22 00:00:00    123\n",
       "2004-01-04 00:00:00    121\n",
       "                      ... \n",
       "2010-11-15 05:45:00    1  \n",
       "2010-10-17 17:10:00    1  \n",
       "2010-08-26 06:10:00    1  \n",
       "2010-12-26 10:20:00    1  \n",
       "2015-12-19 00:00:00    1  \n",
       "Name: Incident Date, Length: 23097, dtype: int64"
      ]
     },
     "execution_count": 42,
     "metadata": {},
     "output_type": "execute_result"
    }
   ],
   "source": [
    "df['Incident Date'].value_counts()"
   ]
  },
  {
   "cell_type": "code",
   "execution_count": 43,
   "metadata": {},
   "outputs": [],
   "source": [
    "df.drop(df[df['Incident Date'] > '31/12/2015'].index, inplace=True)\n",
    "df.drop(df[df['Incident Date'] < '01/01/2002'].index, inplace=True)"
   ]
  },
  {
   "cell_type": "code",
   "execution_count": 44,
   "metadata": {},
   "outputs": [
    {
     "data": {
      "text/plain": [
       "Date Received    119\n",
       "Incident Date    913\n",
       "dtype: int64"
      ]
     },
     "execution_count": 44,
     "metadata": {},
     "output_type": "execute_result"
    }
   ],
   "source": [
    "# jumlah missing value di kolom 'Date Received' dan 'Incident Date'\n",
    "df[['Date Received', 'Incident Date']].isna().sum()"
   ]
  },
  {
   "cell_type": "code",
   "execution_count": 45,
   "metadata": {},
   "outputs": [
    {
     "data": {
      "text/html": [
       "<div>\n",
       "<style scoped>\n",
       "    .dataframe tbody tr th:only-of-type {\n",
       "        vertical-align: middle;\n",
       "    }\n",
       "\n",
       "    .dataframe tbody tr th {\n",
       "        vertical-align: top;\n",
       "    }\n",
       "\n",
       "    .dataframe thead th {\n",
       "        text-align: right;\n",
       "    }\n",
       "</style>\n",
       "<table border=\"1\" class=\"dataframe\">\n",
       "  <thead>\n",
       "    <tr style=\"text-align: right;\">\n",
       "      <th></th>\n",
       "      <th>Claim Number</th>\n",
       "      <th>Date Received</th>\n",
       "      <th>Incident Date</th>\n",
       "      <th>Airport Code</th>\n",
       "      <th>Airport Name</th>\n",
       "      <th>Airline Name</th>\n",
       "      <th>Claim Type</th>\n",
       "      <th>Claim Site</th>\n",
       "      <th>Item</th>\n",
       "      <th>Claim Amount</th>\n",
       "      <th>Status</th>\n",
       "      <th>Close Amount</th>\n",
       "      <th>Disposition</th>\n",
       "    </tr>\n",
       "  </thead>\n",
       "  <tbody>\n",
       "    <tr>\n",
       "      <th>14</th>\n",
       "      <td>0616771L</td>\n",
       "      <td>2002-07-12</td>\n",
       "      <td>NaT</td>\n",
       "      <td>Not Define</td>\n",
       "      <td>Not Define</td>\n",
       "      <td>Not Define</td>\n",
       "      <td>Not Define</td>\n",
       "      <td>Other</td>\n",
       "      <td>Clothing - Shoes; belts; accessories; etc.</td>\n",
       "      <td>0.00</td>\n",
       "      <td>Denied</td>\n",
       "      <td>0.0</td>\n",
       "      <td>Denied</td>\n",
       "    </tr>\n",
       "    <tr>\n",
       "      <th>22</th>\n",
       "      <td>0616723L</td>\n",
       "      <td>2002-08-05</td>\n",
       "      <td>NaT</td>\n",
       "      <td>Not Define</td>\n",
       "      <td>Not Define</td>\n",
       "      <td>Not Define</td>\n",
       "      <td>Not Define</td>\n",
       "      <td>Other</td>\n",
       "      <td>Clothing - Shoes; belts; accessories; etc.</td>\n",
       "      <td>0.00</td>\n",
       "      <td>Denied</td>\n",
       "      <td>0.0</td>\n",
       "      <td>Denied</td>\n",
       "    </tr>\n",
       "    <tr>\n",
       "      <th>249</th>\n",
       "      <td>0616725L</td>\n",
       "      <td>2002-11-14</td>\n",
       "      <td>NaT</td>\n",
       "      <td>Not Define</td>\n",
       "      <td>Not Define</td>\n",
       "      <td>Not Define</td>\n",
       "      <td>Not Define</td>\n",
       "      <td>Other</td>\n",
       "      <td>Clothing - Shoes; belts; accessories; etc.</td>\n",
       "      <td>0.00</td>\n",
       "      <td>Denied</td>\n",
       "      <td>0.0</td>\n",
       "      <td>Denied</td>\n",
       "    </tr>\n",
       "    <tr>\n",
       "      <th>327</th>\n",
       "      <td>0616645L</td>\n",
       "      <td>2002-11-20</td>\n",
       "      <td>NaT</td>\n",
       "      <td>DTW</td>\n",
       "      <td>Detroit Metropolitan Wayne County Airport</td>\n",
       "      <td>Not Define</td>\n",
       "      <td>Not Define</td>\n",
       "      <td>Other</td>\n",
       "      <td>Cell Phones</td>\n",
       "      <td>0.00</td>\n",
       "      <td>Denied</td>\n",
       "      <td>0.0</td>\n",
       "      <td>Denied</td>\n",
       "    </tr>\n",
       "    <tr>\n",
       "      <th>328</th>\n",
       "      <td>0616747L</td>\n",
       "      <td>2002-11-20</td>\n",
       "      <td>NaT</td>\n",
       "      <td>Not Define</td>\n",
       "      <td>Not Define</td>\n",
       "      <td>Not Define</td>\n",
       "      <td>Not Define</td>\n",
       "      <td>Other</td>\n",
       "      <td>Other</td>\n",
       "      <td>0.00</td>\n",
       "      <td>Denied</td>\n",
       "      <td>0.0</td>\n",
       "      <td>Denied</td>\n",
       "    </tr>\n",
       "    <tr>\n",
       "      <th>...</th>\n",
       "      <td>...</td>\n",
       "      <td>...</td>\n",
       "      <td>...</td>\n",
       "      <td>...</td>\n",
       "      <td>...</td>\n",
       "      <td>...</td>\n",
       "      <td>...</td>\n",
       "      <td>...</td>\n",
       "      <td>...</td>\n",
       "      <td>...</td>\n",
       "      <td>...</td>\n",
       "      <td>...</td>\n",
       "      <td>...</td>\n",
       "    </tr>\n",
       "    <tr>\n",
       "      <th>138597</th>\n",
       "      <td>2009062560620</td>\n",
       "      <td>2009-06-19</td>\n",
       "      <td>NaT</td>\n",
       "      <td>DEN</td>\n",
       "      <td>Denver International Airport</td>\n",
       "      <td>UAL</td>\n",
       "      <td>Property Damage</td>\n",
       "      <td>Checked Baggage</td>\n",
       "      <td>Clothing - Shoes; belts; accessories; etc.</td>\n",
       "      <td>150.00</td>\n",
       "      <td>Denied</td>\n",
       "      <td>0.0</td>\n",
       "      <td>Denied</td>\n",
       "    </tr>\n",
       "    <tr>\n",
       "      <th>138786</th>\n",
       "      <td>2009062660665</td>\n",
       "      <td>2009-06-25</td>\n",
       "      <td>NaT</td>\n",
       "      <td>MDW</td>\n",
       "      <td>Midway International Airport</td>\n",
       "      <td>Southwest Airlines</td>\n",
       "      <td>Passenger Property Loss</td>\n",
       "      <td>Checked Baggage</td>\n",
       "      <td>Cosmetics - Perfume; toilet articles; medicines; soaps; etc.</td>\n",
       "      <td>251.75</td>\n",
       "      <td>Denied</td>\n",
       "      <td>0.0</td>\n",
       "      <td>Denied</td>\n",
       "    </tr>\n",
       "    <tr>\n",
       "      <th>139491</th>\n",
       "      <td>2009072161530</td>\n",
       "      <td>2009-07-14</td>\n",
       "      <td>NaT</td>\n",
       "      <td>GSP</td>\n",
       "      <td>Greenville-Spartanburg</td>\n",
       "      <td>USAir</td>\n",
       "      <td>Property Damage</td>\n",
       "      <td>Checked Baggage</td>\n",
       "      <td>Ceramics - Animals; etc.</td>\n",
       "      <td>20.00</td>\n",
       "      <td>Denied</td>\n",
       "      <td>0.0</td>\n",
       "      <td>Denied</td>\n",
       "    </tr>\n",
       "    <tr>\n",
       "      <th>139731</th>\n",
       "      <td>2009072861869</td>\n",
       "      <td>2009-07-20</td>\n",
       "      <td>NaT</td>\n",
       "      <td>PHX</td>\n",
       "      <td>Phoenix Sky Harbor International</td>\n",
       "      <td>Alaska Airlines</td>\n",
       "      <td>Property Damage</td>\n",
       "      <td>Checked Baggage</td>\n",
       "      <td>Locks</td>\n",
       "      <td>20.00</td>\n",
       "      <td>Denied</td>\n",
       "      <td>0.0</td>\n",
       "      <td>Denied</td>\n",
       "    </tr>\n",
       "    <tr>\n",
       "      <th>141253</th>\n",
       "      <td>2009090363326</td>\n",
       "      <td>2009-08-31</td>\n",
       "      <td>NaT</td>\n",
       "      <td>TUS</td>\n",
       "      <td>Tucson International</td>\n",
       "      <td>American Airlines</td>\n",
       "      <td>Property Damage</td>\n",
       "      <td>Checked Baggage</td>\n",
       "      <td>Luggage (all types including footlockers)</td>\n",
       "      <td>100.00</td>\n",
       "      <td>Denied</td>\n",
       "      <td>0.0</td>\n",
       "      <td>Denied</td>\n",
       "    </tr>\n",
       "  </tbody>\n",
       "</table>\n",
       "<p>913 rows × 13 columns</p>\n",
       "</div>"
      ],
      "text/plain": [
       "         Claim Number Date Received Incident Date Airport Code  \\\n",
       "14      0616771L      2002-07-12    NaT            Not Define    \n",
       "22      0616723L      2002-08-05    NaT            Not Define    \n",
       "249     0616725L      2002-11-14    NaT            Not Define    \n",
       "327     0616645L      2002-11-20    NaT            DTW           \n",
       "328     0616747L      2002-11-20    NaT            Not Define    \n",
       "...          ...             ...     ..                   ...    \n",
       "138597  2009062560620 2009-06-19    NaT            DEN           \n",
       "138786  2009062660665 2009-06-25    NaT            MDW           \n",
       "139491  2009072161530 2009-07-14    NaT            GSP           \n",
       "139731  2009072861869 2009-07-20    NaT            PHX           \n",
       "141253  2009090363326 2009-08-31    NaT            TUS           \n",
       "\n",
       "                                     Airport Name        Airline Name  \\\n",
       "14      Not Define                                 Not Define           \n",
       "22      Not Define                                 Not Define           \n",
       "249     Not Define                                 Not Define           \n",
       "327     Detroit Metropolitan Wayne County Airport  Not Define           \n",
       "328     Not Define                                 Not Define           \n",
       "...            ...                                        ...           \n",
       "138597  Denver International Airport               UAL                  \n",
       "138786  Midway International Airport               Southwest Airlines   \n",
       "139491  Greenville-Spartanburg                     USAir                \n",
       "139731  Phoenix Sky Harbor International           Alaska Airlines      \n",
       "141253  Tucson International                       American Airlines    \n",
       "\n",
       "                     Claim Type       Claim Site  \\\n",
       "14      Not Define               Other             \n",
       "22      Not Define               Other             \n",
       "249     Not Define               Other             \n",
       "327     Not Define               Other             \n",
       "328     Not Define               Other             \n",
       "...            ...                 ...             \n",
       "138597  Property Damage          Checked Baggage   \n",
       "138786  Passenger Property Loss  Checked Baggage   \n",
       "139491  Property Damage          Checked Baggage   \n",
       "139731  Property Damage          Checked Baggage   \n",
       "141253  Property Damage          Checked Baggage   \n",
       "\n",
       "                                                                Item  \\\n",
       "14      Clothing - Shoes; belts; accessories; etc.                     \n",
       "22      Clothing - Shoes; belts; accessories; etc.                     \n",
       "249     Clothing - Shoes; belts; accessories; etc.                     \n",
       "327     Cell Phones                                                    \n",
       "328     Other                                                          \n",
       "...       ...                                                          \n",
       "138597  Clothing - Shoes; belts; accessories; etc.                     \n",
       "138786  Cosmetics - Perfume; toilet articles; medicines; soaps; etc.   \n",
       "139491  Ceramics - Animals; etc.                                       \n",
       "139731  Locks                                                          \n",
       "141253  Luggage (all types including footlockers)                      \n",
       "\n",
       "        Claim Amount  Status  Close Amount Disposition  \n",
       "14      0.00          Denied  0.0           Denied      \n",
       "22      0.00          Denied  0.0           Denied      \n",
       "249     0.00          Denied  0.0           Denied      \n",
       "327     0.00          Denied  0.0           Denied      \n",
       "328     0.00          Denied  0.0           Denied      \n",
       "...      ...             ...  ...              ...      \n",
       "138597  150.00        Denied  0.0           Denied      \n",
       "138786  251.75        Denied  0.0           Denied      \n",
       "139491  20.00         Denied  0.0           Denied      \n",
       "139731  20.00         Denied  0.0           Denied      \n",
       "141253  100.00        Denied  0.0           Denied      \n",
       "\n",
       "[913 rows x 13 columns]"
      ]
     },
     "execution_count": 45,
     "metadata": {},
     "output_type": "execute_result"
    }
   ],
   "source": [
    "# Pengecekan Missing value (Insident date NaT, tapi terdapat data di date received)\n",
    "df.loc[df['Incident Date'].isna()]"
   ]
  },
  {
   "cell_type": "code",
   "execution_count": 46,
   "metadata": {},
   "outputs": [
    {
     "data": {
      "text/plain": [
       "Text(0.5, 0, 'Year')"
      ]
     },
     "execution_count": 46,
     "metadata": {},
     "output_type": "execute_result"
    },
    {
     "data": {
      "image/png": "[encoded data removed]",
      "text/plain": [
       "<Figure size 432x288 with 1 Axes>"
      ]
     },
     "metadata": {
      "needs_background": "light"
     },
     "output_type": "display_data"
    }
   ],
   "source": [
    "sns.histplot(df['Date Received'], kde=True)\n",
    "sns.histplot(df['Incident Date'], kde=True)\n",
    "plt.xlabel('Year', size=14)"
   ]
  },
  {
   "cell_type": "markdown",
   "metadata": {},
   "source": [
    "- Grafik diatas menunjukkan data Date Received dan Incident Date memiliki persebaran data yang sama dan membuktikan bahwa kedua data saling berkorelasi.\n",
    "- Grafik histogram menunjukkan bahwa data tidak terdistribusi normal, sehingga Nilai missing value dapat diisi dengan median data ([Referensi](https://vitalflux.com/pandas-impute-missing-values-mean-median-mode/#Impute_Replace_Missing_Values_with_Median))."
   ]
  },
  {
   "cell_type": "code",
   "execution_count": 47,
   "metadata": {},
   "outputs": [
    {
     "data": {
      "text/plain": [
       "Timedelta('23 days 00:00:00')"
      ]
     },
     "execution_count": 47,
     "metadata": {},
     "output_type": "execute_result"
    }
   ],
   "source": [
    "diff_date = df['Date Received']-df['Incident Date']\n",
    "diff_date.median()"
   ]
  },
  {
   "cell_type": "code",
   "execution_count": 48,
   "metadata": {},
   "outputs": [],
   "source": [
    "df.loc[(df['Incident Date'].isna()),'Incident Date']= df['Date Received']-pd.offsets.Day(23)\n",
    "df.loc[(df['Date Received'].isna()),'Date Received']=df['Incident Date']+pd.offsets.Day(23)"
   ]
  },
  {
   "cell_type": "code",
   "execution_count": 49,
   "metadata": {},
   "outputs": [],
   "source": [
    "# Drop incident date dan date received yang kosong\n",
    "df.drop(df[df['Incident Date'].isna()].index, inplace=True)"
   ]
  },
  {
   "cell_type": "code",
   "execution_count": 50,
   "metadata": {},
   "outputs": [
    {
     "data": {
      "text/plain": [
       "Date Received    0\n",
       "Incident Date    0\n",
       "dtype: int64"
      ]
     },
     "execution_count": 50,
     "metadata": {},
     "output_type": "execute_result"
    }
   ],
   "source": [
    "# jumlah missing value di kolom 'Date Received' dan 'Incident Date'\n",
    "df[['Date Received', 'Incident Date']].isna().sum()"
   ]
  },
  {
   "cell_type": "markdown",
   "metadata": {},
   "source": [
    "## Penanganan Outlier"
   ]
  },
  {
   "cell_type": "code",
   "execution_count": 51,
   "metadata": {},
   "outputs": [
    {
     "data": {
      "text/html": [
       "<div>\n",
       "<style scoped>\n",
       "    .dataframe tbody tr th:only-of-type {\n",
       "        vertical-align: middle;\n",
       "    }\n",
       "\n",
       "    .dataframe tbody tr th {\n",
       "        vertical-align: top;\n",
       "    }\n",
       "\n",
       "    .dataframe thead th {\n",
       "        text-align: right;\n",
       "    }\n",
       "</style>\n",
       "<table border=\"1\" class=\"dataframe\">\n",
       "  <thead>\n",
       "    <tr style=\"text-align: right;\">\n",
       "      <th></th>\n",
       "      <th>Claim Amount</th>\n",
       "      <th>Close Amount</th>\n",
       "    </tr>\n",
       "  </thead>\n",
       "  <tbody>\n",
       "    <tr>\n",
       "      <th>count</th>\n",
       "      <td>1.776160e+05</td>\n",
       "      <td>177616.000000</td>\n",
       "    </tr>\n",
       "    <tr>\n",
       "      <th>mean</th>\n",
       "      <td>1.692681e+07</td>\n",
       "      <td>85.376844</td>\n",
       "    </tr>\n",
       "    <tr>\n",
       "      <th>std</th>\n",
       "      <td>7.118370e+09</td>\n",
       "      <td>504.308469</td>\n",
       "    </tr>\n",
       "    <tr>\n",
       "      <th>min</th>\n",
       "      <td>0.000000e+00</td>\n",
       "      <td>0.000000</td>\n",
       "    </tr>\n",
       "    <tr>\n",
       "      <th>25%</th>\n",
       "      <td>2.500000e+01</td>\n",
       "      <td>0.000000</td>\n",
       "    </tr>\n",
       "    <tr>\n",
       "      <th>50%</th>\n",
       "      <td>1.080000e+02</td>\n",
       "      <td>0.000000</td>\n",
       "    </tr>\n",
       "    <tr>\n",
       "      <th>75%</th>\n",
       "      <td>3.400000e+02</td>\n",
       "      <td>65.000000</td>\n",
       "    </tr>\n",
       "    <tr>\n",
       "      <th>max</th>\n",
       "      <td>3.000000e+12</td>\n",
       "      <td>125000.000000</td>\n",
       "    </tr>\n",
       "  </tbody>\n",
       "</table>\n",
       "</div>"
      ],
      "text/plain": [
       "       Claim Amount   Close Amount\n",
       "count  1.776160e+05  177616.000000\n",
       "mean   1.692681e+07  85.376844    \n",
       "std    7.118370e+09  504.308469   \n",
       "min    0.000000e+00  0.000000     \n",
       "25%    2.500000e+01  0.000000     \n",
       "50%    1.080000e+02  0.000000     \n",
       "75%    3.400000e+02  65.000000    \n",
       "max    3.000000e+12  125000.000000"
      ]
     },
     "metadata": {},
     "output_type": "display_data"
    },
    {
     "data": {
      "text/html": [
       "<div>\n",
       "<style scoped>\n",
       "    .dataframe tbody tr th:only-of-type {\n",
       "        vertical-align: middle;\n",
       "    }\n",
       "\n",
       "    .dataframe tbody tr th {\n",
       "        vertical-align: top;\n",
       "    }\n",
       "\n",
       "    .dataframe thead th {\n",
       "        text-align: right;\n",
       "    }\n",
       "</style>\n",
       "<table border=\"1\" class=\"dataframe\">\n",
       "  <thead>\n",
       "    <tr style=\"text-align: right;\">\n",
       "      <th></th>\n",
       "      <th>Claim Number</th>\n",
       "      <th>Airport Code</th>\n",
       "      <th>Airport Name</th>\n",
       "      <th>Airline Name</th>\n",
       "      <th>Claim Type</th>\n",
       "      <th>Claim Site</th>\n",
       "      <th>Item</th>\n",
       "      <th>Status</th>\n",
       "      <th>Disposition</th>\n",
       "    </tr>\n",
       "  </thead>\n",
       "  <tbody>\n",
       "    <tr>\n",
       "      <th>count</th>\n",
       "      <td>177616</td>\n",
       "      <td>177616</td>\n",
       "      <td>177616</td>\n",
       "      <td>177616</td>\n",
       "      <td>177616</td>\n",
       "      <td>177616</td>\n",
       "      <td>177616</td>\n",
       "      <td>177616</td>\n",
       "      <td>177616</td>\n",
       "    </tr>\n",
       "    <tr>\n",
       "      <th>unique</th>\n",
       "      <td>177616</td>\n",
       "      <td>454</td>\n",
       "      <td>455</td>\n",
       "      <td>227</td>\n",
       "      <td>10</td>\n",
       "      <td>6</td>\n",
       "      <td>4390</td>\n",
       "      <td>3</td>\n",
       "      <td>3</td>\n",
       "    </tr>\n",
       "    <tr>\n",
       "      <th>top</th>\n",
       "      <td>0909802M</td>\n",
       "      <td>LAX</td>\n",
       "      <td>Los Angeles International Airport</td>\n",
       "      <td>Not Define</td>\n",
       "      <td>Passenger Property Loss</td>\n",
       "      <td>Checked Baggage</td>\n",
       "      <td>Other</td>\n",
       "      <td>Denied</td>\n",
       "      <td>Denied</td>\n",
       "    </tr>\n",
       "    <tr>\n",
       "      <th>freq</th>\n",
       "      <td>1</td>\n",
       "      <td>8615</td>\n",
       "      <td>8615</td>\n",
       "      <td>31119</td>\n",
       "      <td>102152</td>\n",
       "      <td>141034</td>\n",
       "      <td>32458</td>\n",
       "      <td>96554</td>\n",
       "      <td>96554</td>\n",
       "    </tr>\n",
       "  </tbody>\n",
       "</table>\n",
       "</div>"
      ],
      "text/plain": [
       "       Claim Number Airport Code                       Airport Name  \\\n",
       "count   177616       177616       177616                              \n",
       "unique  177616       454          455                                 \n",
       "top     0909802M     LAX          Los Angeles International Airport   \n",
       "freq    1            8615         8615                                \n",
       "\n",
       "       Airline Name               Claim Type       Claim Site    Item  Status  \\\n",
       "count   177616       177616                   177616           177616  177616   \n",
       "unique  227          10                       6                4390    3        \n",
       "top     Not Define   Passenger Property Loss  Checked Baggage  Other   Denied   \n",
       "freq    31119        102152                   141034           32458   96554    \n",
       "\n",
       "       Disposition  \n",
       "count   177616      \n",
       "unique  3           \n",
       "top     Denied      \n",
       "freq    96554       "
      ]
     },
     "metadata": {},
     "output_type": "display_data"
    }
   ],
   "source": [
    "# df.describe(include='object')\n",
    "display(df.describe(),df.describe(include='object'))"
   ]
  },
  {
   "cell_type": "code",
   "execution_count": 52,
   "metadata": {},
   "outputs": [
    {
     "name": "stdout",
     "output_type": "stream",
     "text": [
      "upper : 812.5\n",
      "lower : -447.5\n"
     ]
    }
   ],
   "source": [
    "# IQR = Q3-Q1\n",
    "Q1 = df['Claim Amount'].describe()['25%']\n",
    "Q3 = df['Claim Amount'].describe()['75%']\n",
    "IQR = Q3-Q1\n",
    "upper = Q3 + 1.5*IQR # batas atas\n",
    "lower = Q1 - 1.5*IQR # batas bawah\n",
    "print('upper :',upper)\n",
    "print('lower :',lower)"
   ]
  },
  {
   "cell_type": "code",
   "execution_count": 53,
   "metadata": {},
   "outputs": [
    {
     "data": {
      "text/plain": [
       "<AxesSubplot:xlabel='Claim Amount'>"
      ]
     },
     "execution_count": 53,
     "metadata": {},
     "output_type": "execute_result"
    },
    {
     "data": {
      "image/png": "[encoded data removed]",
      "text/plain": [
       "<Figure size 432x288 with 1 Axes>"
      ]
     },
     "metadata": {
      "needs_background": "light"
     },
     "output_type": "display_data"
    }
   ],
   "source": [
    "sns.boxplot(df['Claim Amount'])"
   ]
  },
  {
   "cell_type": "code",
   "execution_count": 54,
   "metadata": {},
   "outputs": [],
   "source": [
    "# Drop outliers\n",
    "df.drop(df[df['Claim Amount'] > 812.5].index, inplace=True)"
   ]
  },
  {
   "cell_type": "code",
   "execution_count": 55,
   "metadata": {},
   "outputs": [
    {
     "data": {
      "text/plain": [
       "<AxesSubplot:xlabel='Claim Amount'>"
      ]
     },
     "execution_count": 55,
     "metadata": {},
     "output_type": "execute_result"
    },
    {
     "data": {
      "image/png": "[encoded data removed]",
      "text/plain": [
       "<Figure size 432x288 with 1 Axes>"
      ]
     },
     "metadata": {
      "needs_background": "light"
     },
     "output_type": "display_data"
    }
   ],
   "source": [
    "sns.boxplot(df['Claim Amount'])"
   ]
  },
  {
   "cell_type": "code",
   "execution_count": 56,
   "metadata": {},
   "outputs": [
    {
     "name": "stdout",
     "output_type": "stream",
     "text": [
      "upper : 162.35\n",
      "lower : -97.41\n"
     ]
    }
   ],
   "source": [
    "# IQR = Q3-Q1\n",
    "q1 = df['Close Amount'].describe()['25%']\n",
    "q3 = df['Close Amount'].describe()['75%']\n",
    "iqr = q3-q1\n",
    "upper_cl = q3 + 1.5*iqr # batas atas\n",
    "lower_cl = q1 - 1.5*iqr # batas bawah\n",
    "print('upper :',upper_cl)\n",
    "print('lower :',lower_cl)"
   ]
  },
  {
   "cell_type": "code",
   "execution_count": 57,
   "metadata": {},
   "outputs": [
    {
     "data": {
      "text/plain": [
       "<AxesSubplot:xlabel='Close Amount'>"
      ]
     },
     "execution_count": 57,
     "metadata": {},
     "output_type": "execute_result"
    },
    {
     "data": {
      "image/png": "[encoded data removed]",
      "text/plain": [
       "<Figure size 432x288 with 1 Axes>"
      ]
     },
     "metadata": {
      "needs_background": "light"
     },
     "output_type": "display_data"
    }
   ],
   "source": [
    "sns.boxplot(df['Close Amount'])"
   ]
  },
  {
   "cell_type": "code",
   "execution_count": 58,
   "metadata": {},
   "outputs": [],
   "source": [
    "# Drop outliers\n",
    "df.drop(df[df['Close Amount'] > 162.35].index, inplace=True)"
   ]
  },
  {
   "cell_type": "code",
   "execution_count": 59,
   "metadata": {},
   "outputs": [
    {
     "data": {
      "text/plain": [
       "<AxesSubplot:xlabel='Close Amount'>"
      ]
     },
     "execution_count": 59,
     "metadata": {},
     "output_type": "execute_result"
    },
    {
     "data": {
      "image/png": "[encoded data removed]",
      "text/plain": [
       "<Figure size 432x288 with 1 Axes>"
      ]
     },
     "metadata": {
      "needs_background": "light"
     },
     "output_type": "display_data"
    }
   ],
   "source": [
    "sns.boxplot(df['Close Amount'])"
   ]
  },
  {
   "cell_type": "code",
   "execution_count": 60,
   "metadata": {},
   "outputs": [
    {
     "data": {
      "text/html": [
       "<div>\n",
       "<style scoped>\n",
       "    .dataframe tbody tr th:only-of-type {\n",
       "        vertical-align: middle;\n",
       "    }\n",
       "\n",
       "    .dataframe tbody tr th {\n",
       "        vertical-align: top;\n",
       "    }\n",
       "\n",
       "    .dataframe thead th {\n",
       "        text-align: right;\n",
       "    }\n",
       "</style>\n",
       "<table border=\"1\" class=\"dataframe\">\n",
       "  <thead>\n",
       "    <tr style=\"text-align: right;\">\n",
       "      <th></th>\n",
       "      <th>Claim Amount</th>\n",
       "      <th>Close Amount</th>\n",
       "    </tr>\n",
       "  </thead>\n",
       "  <tbody>\n",
       "    <tr>\n",
       "      <th>count</th>\n",
       "      <td>140320.000000</td>\n",
       "      <td>140320.00000</td>\n",
       "    </tr>\n",
       "    <tr>\n",
       "      <th>mean</th>\n",
       "      <td>127.120318</td>\n",
       "      <td>25.29603</td>\n",
       "    </tr>\n",
       "    <tr>\n",
       "      <th>std</th>\n",
       "      <td>162.802615</td>\n",
       "      <td>40.09375</td>\n",
       "    </tr>\n",
       "    <tr>\n",
       "      <th>min</th>\n",
       "      <td>0.000000</td>\n",
       "      <td>0.00000</td>\n",
       "    </tr>\n",
       "    <tr>\n",
       "      <th>25%</th>\n",
       "      <td>12.000000</td>\n",
       "      <td>0.00000</td>\n",
       "    </tr>\n",
       "    <tr>\n",
       "      <th>50%</th>\n",
       "      <td>67.000000</td>\n",
       "      <td>0.00000</td>\n",
       "    </tr>\n",
       "    <tr>\n",
       "      <th>75%</th>\n",
       "      <td>169.200000</td>\n",
       "      <td>42.39000</td>\n",
       "    </tr>\n",
       "    <tr>\n",
       "      <th>max</th>\n",
       "      <td>812.320000</td>\n",
       "      <td>162.34000</td>\n",
       "    </tr>\n",
       "  </tbody>\n",
       "</table>\n",
       "</div>"
      ],
      "text/plain": [
       "        Claim Amount  Close Amount\n",
       "count  140320.000000  140320.00000\n",
       "mean   127.120318     25.29603    \n",
       "std    162.802615     40.09375    \n",
       "min    0.000000       0.00000     \n",
       "25%    12.000000      0.00000     \n",
       "50%    67.000000      0.00000     \n",
       "75%    169.200000     42.39000    \n",
       "max    812.320000     162.34000   "
      ]
     },
     "metadata": {},
     "output_type": "display_data"
    },
    {
     "data": {
      "text/html": [
       "<div>\n",
       "<style scoped>\n",
       "    .dataframe tbody tr th:only-of-type {\n",
       "        vertical-align: middle;\n",
       "    }\n",
       "\n",
       "    .dataframe tbody tr th {\n",
       "        vertical-align: top;\n",
       "    }\n",
       "\n",
       "    .dataframe thead th {\n",
       "        text-align: right;\n",
       "    }\n",
       "</style>\n",
       "<table border=\"1\" class=\"dataframe\">\n",
       "  <thead>\n",
       "    <tr style=\"text-align: right;\">\n",
       "      <th></th>\n",
       "      <th>Claim Number</th>\n",
       "      <th>Airport Code</th>\n",
       "      <th>Airport Name</th>\n",
       "      <th>Airline Name</th>\n",
       "      <th>Claim Type</th>\n",
       "      <th>Claim Site</th>\n",
       "      <th>Item</th>\n",
       "      <th>Status</th>\n",
       "      <th>Disposition</th>\n",
       "    </tr>\n",
       "  </thead>\n",
       "  <tbody>\n",
       "    <tr>\n",
       "      <th>count</th>\n",
       "      <td>140320</td>\n",
       "      <td>140320</td>\n",
       "      <td>140320</td>\n",
       "      <td>140320</td>\n",
       "      <td>140320</td>\n",
       "      <td>140320</td>\n",
       "      <td>140320</td>\n",
       "      <td>140320</td>\n",
       "      <td>140320</td>\n",
       "    </tr>\n",
       "    <tr>\n",
       "      <th>unique</th>\n",
       "      <td>140320</td>\n",
       "      <td>451</td>\n",
       "      <td>452</td>\n",
       "      <td>222</td>\n",
       "      <td>10</td>\n",
       "      <td>6</td>\n",
       "      <td>3308</td>\n",
       "      <td>3</td>\n",
       "      <td>3</td>\n",
       "    </tr>\n",
       "    <tr>\n",
       "      <th>top</th>\n",
       "      <td>0202417M</td>\n",
       "      <td>LAX</td>\n",
       "      <td>Los Angeles International Airport</td>\n",
       "      <td>Not Define</td>\n",
       "      <td>Passenger Property Loss</td>\n",
       "      <td>Checked Baggage</td>\n",
       "      <td>Other</td>\n",
       "      <td>Denied</td>\n",
       "      <td>Denied</td>\n",
       "    </tr>\n",
       "    <tr>\n",
       "      <th>freq</th>\n",
       "      <td>1</td>\n",
       "      <td>6083</td>\n",
       "      <td>6083</td>\n",
       "      <td>23955</td>\n",
       "      <td>79778</td>\n",
       "      <td>115304</td>\n",
       "      <td>27123</td>\n",
       "      <td>81750</td>\n",
       "      <td>81750</td>\n",
       "    </tr>\n",
       "  </tbody>\n",
       "</table>\n",
       "</div>"
      ],
      "text/plain": [
       "       Claim Number Airport Code                       Airport Name  \\\n",
       "count   140320       140320       140320                              \n",
       "unique  140320       451          452                                 \n",
       "top     0202417M     LAX          Los Angeles International Airport   \n",
       "freq    1            6083         6083                                \n",
       "\n",
       "       Airline Name               Claim Type       Claim Site    Item  Status  \\\n",
       "count   140320       140320                   140320           140320  140320   \n",
       "unique  222          10                       6                3308    3        \n",
       "top     Not Define   Passenger Property Loss  Checked Baggage  Other   Denied   \n",
       "freq    23955        79778                    115304           27123   81750    \n",
       "\n",
       "       Disposition  \n",
       "count   140320      \n",
       "unique  3           \n",
       "top     Denied      \n",
       "freq    81750       "
      ]
     },
     "metadata": {},
     "output_type": "display_data"
    }
   ],
   "source": [
    "# df.describe(include='object')\n",
    "display(df.describe(),df.describe(include='object'))"
   ]
  },
  {
   "cell_type": "markdown",
   "metadata": {},
   "source": [
    "- Nilai outlier dapat kita lihat dari perhitungan IQR. Hasil IQR diatas menunjukkan adanya data outlier pada kolom Claim Amount dan Close Amount karena terdapat nilai yang melewati batas interval bawah (low gate) dan batas interval atas (above gate)\n",
    "- Outlier dihapus"
   ]
  },
  {
   "cell_type": "markdown",
   "metadata": {},
   "source": [
    "# <center> **FINAL DATA** <center/>\n",
    "---\n",
    "---"
   ]
  },
  {
   "cell_type": "code",
   "execution_count": 61,
   "metadata": {},
   "outputs": [
    {
     "name": "stdout",
     "output_type": "stream",
     "text": [
      "(140320, 13)\n"
     ]
    },
    {
     "data": {
      "text/html": [
       "<div>\n",
       "<style scoped>\n",
       "    .dataframe tbody tr th:only-of-type {\n",
       "        vertical-align: middle;\n",
       "    }\n",
       "\n",
       "    .dataframe tbody tr th {\n",
       "        vertical-align: top;\n",
       "    }\n",
       "\n",
       "    .dataframe thead th {\n",
       "        text-align: right;\n",
       "    }\n",
       "</style>\n",
       "<table border=\"1\" class=\"dataframe\">\n",
       "  <thead>\n",
       "    <tr style=\"text-align: right;\">\n",
       "      <th></th>\n",
       "      <th>dataFeatures</th>\n",
       "      <th>dataType</th>\n",
       "      <th>null</th>\n",
       "      <th>unique</th>\n",
       "      <th>uniqueSample</th>\n",
       "    </tr>\n",
       "  </thead>\n",
       "  <tbody>\n",
       "    <tr>\n",
       "      <th>0</th>\n",
       "      <td>Claim Number</td>\n",
       "      <td>object</td>\n",
       "      <td>0</td>\n",
       "      <td>140320</td>\n",
       "      <td>[2007081330124, 2013032002666]</td>\n",
       "    </tr>\n",
       "    <tr>\n",
       "      <th>1</th>\n",
       "      <td>Date Received</td>\n",
       "      <td>datetime64[ns]</td>\n",
       "      <td>0</td>\n",
       "      <td>3813</td>\n",
       "      <td>[2004-09-11T00:00:00.000000000, 2012-03-13T00:00:00.000000000]</td>\n",
       "    </tr>\n",
       "    <tr>\n",
       "      <th>2</th>\n",
       "      <td>Incident Date</td>\n",
       "      <td>datetime64[ns]</td>\n",
       "      <td>0</td>\n",
       "      <td>21038</td>\n",
       "      <td>[2015-01-25T00:00:00.000000000, 2010-07-09T18:08:00.000000000]</td>\n",
       "    </tr>\n",
       "    <tr>\n",
       "      <th>3</th>\n",
       "      <td>Airport Code</td>\n",
       "      <td>object</td>\n",
       "      <td>0</td>\n",
       "      <td>451</td>\n",
       "      <td>[IMT, BFD]</td>\n",
       "    </tr>\n",
       "    <tr>\n",
       "      <th>4</th>\n",
       "      <td>Airport Name</td>\n",
       "      <td>object</td>\n",
       "      <td>0</td>\n",
       "      <td>452</td>\n",
       "      <td>[Arcata-Eureka, Monroe Regional]</td>\n",
       "    </tr>\n",
       "    <tr>\n",
       "      <th>5</th>\n",
       "      <td>Airline Name</td>\n",
       "      <td>object</td>\n",
       "      <td>0</td>\n",
       "      <td>222</td>\n",
       "      <td>[Grupo TACA, JALways Airlines]</td>\n",
       "    </tr>\n",
       "    <tr>\n",
       "      <th>6</th>\n",
       "      <td>Claim Type</td>\n",
       "      <td>object</td>\n",
       "      <td>0</td>\n",
       "      <td>10</td>\n",
       "      <td>[Bus Terminal, Property Damage]</td>\n",
       "    </tr>\n",
       "    <tr>\n",
       "      <th>7</th>\n",
       "      <td>Claim Site</td>\n",
       "      <td>object</td>\n",
       "      <td>0</td>\n",
       "      <td>6</td>\n",
       "      <td>[Checkpoint, Motor Vehicle]</td>\n",
       "    </tr>\n",
       "    <tr>\n",
       "      <th>8</th>\n",
       "      <td>Item</td>\n",
       "      <td>object</td>\n",
       "      <td>0</td>\n",
       "      <td>3308</td>\n",
       "      <td>[Computer &amp; Accessories; Jewelry &amp; Watches; Jewelry &amp; Watches; Other; Personal Electronics, Clothing; Personal Electronics; Travel Accessories]</td>\n",
       "    </tr>\n",
       "    <tr>\n",
       "      <th>9</th>\n",
       "      <td>Claim Amount</td>\n",
       "      <td>float64</td>\n",
       "      <td>0</td>\n",
       "      <td>21037</td>\n",
       "      <td>[13.07, 623.16]</td>\n",
       "    </tr>\n",
       "    <tr>\n",
       "      <th>10</th>\n",
       "      <td>Status</td>\n",
       "      <td>object</td>\n",
       "      <td>0</td>\n",
       "      <td>3</td>\n",
       "      <td>[Approved, Settled]</td>\n",
       "    </tr>\n",
       "    <tr>\n",
       "      <th>11</th>\n",
       "      <td>Close Amount</td>\n",
       "      <td>float64</td>\n",
       "      <td>0</td>\n",
       "      <td>10275</td>\n",
       "      <td>[46.98, 53.09]</td>\n",
       "    </tr>\n",
       "    <tr>\n",
       "      <th>12</th>\n",
       "      <td>Disposition</td>\n",
       "      <td>object</td>\n",
       "      <td>0</td>\n",
       "      <td>3</td>\n",
       "      <td>[Settled, Denied]</td>\n",
       "    </tr>\n",
       "  </tbody>\n",
       "</table>\n",
       "</div>"
      ],
      "text/plain": [
       "     dataFeatures        dataType  null  unique  \\\n",
       "0   Claim Number   object          0     140320   \n",
       "1   Date Received  datetime64[ns]  0     3813     \n",
       "2   Incident Date  datetime64[ns]  0     21038    \n",
       "3   Airport Code   object          0     451      \n",
       "4   Airport Name   object          0     452      \n",
       "5   Airline Name   object          0     222      \n",
       "6   Claim Type     object          0     10       \n",
       "7   Claim Site     object          0     6        \n",
       "8   Item           object          0     3308     \n",
       "9   Claim Amount   float64         0     21037    \n",
       "10  Status         object          0     3        \n",
       "11  Close Amount   float64         0     10275    \n",
       "12  Disposition    object          0     3        \n",
       "\n",
       "                                                                                                                                       uniqueSample  \n",
       "0   [2007081330124, 2013032002666]                                                                                                                   \n",
       "1   [2004-09-11T00:00:00.000000000, 2012-03-13T00:00:00.000000000]                                                                                   \n",
       "2   [2015-01-25T00:00:00.000000000, 2010-07-09T18:08:00.000000000]                                                                                   \n",
       "3   [IMT, BFD]                                                                                                                                       \n",
       "4   [Arcata-Eureka, Monroe Regional]                                                                                                                 \n",
       "5   [Grupo TACA, JALways Airlines]                                                                                                                   \n",
       "6   [Bus Terminal, Property Damage]                                                                                                                  \n",
       "7   [Checkpoint, Motor Vehicle]                                                                                                                      \n",
       "8   [Computer & Accessories; Jewelry & Watches; Jewelry & Watches; Other; Personal Electronics, Clothing; Personal Electronics; Travel Accessories]  \n",
       "9   [13.07, 623.16]                                                                                                                                  \n",
       "10  [Approved, Settled]                                                                                                                              \n",
       "11  [46.98, 53.09]                                                                                                                                   \n",
       "12  [Settled, Denied]                                                                                                                                "
      ]
     },
     "execution_count": 61,
     "metadata": {},
     "output_type": "execute_result"
    }
   ],
   "source": [
    "listItem = []\n",
    "for col in df.columns :\n",
    "    listItem.append([col, df[col].dtype, df[col].isna().sum(),\n",
    "                    df[col].nunique(), list(df[col].drop_duplicates().sample(2).values)]);\n",
    "\n",
    "dfDesc = pd.DataFrame(columns=['dataFeatures', 'dataType', 'null', 'unique', 'uniqueSample'],\n",
    "                     data=listItem)\n",
    "print(df.shape)\n",
    "dfDesc"
   ]
  },
  {
   "cell_type": "markdown",
   "metadata": {},
   "source": [
    "**_Kesimpulan:_**\n",
    "\n",
    "- Setelah melakukan data filtering, penangan missing value, dan penanganan data outlier, jumlah data yang sudah bersih menjadi 140.320 baris dan 13 kolom.\n",
    "- 59.943 baris data dihapus dari total 204.267"
   ]
  },
  {
   "cell_type": "markdown",
   "metadata": {},
   "source": [
    "# <center> **DATA ANALYSIS** <center/>\n",
    "---\n",
    "---"
   ]
  },
  {
   "cell_type": "markdown",
   "metadata": {},
   "source": [
    "## Data Analysis Introduction\n",
    "\n",
    "Setelah data dibersihkan, maka tahap selanjutnya adalah melakukan analisis data. Hasil dari analisis tersebut kemudian ditarik kesimpulan, sehingga pihak TSA dapat melakukan improvement yang efektif untuk mengurangi angka claim dan mengurangi cost yang dikeluarkan TSA sebagai ganti rugi atas claim yang diajukan.\n",
    "\n",
    "Oleh sebab itu, maka analisis harus mampu menjawab beberapa pertanyaan sebagai berikut:\n",
    "1. Apakah insident terpusat pada periode dan lokasi tertentu? Jenis klaim apa yang sering diajukan?\n",
    "2. Item apa yang sering diajukan claim?\n",
    "3. Apakah insiden terspusat pada bandara tertentu?\n",
    "4. Apakah terdapat error pada sistem?"
   ]
  },
  {
   "cell_type": "code",
   "execution_count": 62,
   "metadata": {},
   "outputs": [
    {
     "data": {
      "text/html": [
       "<div>\n",
       "<style scoped>\n",
       "    .dataframe tbody tr th:only-of-type {\n",
       "        vertical-align: middle;\n",
       "    }\n",
       "\n",
       "    .dataframe tbody tr th {\n",
       "        vertical-align: top;\n",
       "    }\n",
       "\n",
       "    .dataframe thead th {\n",
       "        text-align: right;\n",
       "    }\n",
       "</style>\n",
       "<table border=\"1\" class=\"dataframe\">\n",
       "  <thead>\n",
       "    <tr style=\"text-align: right;\">\n",
       "      <th></th>\n",
       "      <th>Claim Number</th>\n",
       "      <th>Date Received</th>\n",
       "      <th>Incident Date</th>\n",
       "      <th>Airport Code</th>\n",
       "      <th>Airport Name</th>\n",
       "      <th>Airline Name</th>\n",
       "      <th>Claim Type</th>\n",
       "      <th>Claim Site</th>\n",
       "      <th>Item</th>\n",
       "      <th>Claim Amount</th>\n",
       "      <th>Status</th>\n",
       "      <th>Close Amount</th>\n",
       "      <th>Disposition</th>\n",
       "    </tr>\n",
       "  </thead>\n",
       "  <tbody>\n",
       "    <tr>\n",
       "      <th>1</th>\n",
       "      <td>0202417M</td>\n",
       "      <td>2002-02-02</td>\n",
       "      <td>2004-01-16</td>\n",
       "      <td>SEA</td>\n",
       "      <td>Seattle-Tacoma International</td>\n",
       "      <td>Not Define</td>\n",
       "      <td>Property Damage</td>\n",
       "      <td>Checked Baggage</td>\n",
       "      <td>Luggage (all types including footlockers)</td>\n",
       "      <td>100.00</td>\n",
       "      <td>Settled</td>\n",
       "      <td>50.00</td>\n",
       "      <td>Settled</td>\n",
       "    </tr>\n",
       "    <tr>\n",
       "      <th>3</th>\n",
       "      <td>0909816M</td>\n",
       "      <td>2002-02-07</td>\n",
       "      <td>2003-01-06</td>\n",
       "      <td>MIA</td>\n",
       "      <td>Miami International Airport</td>\n",
       "      <td>American Airlines</td>\n",
       "      <td>Property Damage</td>\n",
       "      <td>Checkpoint</td>\n",
       "      <td>Luggage (all types including footlockers)</td>\n",
       "      <td>50.00</td>\n",
       "      <td>Approved</td>\n",
       "      <td>50.00</td>\n",
       "      <td>Approved</td>\n",
       "    </tr>\n",
       "    <tr>\n",
       "      <th>4</th>\n",
       "      <td>2005032379513</td>\n",
       "      <td>2002-02-18</td>\n",
       "      <td>2005-02-05</td>\n",
       "      <td>MCO</td>\n",
       "      <td>Orlando International Airport</td>\n",
       "      <td>Delta (Song)</td>\n",
       "      <td>Property Damage</td>\n",
       "      <td>Checkpoint</td>\n",
       "      <td>Baby - Strollers; car seats; playpen; etc.</td>\n",
       "      <td>84.79</td>\n",
       "      <td>Approved</td>\n",
       "      <td>84.79</td>\n",
       "      <td>Approved</td>\n",
       "    </tr>\n",
       "    <tr>\n",
       "      <th>6</th>\n",
       "      <td>2007050124750</td>\n",
       "      <td>2002-04-30</td>\n",
       "      <td>2007-04-26</td>\n",
       "      <td>PHL</td>\n",
       "      <td>Philadelphia International Airport</td>\n",
       "      <td>USAir</td>\n",
       "      <td>Passenger Property Loss</td>\n",
       "      <td>Checked Baggage</td>\n",
       "      <td>Professional Equipment</td>\n",
       "      <td>106.52</td>\n",
       "      <td>Approved</td>\n",
       "      <td>106.52</td>\n",
       "      <td>Approved</td>\n",
       "    </tr>\n",
       "    <tr>\n",
       "      <th>7</th>\n",
       "      <td>12772</td>\n",
       "      <td>2002-06-20</td>\n",
       "      <td>2002-05-09</td>\n",
       "      <td>BWI</td>\n",
       "      <td>Baltimore/Washington Intl Thurgood Marshall</td>\n",
       "      <td>Southwest Airlines</td>\n",
       "      <td>Not Define</td>\n",
       "      <td>Checkpoint</td>\n",
       "      <td>Clothing - Shoes; belts; accessories; etc.</td>\n",
       "      <td>75.00</td>\n",
       "      <td>Approved</td>\n",
       "      <td>75.00</td>\n",
       "      <td>Approved</td>\n",
       "    </tr>\n",
       "  </tbody>\n",
       "</table>\n",
       "</div>"
      ],
      "text/plain": [
       "    Claim Number Date Received Incident Date Airport Code  \\\n",
       "1  0202417M      2002-02-02    2004-01-16     SEA           \n",
       "3  0909816M      2002-02-07    2003-01-06     MIA           \n",
       "4  2005032379513 2002-02-18    2005-02-05     MCO           \n",
       "6  2007050124750 2002-04-30    2007-04-26     PHL           \n",
       "7  12772         2002-06-20    2002-05-09     BWI           \n",
       "\n",
       "                                  Airport Name        Airline Name  \\\n",
       "1  Seattle-Tacoma International                 Not Define           \n",
       "3  Miami International Airport                  American Airlines    \n",
       "4  Orlando International Airport                Delta (Song)         \n",
       "6  Philadelphia International Airport           USAir                \n",
       "7  Baltimore/Washington Intl Thurgood Marshall  Southwest Airlines   \n",
       "\n",
       "                Claim Type       Claim Site  \\\n",
       "1  Property Damage          Checked Baggage   \n",
       "3  Property Damage          Checkpoint        \n",
       "4  Property Damage          Checkpoint        \n",
       "6  Passenger Property Loss  Checked Baggage   \n",
       "7  Not Define               Checkpoint        \n",
       "\n",
       "                                         Item  Claim Amount    Status  \\\n",
       "1  Luggage (all types including footlockers)   100.00        Settled    \n",
       "3  Luggage (all types including footlockers)   50.00         Approved   \n",
       "4  Baby - Strollers; car seats; playpen; etc.  84.79         Approved   \n",
       "6  Professional Equipment                      106.52        Approved   \n",
       "7  Clothing - Shoes; belts; accessories; etc.  75.00         Approved   \n",
       "\n",
       "   Close Amount Disposition  \n",
       "1  50.00         Settled     \n",
       "3  50.00         Approved    \n",
       "4  84.79         Approved    \n",
       "6  106.52        Approved    \n",
       "7  75.00         Approved    "
      ]
     },
     "execution_count": 62,
     "metadata": {},
     "output_type": "execute_result"
    }
   ],
   "source": [
    "df.head()"
   ]
  },
  {
   "cell_type": "code",
   "execution_count": 63,
   "metadata": {},
   "outputs": [
    {
     "data": {
      "text/html": [
       "<div>\n",
       "<style scoped>\n",
       "    .dataframe tbody tr th:only-of-type {\n",
       "        vertical-align: middle;\n",
       "    }\n",
       "\n",
       "    .dataframe tbody tr th {\n",
       "        vertical-align: top;\n",
       "    }\n",
       "\n",
       "    .dataframe thead th {\n",
       "        text-align: right;\n",
       "    }\n",
       "</style>\n",
       "<table border=\"1\" class=\"dataframe\">\n",
       "  <thead>\n",
       "    <tr style=\"text-align: right;\">\n",
       "      <th></th>\n",
       "      <th>Claim Amount</th>\n",
       "      <th>Close Amount</th>\n",
       "    </tr>\n",
       "  </thead>\n",
       "  <tbody>\n",
       "    <tr>\n",
       "      <th>count</th>\n",
       "      <td>140320.000000</td>\n",
       "      <td>140320.00000</td>\n",
       "    </tr>\n",
       "    <tr>\n",
       "      <th>mean</th>\n",
       "      <td>127.120318</td>\n",
       "      <td>25.29603</td>\n",
       "    </tr>\n",
       "    <tr>\n",
       "      <th>std</th>\n",
       "      <td>162.802615</td>\n",
       "      <td>40.09375</td>\n",
       "    </tr>\n",
       "    <tr>\n",
       "      <th>min</th>\n",
       "      <td>0.000000</td>\n",
       "      <td>0.00000</td>\n",
       "    </tr>\n",
       "    <tr>\n",
       "      <th>25%</th>\n",
       "      <td>12.000000</td>\n",
       "      <td>0.00000</td>\n",
       "    </tr>\n",
       "    <tr>\n",
       "      <th>50%</th>\n",
       "      <td>67.000000</td>\n",
       "      <td>0.00000</td>\n",
       "    </tr>\n",
       "    <tr>\n",
       "      <th>75%</th>\n",
       "      <td>169.200000</td>\n",
       "      <td>42.39000</td>\n",
       "    </tr>\n",
       "    <tr>\n",
       "      <th>max</th>\n",
       "      <td>812.320000</td>\n",
       "      <td>162.34000</td>\n",
       "    </tr>\n",
       "  </tbody>\n",
       "</table>\n",
       "</div>"
      ],
      "text/plain": [
       "        Claim Amount  Close Amount\n",
       "count  140320.000000  140320.00000\n",
       "mean   127.120318     25.29603    \n",
       "std    162.802615     40.09375    \n",
       "min    0.000000       0.00000     \n",
       "25%    12.000000      0.00000     \n",
       "50%    67.000000      0.00000     \n",
       "75%    169.200000     42.39000    \n",
       "max    812.320000     162.34000   "
      ]
     },
     "metadata": {},
     "output_type": "display_data"
    },
    {
     "data": {
      "text/html": [
       "<div>\n",
       "<style scoped>\n",
       "    .dataframe tbody tr th:only-of-type {\n",
       "        vertical-align: middle;\n",
       "    }\n",
       "\n",
       "    .dataframe tbody tr th {\n",
       "        vertical-align: top;\n",
       "    }\n",
       "\n",
       "    .dataframe thead th {\n",
       "        text-align: right;\n",
       "    }\n",
       "</style>\n",
       "<table border=\"1\" class=\"dataframe\">\n",
       "  <thead>\n",
       "    <tr style=\"text-align: right;\">\n",
       "      <th></th>\n",
       "      <th>Claim Number</th>\n",
       "      <th>Airport Code</th>\n",
       "      <th>Airport Name</th>\n",
       "      <th>Airline Name</th>\n",
       "      <th>Claim Type</th>\n",
       "      <th>Claim Site</th>\n",
       "      <th>Item</th>\n",
       "      <th>Status</th>\n",
       "      <th>Disposition</th>\n",
       "    </tr>\n",
       "  </thead>\n",
       "  <tbody>\n",
       "    <tr>\n",
       "      <th>count</th>\n",
       "      <td>140320</td>\n",
       "      <td>140320</td>\n",
       "      <td>140320</td>\n",
       "      <td>140320</td>\n",
       "      <td>140320</td>\n",
       "      <td>140320</td>\n",
       "      <td>140320</td>\n",
       "      <td>140320</td>\n",
       "      <td>140320</td>\n",
       "    </tr>\n",
       "    <tr>\n",
       "      <th>unique</th>\n",
       "      <td>140320</td>\n",
       "      <td>451</td>\n",
       "      <td>452</td>\n",
       "      <td>222</td>\n",
       "      <td>10</td>\n",
       "      <td>6</td>\n",
       "      <td>3308</td>\n",
       "      <td>3</td>\n",
       "      <td>3</td>\n",
       "    </tr>\n",
       "    <tr>\n",
       "      <th>top</th>\n",
       "      <td>0202417M</td>\n",
       "      <td>LAX</td>\n",
       "      <td>Los Angeles International Airport</td>\n",
       "      <td>Not Define</td>\n",
       "      <td>Passenger Property Loss</td>\n",
       "      <td>Checked Baggage</td>\n",
       "      <td>Other</td>\n",
       "      <td>Denied</td>\n",
       "      <td>Denied</td>\n",
       "    </tr>\n",
       "    <tr>\n",
       "      <th>freq</th>\n",
       "      <td>1</td>\n",
       "      <td>6083</td>\n",
       "      <td>6083</td>\n",
       "      <td>23955</td>\n",
       "      <td>79778</td>\n",
       "      <td>115304</td>\n",
       "      <td>27123</td>\n",
       "      <td>81750</td>\n",
       "      <td>81750</td>\n",
       "    </tr>\n",
       "  </tbody>\n",
       "</table>\n",
       "</div>"
      ],
      "text/plain": [
       "       Claim Number Airport Code                       Airport Name  \\\n",
       "count   140320       140320       140320                              \n",
       "unique  140320       451          452                                 \n",
       "top     0202417M     LAX          Los Angeles International Airport   \n",
       "freq    1            6083         6083                                \n",
       "\n",
       "       Airline Name               Claim Type       Claim Site    Item  Status  \\\n",
       "count   140320       140320                   140320           140320  140320   \n",
       "unique  222          10                       6                3308    3        \n",
       "top     Not Define   Passenger Property Loss  Checked Baggage  Other   Denied   \n",
       "freq    23955        79778                    115304           27123   81750    \n",
       "\n",
       "       Disposition  \n",
       "count   140320      \n",
       "unique  3           \n",
       "top     Denied      \n",
       "freq    81750       "
      ]
     },
     "metadata": {},
     "output_type": "display_data"
    }
   ],
   "source": [
    "# df.describe(include='object')\n",
    "display(df.describe(),df.describe(include='object'))"
   ]
  },
  {
   "cell_type": "code",
   "execution_count": 64,
   "metadata": {},
   "outputs": [
    {
     "data": {
      "text/html": [
       "<div>\n",
       "<style scoped>\n",
       "    .dataframe tbody tr th:only-of-type {\n",
       "        vertical-align: middle;\n",
       "    }\n",
       "\n",
       "    .dataframe tbody tr th {\n",
       "        vertical-align: top;\n",
       "    }\n",
       "\n",
       "    .dataframe thead th {\n",
       "        text-align: right;\n",
       "    }\n",
       "</style>\n",
       "<table border=\"1\" class=\"dataframe\">\n",
       "  <thead>\n",
       "    <tr style=\"text-align: right;\">\n",
       "      <th></th>\n",
       "      <th>count</th>\n",
       "      <th>mean</th>\n",
       "      <th>std</th>\n",
       "      <th>min</th>\n",
       "      <th>25%</th>\n",
       "      <th>50%</th>\n",
       "      <th>75%</th>\n",
       "      <th>max</th>\n",
       "    </tr>\n",
       "    <tr>\n",
       "      <th>Disposition</th>\n",
       "      <th></th>\n",
       "      <th></th>\n",
       "      <th></th>\n",
       "      <th></th>\n",
       "      <th></th>\n",
       "      <th></th>\n",
       "      <th></th>\n",
       "      <th></th>\n",
       "    </tr>\n",
       "  </thead>\n",
       "  <tbody>\n",
       "    <tr>\n",
       "      <th>Approved</th>\n",
       "      <td>36634.0</td>\n",
       "      <td>56.119271</td>\n",
       "      <td>42.442674</td>\n",
       "      <td>0.0</td>\n",
       "      <td>21.34</td>\n",
       "      <td>45.000</td>\n",
       "      <td>81.54</td>\n",
       "      <td>750.00</td>\n",
       "    </tr>\n",
       "    <tr>\n",
       "      <th>Denied</th>\n",
       "      <td>81750.0</td>\n",
       "      <td>152.095779</td>\n",
       "      <td>196.603930</td>\n",
       "      <td>0.0</td>\n",
       "      <td>0.00</td>\n",
       "      <td>65.000</td>\n",
       "      <td>248.00</td>\n",
       "      <td>812.32</td>\n",
       "    </tr>\n",
       "    <tr>\n",
       "      <th>Settled</th>\n",
       "      <td>21936.0</td>\n",
       "      <td>152.617606</td>\n",
       "      <td>105.325995</td>\n",
       "      <td>0.0</td>\n",
       "      <td>75.00</td>\n",
       "      <td>129.465</td>\n",
       "      <td>200.00</td>\n",
       "      <td>809.00</td>\n",
       "    </tr>\n",
       "  </tbody>\n",
       "</table>\n",
       "</div>"
      ],
      "text/plain": [
       "               count        mean         std  min    25%      50%     75%  \\\n",
       "Disposition                                                                 \n",
       "Approved     36634.0  56.119271   42.442674   0.0  21.34  45.000   81.54    \n",
       "Denied       81750.0  152.095779  196.603930  0.0  0.00   65.000   248.00   \n",
       "Settled      21936.0  152.617606  105.325995  0.0  75.00  129.465  200.00   \n",
       "\n",
       "                max  \n",
       "Disposition          \n",
       "Approved     750.00  \n",
       "Denied       812.32  \n",
       "Settled      809.00  "
      ]
     },
     "execution_count": 64,
     "metadata": {},
     "output_type": "execute_result"
    }
   ],
   "source": [
    "df.groupby('Disposition')['Claim Amount'].describe()"
   ]
  },
  {
   "cell_type": "markdown",
   "metadata": {},
   "source": [
    "Dari deskripsi statistik di atas terdapat beberapa hal yang dapat dianalisa diantaranya :\n",
    "- Rata-rata nilai claim yang diajukan (Claim Amount) dari tahun 2002-2015 adalah $127,12 per Insiden.\n",
    "- Kolom Claim Amount dan Close Amount menunjukkan distribusi tidak normal (right skewed). Hal ini bisa kita lihat dari nilai mean > median.\n",
    "- Penolakan Claim yang diajukan kepada TSA paling tinggi, ini bisa dilihat pada frequensi diatas.\n",
    "- Claim Type tertinggi yaitu Type Property Loss pada saat Chehcked Baggage.\n",
    "- Claim Type tertinggi terjadi pada Los Angeles International Airport.\n",
    "\n",
    "Kemudian, dari deskripsi statistik tersebut, dapat dijabarkan lebih detail lagi pada analisis di bawah untuk dapat menjawab pertanyaan-pertanyaan yang telah diajukan "
   ]
  },
  {
   "cell_type": "markdown",
   "metadata": {},
   "source": [
    "## 1. Apakah insiden terpusat pada periode dan lokasi tertentu? Jenis klaim apa yang sering diajukan?"
   ]
  },
  {
   "cell_type": "code",
   "execution_count": 65,
   "metadata": {},
   "outputs": [],
   "source": [
    "df['year'] = pd.DatetimeIndex(df['Incident Date']).year\n",
    "df['year_received'] = pd.DatetimeIndex(df['Date Received']).year\n",
    "df['month'] = pd.DatetimeIndex(df['Incident Date']).month\n",
    "df['day'] = pd.DatetimeIndex(df['Incident Date']).weekday"
   ]
  },
  {
   "cell_type": "code",
   "execution_count": 66,
   "metadata": {},
   "outputs": [
    {
     "data": {
      "image/png": "[encoded data removed]",
      "text/plain": [
       "<Figure size 1080x576 with 1 Axes>"
      ]
     },
     "metadata": {
      "needs_background": "light"
     },
     "output_type": "display_data"
    }
   ],
   "source": [
    "claims_count_incident = df['year'].value_counts()\n",
    "\n",
    "plt.figure(figsize=(15, 8))\n",
    "yplot=sns.lineplot(claims_count_incident.index, claims_count_incident.values, palette = 'deep')\n",
    "yplot.grid(False)\n",
    "plt.xlabel('Year', size=14)\n",
    "plt.ylabel('Incident Number', size=14)\n",
    "plt.xticks(fontsize=16)\n",
    "plt.yticks(fontsize=16)\n",
    "plt.title('Number of Incident by Year (2002-2015)', fontsize=36)\n",
    "plt.show()\n"
   ]
  },
  {
   "cell_type": "code",
   "execution_count": 67,
   "metadata": {},
   "outputs": [
    {
     "data": {
      "image/png": "[encoded data removed]",
      "text/plain": [
       "<Figure size 1080x576 with 1 Axes>"
      ]
     },
     "metadata": {
      "needs_background": "light"
     },
     "output_type": "display_data"
    }
   ],
   "source": [
    "claim_type_2004 = df.loc[(df['year']==2004),'Claim Type'].value_counts()\n",
    "\n",
    "claim_2004_index = claim_type_2004.index\n",
    "claim_2004_values = claim_type_2004.values\n",
    "\n",
    "plt.figure(figsize=(15,8))\n",
    "sns.barplot(y=claim_2004_index, x=claim_2004_values, orient='horizontal')\n",
    "plt.xlabel('Number of Claim', fontsize=14)\n",
    "plt.ylabel('Claim Type', fontsize=14)\n",
    "plt.xticks(fontsize=16)\n",
    "plt.yticks(fontsize=16)\n",
    "plt.title('Claim Type (2004)', fontsize=36)\n",
    "plt.show()\n"
   ]
  },
  {
   "cell_type": "code",
   "execution_count": 68,
   "metadata": {},
   "outputs": [
    {
     "data": {
      "image/png": "[encoded data removed]",
      "text/plain": [
       "<Figure size 1080x576 with 1 Axes>"
      ]
     },
     "metadata": {
      "needs_background": "light"
     },
     "output_type": "display_data"
    }
   ],
   "source": [
    "claim_item_2004 = df.loc[(df['year']==2004),'Item'].value_counts().nlargest(n=10)\n",
    "\n",
    "claim_item_index = claim_item_2004.index\n",
    "claim_item_values = claim_item_2004.values\n",
    "\n",
    "plt.figure(figsize=(15,8))\n",
    "sns.barplot(y=claim_item_index, x=claim_item_values, orient='horizontal')\n",
    "plt.xlabel('Number of Claim', fontsize=14)\n",
    "plt.ylabel('Item Claim', fontsize=14)\n",
    "plt.xticks(fontsize=16)\n",
    "plt.yticks(fontsize=16)\n",
    "plt.title('Item Claimed (2004)', fontsize=36)\n",
    "plt.show()"
   ]
  },
  {
   "cell_type": "markdown",
   "metadata": {},
   "source": [
    "- Dilihat dari grafik, claim yang diajukan mencapai angka tertinggi di Tahun 2004 dengan tipe claim tertinggi adalah Passenger Property Loss dan Property Damage.\n",
    "- Menurut [referensi](\n",
    "https://www.nytimes.com/2004/09/10/politics/us-to-pay-fliers-15-million-for-pilfering-of-checked-bags.html) tinggi nya angka tersebut terjadi semenjak pemeriksaan dilakukan secara tertutup oleh agen TSA. Setelah selesai dilakukan pengecekan, banyak penumpang yang protes dan mengajukan laporan terhadap kerusakan dan kehilangan beberapa barang seperti payung golf, pakaian, laptop-computer, dan beberapa barang lainnya. Setelah ditelusuri lebih lanjut ternyata kejadian tersebut disebabkan oleh pencurian oleh agen TSA sendiri.\n",
    "- Selain itu, property damage juga disebabkan karena penggunakan X-Ray terutama untuk item seperti Camera.\n",
    "\n",
    "Setelah kejadian tersebut, berdasarkan artikel yang disebutkan pada [referensi](https://reason.org/wp-content/uploads/files/ee580fb1515e98c9bd64e9aa5ea18ed3.pdf), TSA mulai melakukan perbaikan seperti bekerjasama dengan vendor yang sudah memenuhi requirement dari TSA. Selain itu TSA melakukan training untuk passanger screener pada agen TSA. "
   ]
  },
  {
   "cell_type": "code",
   "execution_count": 69,
   "metadata": {},
   "outputs": [
    {
     "data": {
      "image/png": "[encoded data removed]",
      "text/plain": [
       "<Figure size 1080x576 with 1 Axes>"
      ]
     },
     "metadata": {
      "needs_background": "light"
     },
     "output_type": "display_data"
    }
   ],
   "source": [
    "unique_claim_type = df['Claim Type'].value_counts().nlargest(n=10)\n",
    "\n",
    "claim_index = unique_claim_type.index\n",
    "claim_values = unique_claim_type.values\n",
    "\n",
    "plt.figure(figsize=(15,8))\n",
    "sns.barplot(y=claim_index, x=claim_values, orient='horizontal')\n",
    "plt.xlabel('Number of Claim', fontsize=14)\n",
    "plt.ylabel('Claim Type', fontsize=14)\n",
    "plt.xticks(fontsize=16)\n",
    "plt.yticks(fontsize=16)\n",
    "plt.title('Claim Type (2002-2015)', fontsize=36)\n",
    "plt.show()"
   ]
  },
  {
   "cell_type": "code",
   "execution_count": 70,
   "metadata": {},
   "outputs": [
    {
     "data": {
      "text/plain": [
       "<AxesSubplot:xlabel='Claim Type'>"
      ]
     },
     "execution_count": 70,
     "metadata": {},
     "output_type": "execute_result"
    },
    {
     "data": {
      "image/png": "[encoded data removed]",
      "text/plain": [
       "<Figure size 432x288 with 1 Axes>"
      ]
     },
     "metadata": {
      "needs_background": "light"
     },
     "output_type": "display_data"
    }
   ],
   "source": [
    "new = df[['Claim Type', 'Claim Site']]\n",
    "count_claimtype = df['Claim Type'].value_counts()\n",
    "crosstab = pd.crosstab( index=df['Claim Type'], columns=df['Claim Site'])\n",
    "crosstab.plot(kind=\"bar\", stacked=True, rot=90)"
   ]
  },
  {
   "cell_type": "markdown",
   "metadata": {},
   "source": [
    "Grafik diatas menunjukkan claim type dari tahun 2002-2015. Claim type tertinggi adalah Passenger Property Loss dan Property Damage yang mana claim type tersebut sama dengan claim type tertinggi di tahun 2004. Sehingga dapat disimpulkan bahwa kedua claim type tersebut adalah claim type yang sering terjadi sepanjang tahun dan akan menjadi fokus untuk perbaikan.\n",
    "Untuk claim type Passanger property loss dan property damage, kejadian banyak ditemukan pada titik checked baggage."
   ]
  },
  {
   "cell_type": "code",
   "execution_count": 71,
   "metadata": {},
   "outputs": [
    {
     "data": {
      "image/png": "[encoded data removed]",
      "text/plain": [
       "<Figure size 1080x576 with 1 Axes>"
      ]
     },
     "metadata": {
      "needs_background": "light"
     },
     "output_type": "display_data"
    }
   ],
   "source": [
    "claims_count = df['month'].value_counts()\n",
    "months = ['Jan', 'Feb', 'Mar', 'Apr', 'May', 'Jun', 'Jul', 'Aug', 'Sep', 'Oct', 'Nov', 'Dec']\n",
    "\n",
    "plt.figure(figsize=(15, 8))\n",
    "mplot=sns.barplot(claims_count.index, claims_count.values, palette = 'deep')\n",
    "mplot.grid(False)\n",
    "plt.xlabel('Month', size=14)\n",
    "plt.ylabel('Incident Number', size=14)\n",
    "plt.xticks(range(12), months, fontsize=14)\n",
    "plt.bar_label(mplot.containers[0])\n",
    "plt.title('Number of Incident by Month (2002-2015)', fontsize=36 )\n",
    "plt.show()\n"
   ]
  },
  {
   "cell_type": "code",
   "execution_count": 72,
   "metadata": {},
   "outputs": [
    {
     "data": {
      "image/png": "[encoded data removed]",
      "text/plain": [
       "<Figure size 1080x576 with 1 Axes>"
      ]
     },
     "metadata": {
      "needs_background": "light"
     },
     "output_type": "display_data"
    }
   ],
   "source": [
    "claims_count = df['day'].value_counts()\n",
    "day = ['Mon','Tue','Wed','Thu','Fri','Sat','Sun']\n",
    "\n",
    "plt.figure(figsize=(15, 8))\n",
    "dplot=sns.barplot(claims_count.index, claims_count.values, palette = 'deep')\n",
    "dplot.grid(False)\n",
    "plt.xlabel('Day', size=14)\n",
    "plt.ylabel('Incident Number', size=14)\n",
    "plt.xticks(range(7), day, fontsize=14)\n",
    "plt.bar_label(dplot.containers[0])\n",
    "plt.title('Number of Incident by Day (2002-2015)', fontsize=36 )\n",
    "plt.show()\n"
   ]
  },
  {
   "cell_type": "markdown",
   "metadata": {},
   "source": [
    "- Jika dilihat berdasarkan bulan, insiden terbanyak terjadi pada bulan Desember-Januari dan rata-rata pada pertengahan tahun. Hal ini dikarenakan libur musim dingin dan libur musim panas sekolah di Amerika Serikat ([referensi](https://myskill.id/blog/masa-kuliah/sistem-pendidikan-amerika/)). Sehingga, orang banyak melakukan travelling ([referensi](https://www.universitas123.com/news/libur-musim-dingin-di-amerika-para-murid-amerika-melakukan-ini)).\n",
    "- Jika dilihat Berdasarkan hari, insiden terbanyak terjadi pada hari Minggu.\n",
    "\n",
    "TSA harus menyiapkan sumber daya ekstra pada bulan dan hari tersebut. Namun karena terdapat perbedaan yang tidak terlalu signifikan, penyelesaian masalah tetap harus fokus sepanjang waktu, tidak berdasarkan bulan ataupun hari. "
   ]
  },
  {
   "cell_type": "markdown",
   "metadata": {},
   "source": [
    "## 2. Item apa yang sering diajukan claim?"
   ]
  },
  {
   "cell_type": "code",
   "execution_count": 73,
   "metadata": {},
   "outputs": [
    {
     "data": {
      "image/png": "[encoded data removed]",
      "text/plain": [
       "<Figure size 1080x720 with 1 Axes>"
      ]
     },
     "metadata": {
      "needs_background": "light"
     },
     "output_type": "display_data"
    }
   ],
   "source": [
    "unique_claim_item = df['Item'].value_counts().nlargest(n=10)\n",
    "\n",
    "item_index = unique_claim_item.index\n",
    "item_values = unique_claim_item.values\n",
    "\n",
    "plt.figure(figsize=(15,10))\n",
    "sns.barplot(y=item_index, x=item_values, orient='horizontal')\n",
    "plt.xlabel('Number of Claim', fontsize=18)\n",
    "plt.ylabel('Item', fontsize=18)\n",
    "plt.xticks(fontsize=16)\n",
    "plt.yticks(fontsize=16)\n",
    "plt.title('Top 10 Items Claimed (2002-2015)',fontsize=34)\n",
    "plt.show()"
   ]
  },
  {
   "cell_type": "markdown",
   "metadata": {},
   "source": [
    "Grafik diatas menunjukkan 10 item claim terbanyak. Item tersebut diantaranya bagasi(termasuk footlockers), baju, ikat pinggang, perhiasan, kamera, laptop, dll. Dimana benda-benda tersebut adalah benda yang paling sering dibawa bepergian oleh para traveller, dan juga benda yang paling mudah dicuri."
   ]
  },
  {
   "cell_type": "markdown",
   "metadata": {},
   "source": [
    "## 3. Apakah insiden terspusat pada bandara tertentu?"
   ]
  },
  {
   "cell_type": "code",
   "execution_count": 74,
   "metadata": {},
   "outputs": [
    {
     "data": {
      "image/png": "[encoded data removed]",
      "text/plain": [
       "<Figure size 1080x576 with 1 Axes>"
      ]
     },
     "metadata": {
      "needs_background": "light"
     },
     "output_type": "display_data"
    }
   ],
   "source": [
    "unique_airport_code = df['Airport Code'].value_counts().nlargest(n=20)\n",
    "\n",
    "airport_index = unique_airport_code.index\n",
    "airport_values = unique_airport_code.values\n",
    "\n",
    "plt.figure(figsize=(15,8))\n",
    "sns.barplot(x=airport_index, y=airport_values)\n",
    "plt.xlabel('Airport', fontsize=16)\n",
    "plt.ylabel('Incident Number', fontsize=16)\n",
    "plt.xticks(fontsize=14)\n",
    "plt.yticks(fontsize=16)\n",
    "plt.title('Incident Number by Airport (2002-2015)', fontsize=34)\n",
    "plt.show()"
   ]
  },
  {
   "cell_type": "markdown",
   "metadata": {},
   "source": [
    "Claim banyak terjadi di Los Angeles International Airport (LAX). Hal ini sesuai dengan yang disampaikan pada berita (dapat dilihat [di sini](https://www.sun-sentinel.com/la-fi-travel-briefcase-20110530-story.html)) dimana record data pada Tahun 2007-2010 menunjukkan insiden terbanyak terjadi di LAX dengan total claim yang masuk sebesar 1.702 claim. \n",
    "\n",
    "John F. Kennedy International Airport (JFK) menjadi tempat penyumbang claim terbesar kedua setelah LAX. Dengan melihat grafik diatas, penanganan masalah akan difokuskan di Airport LAX dan JFK karena pada posisi ke-3 yaitu bandara O'Hare International Airport (ORD) memiliki nilai yang cukup signifikan dengan 2 bandara peringkat tertinggi.\n"
   ]
  },
  {
   "cell_type": "markdown",
   "metadata": {},
   "source": [
    "## 3. Apakah Terdapat Error pada Sistem?\n",
    "Untuk Kolom Claim Amount dan Close Amount dengan kondisi Disposition *Approved* harus bernilai sama, sehingga akan dilakukan uji statistik untuk membuktikan apakah terdapat perbedaan pada nilai tersebut. Dalam hal ini akan dilakukan pengujian dengan metode **Wilcoxon**, karena terdapat 2 kondisi berpasangan dan data tidak terdistribusi normal."
   ]
  },
  {
   "cell_type": "code",
   "execution_count": 75,
   "metadata": {},
   "outputs": [
    {
     "data": {
      "text/html": [
       "<div>\n",
       "<style scoped>\n",
       "    .dataframe tbody tr th:only-of-type {\n",
       "        vertical-align: middle;\n",
       "    }\n",
       "\n",
       "    .dataframe tbody tr th {\n",
       "        vertical-align: top;\n",
       "    }\n",
       "\n",
       "    .dataframe thead th {\n",
       "        text-align: right;\n",
       "    }\n",
       "</style>\n",
       "<table border=\"1\" class=\"dataframe\">\n",
       "  <thead>\n",
       "    <tr style=\"text-align: right;\">\n",
       "      <th></th>\n",
       "      <th>NO</th>\n",
       "      <th>YES</th>\n",
       "      <th>diff_amount</th>\n",
       "    </tr>\n",
       "  </thead>\n",
       "  <tbody>\n",
       "    <tr>\n",
       "      <th>3</th>\n",
       "      <td>50.00</td>\n",
       "      <td>50.00</td>\n",
       "      <td>0.0</td>\n",
       "    </tr>\n",
       "    <tr>\n",
       "      <th>4</th>\n",
       "      <td>84.79</td>\n",
       "      <td>84.79</td>\n",
       "      <td>0.0</td>\n",
       "    </tr>\n",
       "    <tr>\n",
       "      <th>6</th>\n",
       "      <td>106.52</td>\n",
       "      <td>106.52</td>\n",
       "      <td>0.0</td>\n",
       "    </tr>\n",
       "    <tr>\n",
       "      <th>7</th>\n",
       "      <td>75.00</td>\n",
       "      <td>75.00</td>\n",
       "      <td>0.0</td>\n",
       "    </tr>\n",
       "    <tr>\n",
       "      <th>10</th>\n",
       "      <td>79.95</td>\n",
       "      <td>79.95</td>\n",
       "      <td>0.0</td>\n",
       "    </tr>\n",
       "  </tbody>\n",
       "</table>\n",
       "</div>"
      ],
      "text/plain": [
       "        NO     YES  diff_amount\n",
       "3   50.00   50.00   0.0        \n",
       "4   84.79   84.79   0.0        \n",
       "6   106.52  106.52  0.0        \n",
       "7   75.00   75.00   0.0        \n",
       "10  79.95   79.95   0.0        "
      ]
     },
     "execution_count": 75,
     "metadata": {},
     "output_type": "execute_result"
    }
   ],
   "source": [
    "amount= df.loc[(df['Disposition']=='Approved')]\n",
    "\n",
    "df_amount = pd.DataFrame({\n",
    "    'NO' : amount['Close Amount'],\n",
    "    'YES': amount['Claim Amount']\n",
    "})\n",
    "\n",
    "df_amount['diff_amount'] = df_amount['YES'] - df_amount['NO']\n",
    "df_amount.head()\n"
   ]
  },
  {
   "cell_type": "code",
   "execution_count": 76,
   "metadata": {},
   "outputs": [
    {
     "name": "stdout",
     "output_type": "stream",
     "text": [
      "p_value :  0.8837889988366758\n",
      "162447.5\n",
      "Terima H0\n"
     ]
    }
   ],
   "source": [
    "# H0 : median population of difference = 0\n",
    "# Ha : median population of difference < 0\n",
    "\n",
    "sumrank, pvalue = wilcoxon(df_amount['diff_amount'], alternative ='two-sided', correction=True)\n",
    "\n",
    "print('p_value : ', pvalue)\n",
    "print(sumrank)\n",
    "\n",
    "if pvalue < 0.05 :\n",
    "    print('Tolak H0')\n",
    "else :\n",
    "    print('Terima H0')"
   ]
  },
  {
   "cell_type": "code",
   "execution_count": 77,
   "metadata": {},
   "outputs": [
    {
     "data": {
      "text/plain": [
       "Close Amount    2049848.42\n",
       "Claim Amount    2055873.38\n",
       "dtype: float64"
      ]
     },
     "execution_count": 77,
     "metadata": {},
     "output_type": "execute_result"
    }
   ],
   "source": [
    "amount[['Close Amount','Claim Amount']].sum()"
   ]
  },
  {
   "cell_type": "markdown",
   "metadata": {},
   "source": [
    "Hasil uji statistik menunjukkan nilai p-value < 0.05. Sehingga kesimpulannya H0 ditolak yang berarti nilai pada Claim Amount dan Close Amount pada kondisi *Denied* dan *Approved* berbeda. Hal ini dapat dibuktikan juga dengan perhitungan jumlah claim amount dan close amount dengan kondisi tersebut. Dimana nilai Claim Amount lebih besar dari close amount. Dari hasil tersebut terdapat beberapa kemungkinan :\n",
    "1. Close Amount tidak diinput dengan benar\n",
    "2. Terdapat kesalahan input pada Claim Amount\n",
    "\n",
    "Jika terdapat kesalahan input, hal ini dapat merugikan TSA karena bisa menyebabkan seolah-olah memiliki tunggakan pembayaran."
   ]
  },
  {
   "cell_type": "code",
   "execution_count": 78,
   "metadata": {},
   "outputs": [
    {
     "data": {
      "text/html": [
       "<div>\n",
       "<style scoped>\n",
       "    .dataframe tbody tr th:only-of-type {\n",
       "        vertical-align: middle;\n",
       "    }\n",
       "\n",
       "    .dataframe tbody tr th {\n",
       "        vertical-align: top;\n",
       "    }\n",
       "\n",
       "    .dataframe thead th {\n",
       "        text-align: right;\n",
       "    }\n",
       "</style>\n",
       "<table border=\"1\" class=\"dataframe\">\n",
       "  <thead>\n",
       "    <tr style=\"text-align: right;\">\n",
       "      <th></th>\n",
       "      <th>Close Amount</th>\n",
       "      <th>Claim Amount</th>\n",
       "    </tr>\n",
       "  </thead>\n",
       "  <tbody>\n",
       "    <tr>\n",
       "      <th>Close Amount</th>\n",
       "      <td>1.00000</td>\n",
       "      <td>0.98406</td>\n",
       "    </tr>\n",
       "    <tr>\n",
       "      <th>Claim Amount</th>\n",
       "      <td>0.98406</td>\n",
       "      <td>1.00000</td>\n",
       "    </tr>\n",
       "  </tbody>\n",
       "</table>\n",
       "</div>"
      ],
      "text/plain": [
       "              Close Amount  Claim Amount\n",
       "Close Amount  1.00000       0.98406     \n",
       "Claim Amount  0.98406       1.00000     "
      ]
     },
     "execution_count": 78,
     "metadata": {},
     "output_type": "execute_result"
    }
   ],
   "source": [
    "amount[['Close Amount','Claim Amount']].corr(method = 'spearman')"
   ]
  },
  {
   "cell_type": "markdown",
   "metadata": {},
   "source": [
    "Hubungan antara 2 data pada kolom Claim Amount dan Close Amount ditunjukkan pada hasil diatas. Korelasi antara keduanya menunjukkan hubungan yang kuat karena nilai korelasi berada pada rentang 0.7 - 1 yaitu sebesar 0.98406"
   ]
  },
  {
   "cell_type": "code",
   "execution_count": 79,
   "metadata": {},
   "outputs": [
    {
     "data": {
      "text/html": [
       "<div>\n",
       "<style scoped>\n",
       "    .dataframe tbody tr th:only-of-type {\n",
       "        vertical-align: middle;\n",
       "    }\n",
       "\n",
       "    .dataframe tbody tr th {\n",
       "        vertical-align: top;\n",
       "    }\n",
       "\n",
       "    .dataframe thead th {\n",
       "        text-align: right;\n",
       "    }\n",
       "</style>\n",
       "<table border=\"1\" class=\"dataframe\">\n",
       "  <thead>\n",
       "    <tr style=\"text-align: right;\">\n",
       "      <th></th>\n",
       "      <th>Claim Number</th>\n",
       "      <th>Date Received</th>\n",
       "      <th>Incident Date</th>\n",
       "      <th>Airport Code</th>\n",
       "      <th>Airport Name</th>\n",
       "      <th>Airline Name</th>\n",
       "      <th>Claim Type</th>\n",
       "      <th>Claim Site</th>\n",
       "      <th>Item</th>\n",
       "      <th>Claim Amount</th>\n",
       "      <th>Status</th>\n",
       "      <th>Close Amount</th>\n",
       "      <th>Disposition</th>\n",
       "      <th>year</th>\n",
       "      <th>year_received</th>\n",
       "      <th>month</th>\n",
       "      <th>day</th>\n",
       "    </tr>\n",
       "  </thead>\n",
       "  <tbody>\n",
       "    <tr>\n",
       "      <th>1</th>\n",
       "      <td>0202417M</td>\n",
       "      <td>2002-02-02</td>\n",
       "      <td>2004-01-16</td>\n",
       "      <td>SEA</td>\n",
       "      <td>Seattle-Tacoma International</td>\n",
       "      <td>Not Define</td>\n",
       "      <td>Property Damage</td>\n",
       "      <td>Checked Baggage</td>\n",
       "      <td>Luggage (all types including footlockers)</td>\n",
       "      <td>100.00</td>\n",
       "      <td>Settled</td>\n",
       "      <td>50.00</td>\n",
       "      <td>Settled</td>\n",
       "      <td>2004</td>\n",
       "      <td>2002</td>\n",
       "      <td>1</td>\n",
       "      <td>4</td>\n",
       "    </tr>\n",
       "    <tr>\n",
       "      <th>3</th>\n",
       "      <td>0909816M</td>\n",
       "      <td>2002-02-07</td>\n",
       "      <td>2003-01-06</td>\n",
       "      <td>MIA</td>\n",
       "      <td>Miami International Airport</td>\n",
       "      <td>American Airlines</td>\n",
       "      <td>Property Damage</td>\n",
       "      <td>Checkpoint</td>\n",
       "      <td>Luggage (all types including footlockers)</td>\n",
       "      <td>50.00</td>\n",
       "      <td>Approved</td>\n",
       "      <td>50.00</td>\n",
       "      <td>Approved</td>\n",
       "      <td>2003</td>\n",
       "      <td>2002</td>\n",
       "      <td>1</td>\n",
       "      <td>0</td>\n",
       "    </tr>\n",
       "    <tr>\n",
       "      <th>4</th>\n",
       "      <td>2005032379513</td>\n",
       "      <td>2002-02-18</td>\n",
       "      <td>2005-02-05</td>\n",
       "      <td>MCO</td>\n",
       "      <td>Orlando International Airport</td>\n",
       "      <td>Delta (Song)</td>\n",
       "      <td>Property Damage</td>\n",
       "      <td>Checkpoint</td>\n",
       "      <td>Baby - Strollers; car seats; playpen; etc.</td>\n",
       "      <td>84.79</td>\n",
       "      <td>Approved</td>\n",
       "      <td>84.79</td>\n",
       "      <td>Approved</td>\n",
       "      <td>2005</td>\n",
       "      <td>2002</td>\n",
       "      <td>2</td>\n",
       "      <td>5</td>\n",
       "    </tr>\n",
       "    <tr>\n",
       "      <th>6</th>\n",
       "      <td>2007050124750</td>\n",
       "      <td>2002-04-30</td>\n",
       "      <td>2007-04-26</td>\n",
       "      <td>PHL</td>\n",
       "      <td>Philadelphia International Airport</td>\n",
       "      <td>USAir</td>\n",
       "      <td>Passenger Property Loss</td>\n",
       "      <td>Checked Baggage</td>\n",
       "      <td>Professional Equipment</td>\n",
       "      <td>106.52</td>\n",
       "      <td>Approved</td>\n",
       "      <td>106.52</td>\n",
       "      <td>Approved</td>\n",
       "      <td>2007</td>\n",
       "      <td>2002</td>\n",
       "      <td>4</td>\n",
       "      <td>3</td>\n",
       "    </tr>\n",
       "    <tr>\n",
       "      <th>7</th>\n",
       "      <td>12772</td>\n",
       "      <td>2002-06-20</td>\n",
       "      <td>2002-05-09</td>\n",
       "      <td>BWI</td>\n",
       "      <td>Baltimore/Washington Intl Thurgood Marshall</td>\n",
       "      <td>Southwest Airlines</td>\n",
       "      <td>Not Define</td>\n",
       "      <td>Checkpoint</td>\n",
       "      <td>Clothing - Shoes; belts; accessories; etc.</td>\n",
       "      <td>75.00</td>\n",
       "      <td>Approved</td>\n",
       "      <td>75.00</td>\n",
       "      <td>Approved</td>\n",
       "      <td>2002</td>\n",
       "      <td>2002</td>\n",
       "      <td>5</td>\n",
       "      <td>3</td>\n",
       "    </tr>\n",
       "  </tbody>\n",
       "</table>\n",
       "</div>"
      ],
      "text/plain": [
       "    Claim Number Date Received Incident Date Airport Code  \\\n",
       "1  0202417M      2002-02-02    2004-01-16     SEA           \n",
       "3  0909816M      2002-02-07    2003-01-06     MIA           \n",
       "4  2005032379513 2002-02-18    2005-02-05     MCO           \n",
       "6  2007050124750 2002-04-30    2007-04-26     PHL           \n",
       "7  12772         2002-06-20    2002-05-09     BWI           \n",
       "\n",
       "                                  Airport Name        Airline Name  \\\n",
       "1  Seattle-Tacoma International                 Not Define           \n",
       "3  Miami International Airport                  American Airlines    \n",
       "4  Orlando International Airport                Delta (Song)         \n",
       "6  Philadelphia International Airport           USAir                \n",
       "7  Baltimore/Washington Intl Thurgood Marshall  Southwest Airlines   \n",
       "\n",
       "                Claim Type       Claim Site  \\\n",
       "1  Property Damage          Checked Baggage   \n",
       "3  Property Damage          Checkpoint        \n",
       "4  Property Damage          Checkpoint        \n",
       "6  Passenger Property Loss  Checked Baggage   \n",
       "7  Not Define               Checkpoint        \n",
       "\n",
       "                                         Item  Claim Amount    Status  \\\n",
       "1  Luggage (all types including footlockers)   100.00        Settled    \n",
       "3  Luggage (all types including footlockers)   50.00         Approved   \n",
       "4  Baby - Strollers; car seats; playpen; etc.  84.79         Approved   \n",
       "6  Professional Equipment                      106.52        Approved   \n",
       "7  Clothing - Shoes; belts; accessories; etc.  75.00         Approved   \n",
       "\n",
       "   Close Amount Disposition  year  year_received  month  day  \n",
       "1  50.00         Settled     2004  2002           1      4    \n",
       "3  50.00         Approved    2003  2002           1      0    \n",
       "4  84.79         Approved    2005  2002           2      5    \n",
       "6  106.52        Approved    2007  2002           4      3    \n",
       "7  75.00         Approved    2002  2002           5      3    "
      ]
     },
     "execution_count": 79,
     "metadata": {},
     "output_type": "execute_result"
    }
   ],
   "source": [
    "df.head()"
   ]
  },
  {
   "cell_type": "markdown",
   "metadata": {},
   "source": [
    "# <center> **SUMMARY AND SUGGESTION** <center/>\n",
    "---\n",
    "---"
   ]
  },
  {
   "cell_type": "markdown",
   "metadata": {},
   "source": [
    "## Summary\n",
    "Hasil analisis diatas memberikan informasi terkait claim yang diajukan ke TSA antara lain sebagai berikut:\n",
    "\n",
    "1. Claim yang diajukan dari tahun ke tahun mulai mengalami penurunan, namun jumlah claim masih tinggi yaitu 5.802 insiden pada tahun 2015, sehingga perlu dilakukan evaluasi dan perbaikan.\n",
    "2. Claim type tertinggi adalah Passenger Property Loss dan Property Damage dan banyak ditemukan pada titik checked baggage.\n",
    "3. Penanganan masalah dapat difokuskan di Airport LAX dan JFK.\n",
    "4. Pada musim liburan sekolah, terjadi peningkatan claim karena lebih banyak orang bepergian."
   ]
  },
  {
   "cell_type": "markdown",
   "metadata": {},
   "source": [
    "## Suggestion\n",
    "Berikut adalah beberapa suggest yang bisa diterapkan terutama di Airport LAX dan JFK\n",
    "1. Training agen TSA secara periodik untuk meningkatkan awareness dan kemampuan agen TSA / screener terhadap penanganan benda penumpang. Tujuan training ini adalah untuk menurunkan angka claim terhadap barang yang rusak (property damage).\n",
    "2. Pihak TSA dapat membuat peraturan / kebijakan terkait sanksi berat yang diberikan kepada agen TSA yang melakukan pencurian dan atau perusakan barang penumpang agar terdapat efek jera pada agen TSA yang melakukan kecurangan.\n",
    "3. Memberikan kamera CCTV tambahan terutama pada bagian checked baggage untuk memudahkan tracking jika terjadi kehilangan dan atau kerusakan.\n",
    "4. Memberikan RFID pada koper untuk melakukan tracking baggage\n",
    "5. TSA dapat mengganti standar kunci gembok TSA menjadi lebih aman, sehingga pihak lain selain pihak TSA tidak dapat melakukan duplikasi kunci (contoh: dengan menggunakan sidik jari atau gembok canggih yang terhubung dengan data yang akan terecord siapa yang membuka gembok tersebut terakhir kali)\n",
    "6. Pada musim liburan, penanganan perlu ditingkatkan karena jumlah claim tertinggi terjadi pada bulan saat musim liburan sekolah.\n",
    "7. Melakukan penggantian X-Ray dengan X-Ray lain yang lebih proper, sehingga resiko terhadap kerusakan benda-benda elektronik akibat X-Ray dapat berkurang.\n",
    "8. Meningkatkan system input data claim TSA, agar data claim yang dianalisis dapat lebih akurat seperti:\n",
    "- Tidak dapat menggunakan special character pada claim amount dan close amount\n",
    "- Wajib mengisi seluruh kolom\n",
    "- Format pada Incident Date dan Date Received harus sama\n",
    "- Apabila kolom Status Denied, maka secara otomatis close amount akan bernilai 0."
   ]
  },
  {
   "cell_type": "code",
   "execution_count": 80,
   "metadata": {},
   "outputs": [
    {
     "name": "stdout",
     "output_type": "stream",
     "text": [
      "DataFrame is written to Excel File successfully.\n"
     ]
    }
   ],
   "source": [
    "file_name = 'TSAClaims.xlsx'\n",
    "  \n",
    "# saving the excel\n",
    "df.to_excel(file_name)\n",
    "print('DataFrame is written to Excel File successfully.')"
   ]
  }
 ],
 "metadata": {
  "kernelspec": {
   "display_name": "Python 3.10.4 64-bit",
   "language": "python",
   "name": "python3"
  },
  "language_info": {
   "codemirror_mode": {
    "name": "ipython",
    "version": 3
   },
   "file_extension": ".py",
   "mimetype": "text/x-python",
   "name": "python",
   "nbconvert_exporter": "python",
   "pygments_lexer": "ipython3",
   "version": "3.10.4"
  },
  "orig_nbformat": 4,
  "vscode": {
   "interpreter": {
    "hash": "3cb68a614320ff6d3bac34bf90d182d634953fdc97e4495ede0dd9217ef2e9cf"
   }
  }
 },
 "nbformat": 4,
 "nbformat_minor": 2
}
